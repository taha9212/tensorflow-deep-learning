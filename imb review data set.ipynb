{
 "cells": [
  {
   "cell_type": "code",
   "execution_count": 1,
   "metadata": {},
   "outputs": [],
   "source": [
    "import tensorflow as tf"
   ]
  },
  {
   "cell_type": "code",
   "execution_count": 2,
   "metadata": {},
   "outputs": [],
   "source": [
    "from tensorflow.keras.datasets import imdb"
   ]
  },
  {
   "cell_type": "code",
   "execution_count": 3,
   "metadata": {},
   "outputs": [],
   "source": [
    "(train_data, train_label),(test_data, test_label) = imdb.load_data(num_words = 10000)"
   ]
  },
  {
   "cell_type": "code",
   "execution_count": 4,
   "metadata": {},
   "outputs": [
    {
     "data": {
      "text/plain": [
       "25000"
      ]
     },
     "execution_count": 4,
     "metadata": {},
     "output_type": "execute_result"
    }
   ],
   "source": [
    "len(test_data)"
   ]
  },
  {
   "cell_type": "code",
   "execution_count": 5,
   "metadata": {},
   "outputs": [
    {
     "data": {
      "text/plain": [
       "25000"
      ]
     },
     "execution_count": 5,
     "metadata": {},
     "output_type": "execute_result"
    }
   ],
   "source": [
    "len(train_data)"
   ]
  },
  {
   "cell_type": "code",
   "execution_count": 6,
   "metadata": {},
   "outputs": [
    {
     "data": {
      "text/plain": [
       "array([1, 0, 0, 1, 0], dtype=int64)"
      ]
     },
     "execution_count": 6,
     "metadata": {},
     "output_type": "execute_result"
    }
   ],
   "source": [
    "train_label[0:5]"
   ]
  },
  {
   "cell_type": "code",
   "execution_count": 7,
   "metadata": {},
   "outputs": [
    {
     "data": {
      "text/plain": [
       "9999"
      ]
     },
     "execution_count": 7,
     "metadata": {},
     "output_type": "execute_result"
    }
   ],
   "source": [
    "max([max(seq) for seq in train_data])"
   ]
  },
  {
   "cell_type": "code",
   "execution_count": 8,
   "metadata": {},
   "outputs": [],
   "source": [
    "word_index = imdb.get_word_index()\n",
    "reverse_word_index = dict([(value, key) for (key, value) in word_index.items()])\n",
    "decoded_review = ' '.join([reverse_word_index.get(i - 3, '?') for i in train_data[0]])"
   ]
  },
  {
   "cell_type": "code",
   "execution_count": 9,
   "metadata": {},
   "outputs": [],
   "source": [
    "import numpy as np"
   ]
  },
  {
   "cell_type": "code",
   "execution_count": 10,
   "metadata": {},
   "outputs": [],
   "source": [
    "def vectorized_seq(sequence, dimension = 10000):\n",
    "    result = np.zeros((len(sequence), dimension))\n",
    "    for i, seq in enumerate(sequence):\n",
    "        result[i ,seq] = 1\n",
    "    return result"
   ]
  },
  {
   "cell_type": "code",
   "execution_count": 11,
   "metadata": {},
   "outputs": [],
   "source": [
    "x_train = vectorized_seq(train_data)\n",
    "y_test = vectorized_seq(test_data)"
   ]
  },
  {
   "cell_type": "code",
   "execution_count": 12,
   "metadata": {},
   "outputs": [
    {
     "name": "stdout",
     "output_type": "stream",
     "text": [
      "[1, 14, 22, 16, 43, 530, 973, 1622, 1385, 65, 458, 4468, 66, 3941, 4, 173, 36, 256, 5, 25, 100, 43, 838, 112, 50, 670, 2, 9, 35, 480, 284, 5, 150, 4, 172, 112, 167, 2, 336, 385, 39, 4, 172, 4536, 1111, 17, 546, 38, 13, 447, 4, 192, 50, 16, 6, 147, 2025, 19, 14, 22, 4, 1920, 4613, 469, 4, 22, 71, 87, 12, 16, 43, 530, 38, 76, 15, 13, 1247, 4, 22, 17, 515, 17, 12, 16, 626, 18, 2, 5, 62, 386, 12, 8, 316, 8, 106, 5, 4, 2223, 5244, 16, 480, 66, 3785, 33, 4, 130, 12, 16, 38, 619, 5, 25, 124, 51, 36, 135, 48, 25, 1415, 33, 6, 22, 12, 215, 28, 77, 52, 5, 14, 407, 16, 82, 2, 8, 4, 107, 117, 5952, 15, 256, 4, 2, 7, 3766, 5, 723, 36, 71, 43, 530, 476, 26, 400, 317, 46, 7, 4, 2, 1029, 13, 104, 88, 4, 381, 15, 297, 98, 32, 2071, 56, 26, 141, 6, 194, 7486, 18, 4, 226, 22, 21, 134, 476, 26, 480, 5, 144, 30, 5535, 18, 51, 36, 28, 224, 92, 25, 104, 4, 226, 65, 16, 38, 1334, 88, 12, 16, 283, 5, 16, 4472, 113, 103, 32, 15, 16, 5345, 19, 178, 32]\n"
     ]
    }
   ],
   "source": [
    "print(train_data[0])\n"
   ]
  },
  {
   "cell_type": "code",
   "execution_count": 13,
   "metadata": {},
   "outputs": [
    {
     "name": "stdout",
     "output_type": "stream",
     "text": [
      "[0. 1. 1. ... 0. 0. 0.]\n"
     ]
    }
   ],
   "source": [
    "print(x_train[0])"
   ]
  },
  {
   "cell_type": "code",
   "execution_count": 14,
   "metadata": {},
   "outputs": [],
   "source": [
    "x_label = np.array(train_label).astype(\"float32\")\n",
    "y_label = np.array(test_label).astype(\"float32\")"
   ]
  },
  {
   "cell_type": "code",
   "execution_count": 15,
   "metadata": {},
   "outputs": [
    {
     "name": "stdout",
     "output_type": "stream",
     "text": [
      "1.0\n",
      "0.0\n"
     ]
    }
   ],
   "source": [
    "print(x_label[0])\n",
    "print(y_label[0])"
   ]
  },
  {
   "cell_type": "code",
   "execution_count": 16,
   "metadata": {},
   "outputs": [],
   "source": [
    "from tensorflow.keras import models, layers, optimizers"
   ]
  },
  {
   "cell_type": "code",
   "execution_count": 17,
   "metadata": {},
   "outputs": [],
   "source": [
    "model = models.Sequential()\n",
    "model.add(layers.Dense(16, input_shape = (10000,), activation = \"relu\"))\n",
    "model.add(layers.Dense(16, activation = \"relu\"))\n",
    "model.add(layers.Dense(1, activation = \"sigmoid\"))"
   ]
  },
  {
   "cell_type": "code",
   "execution_count": 18,
   "metadata": {},
   "outputs": [],
   "source": [
    "model.compile(\n",
    "              loss = \"binary_crossentropy\",\n",
    "              optimizer = optimizers.RMSprop(),\n",
    "              metrics = ['acc']\n",
    ")"
   ]
  },
  {
   "cell_type": "code",
   "execution_count": 19,
   "metadata": {},
   "outputs": [],
   "source": [
    "train_val = x_train[:10000]\n",
    "train_partial_train = x_train[10000:]\n",
    "train_val_label = x_label[:10000]\n",
    "train_partial_label = x_label[10000:]"
   ]
  },
  {
   "cell_type": "code",
   "execution_count": 20,
   "metadata": {},
   "outputs": [
    {
     "name": "stdout",
     "output_type": "stream",
     "text": [
      "Train on 15000 samples, validate on 10000 samples\n",
      "Epoch 1/20\n",
      "15000/15000 [==============================] - 4s 274us/sample - loss: 0.5128 - acc: 0.7826 - val_loss: 0.3838 - val_acc: 0.8722\n",
      "Epoch 2/20\n",
      "15000/15000 [==============================] - 3s 168us/sample - loss: 0.3085 - acc: 0.8995 - val_loss: 0.3058 - val_acc: 0.8862\n",
      "Epoch 3/20\n",
      "15000/15000 [==============================] - 1s 95us/sample - loss: 0.2260 - acc: 0.9293 - val_loss: 0.2838 - val_acc: 0.8875\n",
      "Epoch 4/20\n",
      "15000/15000 [==============================] - 1s 93us/sample - loss: 0.1769 - acc: 0.9433 - val_loss: 0.2727 - val_acc: 0.8915\n",
      "Epoch 5/20\n",
      "15000/15000 [==============================] - 1s 96us/sample - loss: 0.1453 - acc: 0.9534 - val_loss: 0.2787 - val_acc: 0.8889\n",
      "Epoch 6/20\n",
      "15000/15000 [==============================] - 1s 99us/sample - loss: 0.1173 - acc: 0.9633 - val_loss: 0.3160 - val_acc: 0.8777\n",
      "Epoch 7/20\n",
      "15000/15000 [==============================] - 1s 98us/sample - loss: 0.0981 - acc: 0.9692 - val_loss: 0.3079 - val_acc: 0.8823\n",
      "Epoch 8/20\n",
      "15000/15000 [==============================] - 2s 101us/sample - loss: 0.0809 - acc: 0.9774 - val_loss: 0.3268 - val_acc: 0.8803\n",
      "Epoch 9/20\n",
      "15000/15000 [==============================] - 1s 94us/sample - loss: 0.0662 - acc: 0.9827 - val_loss: 0.3538 - val_acc: 0.8769\n",
      "Epoch 10/20\n",
      "15000/15000 [==============================] - 1s 89us/sample - loss: 0.0521 - acc: 0.9882 - val_loss: 0.3799 - val_acc: 0.8740\n",
      "Epoch 11/20\n",
      "15000/15000 [==============================] - 1s 96us/sample - loss: 0.0437 - acc: 0.9891 - val_loss: 0.4051 - val_acc: 0.8767\n",
      "Epoch 12/20\n",
      "15000/15000 [==============================] - 1s 91us/sample - loss: 0.0358 - acc: 0.9923 - val_loss: 0.4332 - val_acc: 0.8736\n",
      "Epoch 13/20\n",
      "15000/15000 [==============================] - 1s 92us/sample - loss: 0.0297 - acc: 0.9939 - val_loss: 0.4606 - val_acc: 0.8729\n",
      "Epoch 14/20\n",
      "15000/15000 [==============================] - 1s 95us/sample - loss: 0.0214 - acc: 0.9961 - val_loss: 0.4915 - val_acc: 0.8698\n",
      "Epoch 15/20\n",
      "15000/15000 [==============================] - 1s 94us/sample - loss: 0.0206 - acc: 0.9958 - val_loss: 0.5277 - val_acc: 0.8675\n",
      "Epoch 16/20\n",
      "15000/15000 [==============================] - 1s 89us/sample - loss: 0.0111 - acc: 0.9993 - val_loss: 0.5596 - val_acc: 0.8670\n",
      "Epoch 17/20\n",
      "15000/15000 [==============================] - 1s 92us/sample - loss: 0.0111 - acc: 0.9989 - val_loss: 0.6024 - val_acc: 0.8657\n",
      "Epoch 18/20\n",
      "15000/15000 [==============================] - 1s 93us/sample - loss: 0.0114 - acc: 0.9979 - val_loss: 0.6252 - val_acc: 0.8659\n",
      "Epoch 19/20\n",
      "15000/15000 [==============================] - 1s 96us/sample - loss: 0.0047 - acc: 0.9999 - val_loss: 0.6603 - val_acc: 0.8649\n",
      "Epoch 20/20\n",
      "15000/15000 [==============================] - 1s 87us/sample - loss: 0.0056 - acc: 0.9994 - val_loss: 0.7026 - val_acc: 0.8637\n"
     ]
    }
   ],
   "source": [
    "history = model.fit(train_partial_train,train_partial_label, epochs = 20, batch_size = 512, \n",
    "                    validation_data = (train_val, train_val_label))"
   ]
  },
  {
   "cell_type": "code",
   "execution_count": 21,
   "metadata": {},
   "outputs": [
    {
     "data": {
      "text/plain": [
       "dict_keys(['loss', 'acc', 'val_loss', 'val_acc'])"
      ]
     },
     "execution_count": 21,
     "metadata": {},
     "output_type": "execute_result"
    }
   ],
   "source": [
    "hist_dict = history.history\n",
    "hist_dict.keys()"
   ]
  },
  {
   "cell_type": "code",
   "execution_count": 22,
   "metadata": {},
   "outputs": [
    {
     "data": {
      "text/plain": [
       "dict_values([[0.5127938364028931, 0.30846692012151083, 0.22601284226576487, 0.17688953424692153, 0.14529473139444987, 0.11732483921051025, 0.09813564093907674, 0.08093479789098104, 0.06619953121344248, 0.05208962527910868, 0.0436519845465819, 0.03575710378785928, 0.02970196031530698, 0.021415816154082615, 0.02055357293188572, 0.011136358849704266, 0.011119838776687782, 0.011409372998277345, 0.0047472270662585895, 0.005622867272049189], [0.7826, 0.89953333, 0.9292667, 0.9432667, 0.9534, 0.9632667, 0.9692, 0.9774, 0.9826667, 0.9882, 0.98913336, 0.99226665, 0.9938667, 0.9961333, 0.9958, 0.9993333, 0.9988667, 0.9978667, 0.99986666, 0.9994], [0.38384629125595093, 0.30577509870529174, 0.28380972576141356, 0.27268632025718686, 0.2786651471614838, 0.31595275659561156, 0.3078644762516022, 0.3268296112537384, 0.35380830430984495, 0.3798718084335327, 0.4051045471191406, 0.43321709752082826, 0.46059062027931214, 0.49146033043861387, 0.5277282351016999, 0.5596423447608948, 0.6023856090545654, 0.625169406414032, 0.6602731694221496, 0.7025878517150879], [0.8722, 0.8862, 0.8875, 0.8915, 0.8889, 0.8777, 0.8823, 0.8803, 0.8769, 0.874, 0.8767, 0.8736, 0.8729, 0.8698, 0.8675, 0.867, 0.8657, 0.8659, 0.8649, 0.8637]])"
      ]
     },
     "execution_count": 22,
     "metadata": {},
     "output_type": "execute_result"
    }
   ],
   "source": [
    "hist_dict.values()"
   ]
  },
  {
   "cell_type": "code",
   "execution_count": 23,
   "metadata": {},
   "outputs": [],
   "source": [
    "import matplotlib.pyplot as plt"
   ]
  },
  {
   "cell_type": "code",
   "execution_count": 24,
   "metadata": {},
   "outputs": [],
   "source": [
    "train_loss = hist_dict['loss']\n",
    "val_loss = hist_dict['val_loss']\n",
    "train_acc = hist_dict['acc']\n",
    "val_acc = hist_dict['val_acc']"
   ]
  },
  {
   "cell_type": "code",
   "execution_count": 25,
   "metadata": {},
   "outputs": [],
   "source": [
    "epochs = range (1, 21)"
   ]
  },
  {
   "cell_type": "code",
   "execution_count": 26,
   "metadata": {},
   "outputs": [
    {
     "data": {
      "image/png": "[encoded data removed]",
      "text/plain": [
       "<Figure size 432x288 with 1 Axes>"
      ]
     },
     "metadata": {
      "needs_background": "light"
     },
     "output_type": "display_data"
    }
   ],
   "source": [
    "plt.plot(epochs, train_loss, 'go', label = \"Train loss\")\n",
    "plt.plot(epochs, val_loss, 'b', label = \"Valdidation loss\")\n",
    "plt.title(\"Training and Validation loss\")\n",
    "plt.xlabel(\"Epochs\")\n",
    "plt.ylabel(\"Loss\")\n",
    "plt.legend(loc = \"upper center\")\n",
    "plt.show()"
   ]
  },
  {
   "cell_type": "code",
   "execution_count": 27,
   "metadata": {},
   "outputs": [
    {
     "data": {
      "image/png": "[encoded data removed]",
      "text/plain": [
       "<Figure size 432x288 with 1 Axes>"
      ]
     },
     "metadata": {
      "needs_background": "light"
     },
     "output_type": "display_data"
    }
   ],
   "source": [
    "plt.plot(epochs, train_acc, 'go', label = \"Train accuracy\")\n",
    "plt.plot(epochs, val_acc, \"b\", label = \"validation accuracy\")\n",
    "plt.ylabel(\"Accuracy\")\n",
    "plt.xlabel(\"Epochs\")\n",
    "plt.legend()\n",
    "plt.show()"
   ]
  },
  {
   "cell_type": "code",
   "execution_count": 28,
   "metadata": {},
   "outputs": [
    {
     "name": "stdout",
     "output_type": "stream",
     "text": [
      "Train on 25000 samples\n",
      "Epoch 1/4\n",
      "25000/25000 [==============================] - 2s 75us/sample - loss: 0.4942 - acc: 0.8066\n",
      "Epoch 2/4\n",
      "25000/25000 [==============================] - 1s 58us/sample - loss: 0.2872 - acc: 0.9055\n",
      "Epoch 3/4\n",
      "25000/25000 [==============================] - 1s 57us/sample - loss: 0.2112 - acc: 0.9268\n",
      "Epoch 4/4\n",
      "25000/25000 [==============================] - 1s 57us/sample - loss: 0.1725 - acc: 0.9401\n"
     ]
    }
   ],
   "source": [
    "model = models.Sequential()\n",
    "model.add(layers.Dense(16, input_shape = (10000,), activation = \"relu\"))\n",
    "model.add(layers.Dense(16, activation = \"relu\"))\n",
    "model.add(layers.Dense(1, activation = \"sigmoid\"))\n",
    "\n",
    "\n",
    "model.compile(loss = \"binary_crossentropy\", optimizer = optimizers.RMSprop(), metrics = ['acc'])\n",
    "\n",
    "\n",
    "history_1 = model.fit(x_train, x_label, epochs = 4, batch_size = 512)"
   ]
  },
  {
   "cell_type": "code",
   "execution_count": 30,
   "metadata": {},
   "outputs": [
    {
     "name": "stdout",
     "output_type": "stream",
     "text": [
      "25000/25000 [==============================] - 3s 113us/sample - loss: 0.2977 - acc: 0.8820\n"
     ]
    }
   ],
   "source": [
    "result = model.evaluate(y_test, y_label)"
   ]
  },
  {
   "cell_type": "code",
   "execution_count": 31,
   "metadata": {},
   "outputs": [
    {
     "name": "stdout",
     "output_type": "stream",
     "text": [
      "[0.2976608890247345, 0.88204]\n"
     ]
    }
   ],
   "source": [
    "print(result)"
   ]
  },
  {
   "cell_type": "code",
   "execution_count": 32,
   "metadata": {},
   "outputs": [
    {
     "data": {
      "text/plain": [
       "array([[0.1709585 ],\n",
       "       [0.99998343],\n",
       "       [0.8116019 ],\n",
       "       ...,\n",
       "       [0.08790119],\n",
       "       [0.06916829],\n",
       "       [0.5916366 ]], dtype=float32)"
      ]
     },
     "execution_count": 32,
     "metadata": {},
     "output_type": "execute_result"
    }
   ],
   "source": [
    "model.predict(y_test)"
   ]
  },
  {
   "cell_type": "code",
   "execution_count": 33,
   "metadata": {},
   "outputs": [
    {
     "name": "stdout",
     "output_type": "stream",
     "text": [
      "Train on 25000 samples\n",
      "Epoch 1/4\n",
      "25000/25000 [==============================] - 3s 135us/sample - loss: 0.5017 - acc: 0.7662\n",
      "Epoch 2/4\n",
      "25000/25000 [==============================] - 2s 78us/sample - loss: 0.2722 - acc: 0.9063\n",
      "Epoch 3/4\n",
      "25000/25000 [==============================] - 2s 65us/sample - loss: 0.2034 - acc: 0.9269\n",
      "Epoch 4/4\n",
      "25000/25000 [==============================] - 2s 62us/sample - loss: 0.1704 - acc: 0.9380\n"
     ]
    }
   ],
   "source": [
    "model = models.Sequential()\n",
    "model.add(layers.Dense(16, input_shape = (10000,), activation = \"relu\"))\n",
    "model.add(layers.Dense(16, activation = \"relu\"))\n",
    "model.add(layers.Dense(16, activation = \"relu\"))\n",
    "model.add(layers.Dense(1, activation = \"sigmoid\"))\n",
    "\n",
    "\n",
    "model.compile(loss = \"binary_crossentropy\", optimizer = optimizers.RMSprop(), metrics = ['acc'])\n",
    "\n",
    "\n",
    "history_1 = model.fit(x_train, x_label, epochs = 4, batch_size = 512)"
   ]
  },
  {
   "cell_type": "code",
   "execution_count": 34,
   "metadata": {},
   "outputs": [
    {
     "name": "stdout",
     "output_type": "stream",
     "text": [
      "25000/25000 [==============================] - 2s 97us/sample - loss: 0.3037 - acc: 0.8822\n"
     ]
    }
   ],
   "source": [
    "result = model.evaluate(y_test, y_label)"
   ]
  },
  {
   "cell_type": "code",
   "execution_count": 35,
   "metadata": {},
   "outputs": [
    {
     "data": {
      "text/plain": [
       "array([[0.19055046],\n",
       "       [0.9967919 ],\n",
       "       [0.88725245],\n",
       "       ...,\n",
       "       [0.116492  ],\n",
       "       [0.08415634],\n",
       "       [0.8063047 ]], dtype=float32)"
      ]
     },
     "execution_count": 35,
     "metadata": {},
     "output_type": "execute_result"
    }
   ],
   "source": [
    "model.predict(y_test)"
   ]
  },
  {
   "cell_type": "code",
   "execution_count": 37,
   "metadata": {},
   "outputs": [
    {
     "name": "stdout",
     "output_type": "stream",
     "text": [
      "Train on 25000 samples\n",
      "Epoch 1/4\n",
      "25000/25000 [==============================] - 4s 142us/sample - loss: 0.4285 - acc: 0.8381\n",
      "Epoch 2/4\n",
      "25000/25000 [==============================] - 2s 72us/sample - loss: 0.2660 - acc: 0.9097\n",
      "Epoch 3/4\n",
      "25000/25000 [==============================] - 2s 62us/sample - loss: 0.2119 - acc: 0.9271\n",
      "Epoch 4/4\n",
      "25000/25000 [==============================] - 2s 61us/sample - loss: 0.1812 - acc: 0.9382\n",
      "25000/25000 [==============================] - 2s 92us/sample - loss: 0.2866 - acc: 0.8844\n"
     ]
    }
   ],
   "source": [
    "model = models.Sequential()\n",
    "model.add(layers.Dense(16, input_shape = (10000,), activation = \"relu\"))\n",
    "model.add(layers.Dense(1, activation = \"sigmoid\"))\n",
    "\n",
    "\n",
    "model.compile(loss = \"binary_crossentropy\", optimizer = optimizers.RMSprop(), metrics = ['acc'])\n",
    "\n",
    "\n",
    "history_1 = model.fit(x_train, x_label, epochs = 4, batch_size = 512)\n",
    "\n",
    "result = model.evaluate(y_test, y_label)"
   ]
  },
  {
   "cell_type": "code",
   "execution_count": 38,
   "metadata": {},
   "outputs": [
    {
     "name": "stdout",
     "output_type": "stream",
     "text": [
      "Train on 25000 samples\n",
      "Epoch 1/4\n",
      "25000/25000 [==============================] - 3s 116us/sample - loss: 0.1415 - acc: 0.8290\n",
      "Epoch 2/4\n",
      "25000/25000 [==============================] - 2s 67us/sample - loss: 0.0798 - acc: 0.9115\n",
      "Epoch 3/4\n",
      "25000/25000 [==============================] - 1s 59us/sample - loss: 0.0621 - acc: 0.9301\n",
      "Epoch 4/4\n",
      "25000/25000 [==============================] - 1s 60us/sample - loss: 0.0524 - acc: 0.9405\n",
      "25000/25000 [==============================] - 2s 83us/sample - loss: 0.0850 - acc: 0.8860\n"
     ]
    }
   ],
   "source": [
    "model = models.Sequential()\n",
    "model.add(layers.Dense(16, input_shape = (10000,), activation = \"relu\"))\n",
    "model.add(layers.Dense(1, activation = \"sigmoid\"))\n",
    "\n",
    "\n",
    "model.compile(loss = \"mse\", optimizer = optimizers.RMSprop(), metrics = ['acc'])\n",
    "\n",
    "\n",
    "history_1 = model.fit(x_train, x_label, epochs = 4, batch_size = 512)\n",
    "\n",
    "result = model.evaluate(y_test, y_label)"
   ]
  },
  {
   "cell_type": "code",
   "execution_count": 39,
   "metadata": {},
   "outputs": [
    {
     "name": "stdout",
     "output_type": "stream",
     "text": [
      "Train on 25000 samples\n",
      "Epoch 1/4\n",
      "25000/25000 [==============================] - 3s 117us/sample - loss: 0.1583 - acc: 0.8061\n",
      "Epoch 2/4\n",
      "25000/25000 [==============================] - 2s 63us/sample - loss: 0.0796 - acc: 0.9083\n",
      "Epoch 3/4\n",
      "25000/25000 [==============================] - 2s 66us/sample - loss: 0.0594 - acc: 0.9296\n",
      "Epoch 4/4\n",
      "25000/25000 [==============================] - 1s 57us/sample - loss: 0.0483 - acc: 0.9439\n",
      "25000/25000 [==============================] - 2s 83us/sample - loss: 0.0853 - acc: 0.8854\n"
     ]
    }
   ],
   "source": [
    "model = models.Sequential()\n",
    "model.add(layers.Dense(16, input_shape = (10000,), activation = \"relu\"))\n",
    "model.add(layers.Dense(16, activation = \"relu\"))\n",
    "model.add(layers.Dense(1, activation = \"sigmoid\"))\n",
    "\n",
    "\n",
    "model.compile(loss = \"mse\", optimizer = optimizers.RMSprop(), metrics = ['acc'])\n",
    "\n",
    "\n",
    "history_1 = model.fit(x_train, x_label, epochs = 4, batch_size = 512)\n",
    "\n",
    "result = model.evaluate(y_test, y_label)"
   ]
  },
  {
   "cell_type": "code",
   "execution_count": 40,
   "metadata": {},
   "outputs": [
    {
     "name": "stdout",
     "output_type": "stream",
     "text": [
      "Train on 25000 samples\n",
      "Epoch 1/4\n",
      "25000/25000 [==============================] - 23s 914us/sample - loss: 0.1485 - acc: 0.8190\n",
      "Epoch 2/4\n",
      "25000/25000 [==============================] - 2s 64us/sample - loss: 0.0754 - acc: 0.9099\n",
      "Epoch 3/4\n",
      "25000/25000 [==============================] - 2s 61us/sample - loss: 0.0564 - acc: 0.9331\n",
      "Epoch 4/4\n",
      "25000/25000 [==============================] - 1s 57us/sample - loss: 0.0465 - acc: 0.9436\n",
      "25000/25000 [==============================] - 2s 87us/sample - loss: 0.0906 - acc: 0.8783\n"
     ]
    }
   ],
   "source": [
    "model = models.Sequential()\n",
    "model.add(layers.Dense(16, input_shape = (10000,), activation = \"relu\"))\n",
    "model.add(layers.Dense(16, activation = \"relu\"))\n",
    "model.add(layers.Dense(16, activation = \"relu\"))\n",
    "model.add(layers.Dense(1, activation = \"sigmoid\"))\n",
    "\n",
    "\n",
    "model.compile(loss = \"mse\", optimizer = optimizers.RMSprop(), metrics = ['acc'])\n",
    "\n",
    "\n",
    "history_1 = model.fit(x_train, x_label, epochs = 4, batch_size = 512)\n",
    "\n",
    "result = model.evaluate(y_test, y_label)"
   ]
  },
  {
   "cell_type": "code",
   "execution_count": 41,
   "metadata": {},
   "outputs": [
    {
     "name": "stdout",
     "output_type": "stream",
     "text": [
      "Train on 25000 samples\n",
      "Epoch 1/4\n",
      "25000/25000 [==============================] - 3s 137us/sample - loss: 0.1844 - acc: 0.7582\n",
      "Epoch 2/4\n",
      "25000/25000 [==============================] - 1s 60us/sample - loss: 0.0794 - acc: 0.9142\n",
      "Epoch 3/4\n",
      "25000/25000 [==============================] - 1s 59us/sample - loss: 0.0519 - acc: 0.9412\n",
      "Epoch 4/4\n",
      "25000/25000 [==============================] - 1s 57us/sample - loss: 0.0389 - acc: 0.9586\n",
      "25000/25000 [==============================] - 2s 79us/sample - loss: 0.0903 - acc: 0.8783\n"
     ]
    }
   ],
   "source": [
    "model = models.Sequential()\n",
    "model.add(layers.Dense(16, input_shape = (10000,), activation = \"relu\"))\n",
    "model.add(layers.Dense(16, activation = \"relu\"))\n",
    "model.add(layers.Dense(16, activation = \"relu\"))\n",
    "model.add(layers.Dense(1, activation = \"sigmoid\"))\n",
    "\n",
    "\n",
    "model.compile(loss = \"mse\", optimizer = optimizers.Adam(), metrics = ['acc'])\n",
    "\n",
    "\n",
    "history_1 = model.fit(x_train, x_label, epochs = 4, batch_size = 512)\n",
    "\n",
    "result = model.evaluate(y_test, y_label)"
   ]
  },
  {
   "cell_type": "code",
   "execution_count": 42,
   "metadata": {},
   "outputs": [
    {
     "name": "stdout",
     "output_type": "stream",
     "text": [
      "Train on 25000 samples\n",
      "Epoch 1/4\n",
      "25000/25000 [==============================] - 3s 104us/sample - loss: 0.1108 - acc: 0.8613\n",
      "Epoch 2/4\n",
      "25000/25000 [==============================] - 2s 71us/sample - loss: 0.0604 - acc: 0.9209\n",
      "Epoch 3/4\n",
      "25000/25000 [==============================] - 2s 72us/sample - loss: 0.0470 - acc: 0.9413\n",
      "Epoch 4/4\n",
      "25000/25000 [==============================] - 2s 74us/sample - loss: 0.0379 - acc: 0.9530\n"
     ]
    }
   ],
   "source": [
    "model = models.Sequential()\n",
    "model.add(layers.Dense(16, input_shape = (10000,), activation = \"relu\"))\n",
    "model.add(layers.Dense(16, activation = \"relu\"))\n",
    "model.add(layers.Dense(16, activation = \"relu\"))\n",
    "model.add(layers.Dense(1, activation = \"sigmoid\"))\n",
    "\n",
    "\n",
    "model.compile(loss = \"mse\", optimizer = optimizers.RMSprop(), metrics = ['acc'])\n",
    "\n",
    "\n",
    "history_1 = model.fit(x_train, x_label, epochs = 4, batch_size = 128)\n"
   ]
  },
  {
   "cell_type": "code",
   "execution_count": 43,
   "metadata": {},
   "outputs": [
    {
     "name": "stdout",
     "output_type": "stream",
     "text": [
      "25000/25000 [==============================] - 2s 77us/sample - loss: 0.1008 - acc: 0.8719\n"
     ]
    }
   ],
   "source": [
    "result = model.evaluate(y_test, y_label)"
   ]
  },
  {
   "cell_type": "code",
   "execution_count": 44,
   "metadata": {},
   "outputs": [
    {
     "name": "stdout",
     "output_type": "stream",
     "text": [
      "Train on 25000 samples\n",
      "Epoch 1/4\n",
      "25000/25000 [==============================] - 2s 86us/sample - loss: 0.1196 - acc: 0.8468\n",
      "Epoch 2/4\n",
      "25000/25000 [==============================] - 2s 69us/sample - loss: 0.0563 - acc: 0.9296\n",
      "Epoch 3/4\n",
      "25000/25000 [==============================] - 2s 71us/sample - loss: 0.0403 - acc: 0.9525\n",
      "Epoch 4/4\n",
      "25000/25000 [==============================] - 2s 70us/sample - loss: 0.0292 - acc: 0.9674\n",
      "25000/25000 [==============================] - 2s 76us/sample - loss: 0.1056 - acc: 0.8676\n"
     ]
    }
   ],
   "source": [
    "model = models.Sequential()\n",
    "model.add(layers.Dense(16, input_shape = (10000,), activation = \"relu\"))\n",
    "model.add(layers.Dense(16, activation = \"relu\"))\n",
    "model.add(layers.Dense(16, activation = \"relu\"))\n",
    "model.add(layers.Dense(1, activation = \"sigmoid\"))\n",
    "\n",
    "\n",
    "model.compile(loss = \"mse\", optimizer = optimizers.Adam(), metrics = ['acc'])\n",
    "\n",
    "\n",
    "history_1 = model.fit(x_train, x_label, epochs = 4, batch_size = 128)\n",
    "\n",
    "result = model.evaluate(y_test, y_label)"
   ]
  },
  {
   "cell_type": "code",
   "execution_count": 46,
   "metadata": {},
   "outputs": [
    {
     "name": "stdout",
     "output_type": "stream",
     "text": [
      "Train on 25000 samples\n",
      "Epoch 1/4\n",
      "25000/25000 [==============================] - 2s 82us/sample - loss: 0.4491 - acc: 0.8178\n",
      "Epoch 2/4\n",
      "25000/25000 [==============================] - 2s 65us/sample - loss: 0.2558 - acc: 0.9124\n",
      "Epoch 3/4\n",
      "25000/25000 [==============================] - 2s 61us/sample - loss: 0.2023 - acc: 0.9310\n",
      "Epoch 4/4\n",
      "25000/25000 [==============================] - 2s 62us/sample - loss: 0.1713 - acc: 0.9431\n",
      "25000/25000 [==============================] - 2s 76us/sample - loss: 0.2923 - acc: 0.8830\n"
     ]
    }
   ],
   "source": [
    "model = models.Sequential()\n",
    "model.add(layers.Dense(16, input_shape = (10000,), activation = \"relu\"))\n",
    "model.add(layers.Dense(1, activation = \"sigmoid\"))\n",
    "\n",
    "\n",
    "model.compile(loss = \"binary_crossentropy\", optimizer = optimizers.Adam(), metrics = ['acc'])\n",
    "\n",
    "\n",
    "history_1 = model.fit(x_train, x_label, epochs = 4, batch_size = 512)\n",
    "\n",
    "result = model.evaluate(y_test, y_label)"
   ]
  },
  {
   "cell_type": "code",
   "execution_count": 47,
   "metadata": {},
   "outputs": [
    {
     "name": "stdout",
     "output_type": "stream",
     "text": [
      "Train on 25000 samples\n",
      "Epoch 1/4\n",
      "25000/25000 [==============================] - 2s 83us/sample - loss: 0.1536 - acc: 0.8198\n",
      "Epoch 2/4\n",
      "25000/25000 [==============================] - 2s 64us/sample - loss: 0.0800 - acc: 0.9108\n",
      "Epoch 3/4\n",
      "25000/25000 [==============================] - 1s 59us/sample - loss: 0.0619 - acc: 0.9327\n",
      "Epoch 4/4\n",
      "25000/25000 [==============================] - 1s 60us/sample - loss: 0.0514 - acc: 0.9460\n",
      "25000/25000 [==============================] - 2s 78us/sample - loss: 0.0863 - acc: 0.8840\n"
     ]
    }
   ],
   "source": [
    "model = models.Sequential()\n",
    "model.add(layers.Dense(16, input_shape = (10000,), activation = \"relu\"))\n",
    "model.add(layers.Dense(1, activation = \"sigmoid\"))\n",
    "\n",
    "\n",
    "model.compile(loss = \"mse\", optimizer = optimizers.Adam(), metrics = ['acc'])\n",
    "\n",
    "\n",
    "history_1 = model.fit(x_train, x_label, epochs = 4, batch_size = 512)\n",
    "\n",
    "result = model.evaluate(y_test, y_label)"
   ]
  },
  {
   "cell_type": "code",
   "execution_count": 49,
   "metadata": {},
   "outputs": [
    {
     "name": "stdout",
     "output_type": "stream",
     "text": [
      "Train on 25000 samples\n",
      "Epoch 1/4\n",
      "25000/25000 [==============================] - 2s 81us/sample - loss: 0.1411 - acc: 0.8082\n",
      "Epoch 2/4\n",
      "25000/25000 [==============================] - 2s 71us/sample - loss: 0.0702 - acc: 0.9165\n",
      "Epoch 3/4\n",
      "25000/25000 [==============================] - 2s 71us/sample - loss: 0.0523 - acc: 0.9383\n",
      "Epoch 4/4\n",
      "25000/25000 [==============================] - 2s 63us/sample - loss: 0.0398 - acc: 0.9556\n",
      "25000/25000 [==============================] - 2s 87us/sample - loss: 0.0878 - acc: 0.8811\n"
     ]
    }
   ],
   "source": [
    "model = models.Sequential()\n",
    "model.add(layers.Dense(16, input_shape = (10000,), activation = \"relu\"))\n",
    "model.add(layers.Dense(1, activation = \"tanh\"))\n",
    "\n",
    "\n",
    "model.compile(loss = \"mse\", optimizer = optimizers.RMSprop(), metrics = ['acc'])\n",
    "\n",
    "\n",
    "history_1 = model.fit(x_train, x_label, epochs = 4, batch_size = 512)\n",
    "\n",
    "result = model.evaluate(y_test, y_label)"
   ]
  },
  {
   "cell_type": "code",
   "execution_count": null,
   "metadata": {},
   "outputs": [],
   "source": []
  }
 ],
 "metadata": {
  "kernelspec": {
   "display_name": "Python 3",
   "language": "python",
   "name": "python3"
  },
  "language_info": {
   "codemirror_mode": {
    "name": "ipython",
    "version": 3
   },
   "file_extension": ".py",
   "mimetype": "text/x-python",
   "name": "python",
   "nbconvert_exporter": "python",
   "pygments_lexer": "ipython3",
   "version": "3.7.3"
  }
 },
 "nbformat": 4,
 "nbformat_minor": 2
}
