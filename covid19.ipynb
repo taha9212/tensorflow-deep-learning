{
  "nbformat": 4,
  "nbformat_minor": 0,
  "metadata": {
    "colab": {
      "name": "covid19.ipynb",
      "provenance": []
    },
    "kernelspec": {
      "name": "python3",
      "display_name": "Python 3"
    },
    "accelerator": "GPU"
  },
  "cells": [
    {
      "cell_type": "code",
      "metadata": {
        "id": "hMB0wL7R71zF",
        "colab_type": "code",
        "colab": {}
      },
      "source": [
        "from google.colab import drive\n",
        "#drive.mount(\"/content/drive\")"
      ],
      "execution_count": 0,
      "outputs": []
    },
    {
      "cell_type": "code",
      "metadata": {
        "id": "4iK1ZLEj8piy",
        "colab_type": "code",
        "colab": {}
      },
      "source": [
        "!unzip \"drive/My Drive/deeplearning/covid.zip\""
      ],
      "execution_count": 0,
      "outputs": []
    },
    {
      "cell_type": "code",
      "metadata": {
        "id": "BPWtb4fI-bFx",
        "colab_type": "code",
        "outputId": "3973f94f-14cd-43ed-d7c0-f4c92ca8f8a3",
        "colab": {
          "base_uri": "https://localhost:8080/",
          "height": 35
        }
      },
      "source": [
        "import os\n",
        "def create_path(path) :\n",
        "  if os.path.exists(path):\n",
        "    print(\"Path already exist\")\n",
        "  else:\n",
        "    os.mkdir(path)\n",
        "    print(\"Created!\")\n",
        "data_dir = \"data\"\n",
        "create_path(data_dir)"
      ],
      "execution_count": 0,
      "outputs": [
        {
          "output_type": "stream",
          "text": [
            "Created!\n"
          ],
          "name": "stdout"
        }
      ]
    },
    {
      "cell_type": "code",
      "metadata": {
        "id": "RvVa2oYl-D1J",
        "colab_type": "code",
        "colab": {}
      },
      "source": [
        "!mv train data"
      ],
      "execution_count": 0,
      "outputs": []
    },
    {
      "cell_type": "code",
      "metadata": {
        "id": "QiK1vzFm_juG",
        "colab_type": "code",
        "outputId": "7c8a1961-74d9-4779-d0b3-b53fc84060c0",
        "colab": {
          "base_uri": "https://localhost:8080/",
          "height": 35
        }
      },
      "source": [
        "!ls data"
      ],
      "execution_count": 0,
      "outputs": [
        {
          "output_type": "stream",
          "text": [
            "test  train\n"
          ],
          "name": "stdout"
        }
      ]
    },
    {
      "cell_type": "code",
      "metadata": {
        "id": "1082stMfADes",
        "colab_type": "code",
        "colab": {}
      },
      "source": [
        "!mv test data"
      ],
      "execution_count": 0,
      "outputs": []
    },
    {
      "cell_type": "code",
      "metadata": {
        "id": "pgzdNLvaAD0M",
        "colab_type": "code",
        "colab": {}
      },
      "source": [
        "!mv val data"
      ],
      "execution_count": 0,
      "outputs": []
    },
    {
      "cell_type": "code",
      "metadata": {
        "id": "67o2J8bBAMHl",
        "colab_type": "code",
        "colab": {}
      },
      "source": [
        "test_dir = \"data/test\"\n",
        "train_dir = \"data/train\"\n",
        "val_dir = \"data/val\""
      ],
      "execution_count": 0,
      "outputs": []
    },
    {
      "cell_type": "code",
      "metadata": {
        "id": "l6HqbirP89Sf",
        "colab_type": "code",
        "colab": {}
      },
      "source": [
        "from tensorflow.keras.preprocessing.image import ImageDataGenerator"
      ],
      "execution_count": 0,
      "outputs": []
    },
    {
      "cell_type": "code",
      "metadata": {
        "id": "0zzNpcUS9hdu",
        "colab_type": "code",
        "outputId": "40a4683f-ffc0-4e50-a66d-bb501747a66c",
        "colab": {
          "base_uri": "https://localhost:8080/",
          "height": 54
        }
      },
      "source": [
        "train_gen = ImageDataGenerator(rescale = 1./255)\n",
        "val_gen = ImageDataGenerator(rescale = 1./255)\n",
        "\n",
        "train_generator = train_gen.flow_from_directory(\n",
        "    train_dir,\n",
        "    target_size = (150,150),\n",
        "    batch_size = 20,\n",
        "    class_mode = \"binary\"\n",
        ")\n",
        "val_generator = train_gen.flow_from_directory(\n",
        "    val_dir,\n",
        "    target_size = (150,150),\n",
        "    batch_size = 20,\n",
        "    class_mode = \"binary\"\n",
        ")"
      ],
      "execution_count": 0,
      "outputs": [
        {
          "output_type": "stream",
          "text": [
            "Found 244 images belonging to 2 classes.\n",
            "Found 20 images belonging to 2 classes.\n"
          ],
          "name": "stdout"
        }
      ]
    },
    {
      "cell_type": "code",
      "metadata": {
        "id": "6Heg-mGfBOCI",
        "colab_type": "code",
        "colab": {}
      },
      "source": [
        "from tensorflow.keras import models, layers, optimizers"
      ],
      "execution_count": 0,
      "outputs": []
    },
    {
      "cell_type": "code",
      "metadata": {
        "id": "s_OYABeMBdN-",
        "colab_type": "code",
        "colab": {}
      },
      "source": [
        "model = models.Sequential()\n",
        "model.add(layers.Conv2D(32, (3,3), activation = \"relu\", input_shape = (150,150,3)))\n",
        "model.add(layers.MaxPooling2D(2,2))\n",
        "model.add(layers.Conv2D(64, (3,3), activation = \"relu\"))\n",
        "model.add(layers.MaxPooling2D(2,2))\n",
        "model.add(layers.Conv2D(128, (3,3), activation = \"relu\"))\n",
        "model.add(layers.MaxPooling2D(2,2))\n",
        "model.add(layers.Conv2D(128, (3,3), activation = \"relu\"))\n",
        "model.add(layers.MaxPooling2D(2,2))\n",
        "model.add(layers.Flatten())\n",
        "model.add(layers.Dense(512, activation = \"relu\"))\n",
        "model.add(layers.Dense(1, activation = \"sigmoid\"))"
      ],
      "execution_count": 0,
      "outputs": []
    },
    {
      "cell_type": "code",
      "metadata": {
        "id": "jVKYFg7MDaNB",
        "colab_type": "code",
        "colab": {}
      },
      "source": [
        "model.compile(\n",
        "    loss = \"binary_crossentropy\",\n",
        "    optimizer = optimizers.RMSprop(),\n",
        "    metrics = ['acc']\n",
        ")"
      ],
      "execution_count": 0,
      "outputs": []
    },
    {
      "cell_type": "code",
      "metadata": {
        "id": "WxgplbxwGY_w",
        "colab_type": "code",
        "colab": {}
      },
      "source": [
        "import pickle \n",
        "def save_data(model, history, iteration):\n",
        "  model_file = storagepath + \"covid19_model\" + str(iteration).strip() + \".h5\"\n",
        "  historyfile = storagepath + \"covid19_history\" + str(iteration).strip() + \".pkle\"\n",
        "  model.save(model_file)\n",
        "  with open(historyfile, \"wb\") as fp:\n",
        "    pickle.dump(history.history, fp)\n",
        "  return model, history\n",
        "def load_data(iteration):\n",
        "  model_file = storagepath + \"covid19_model\" + str(iteration).strip() + \".h5\"\n",
        "  historyfile = storagepath + \"covid19_history\" + str(iteration).strip() + \".pkle\"\n",
        "  model = models.load_model(model_file)\n",
        "  with open(historyfile, \"rb\") as fp:\n",
        "    history = pickle.load(fp)\n",
        "  return model,  history"
      ],
      "execution_count": 0,
      "outputs": []
    },
    {
      "cell_type": "code",
      "metadata": {
        "id": "RZg3xkXHemHj",
        "colab_type": "code",
        "colab": {}
      },
      "source": [
        "storagepath = \"drive/My Drive/deeplearning/\""
      ],
      "execution_count": 0,
      "outputs": []
    },
    {
      "cell_type": "code",
      "metadata": {
        "id": "Y47zGryBEJiB",
        "colab_type": "code",
        "outputId": "f823ef70-7798-4d1f-aacc-1a7702f2ec02",
        "colab": {
          "base_uri": "https://localhost:8080/",
          "height": 1000
        }
      },
      "source": [
        "history = model.fit(\n",
        "    train_generator,\n",
        "    steps_per_epoch = 70,\n",
        "    epochs = 30,\n",
        "    validation_data = val_generator,\n",
        "    validation_steps = 30\n",
        ")"
      ],
      "execution_count": 0,
      "outputs": [
        {
          "output_type": "stream",
          "text": [
            "Epoch 1/30\n",
            "70/70 [==============================] - 48s 681ms/step - loss: 0.4308 - acc: 0.8114 - val_loss: 0.2730 - val_acc: 0.9500\n",
            "Epoch 2/30\n",
            "70/70 [==============================] - 48s 686ms/step - loss: 0.2583 - acc: 0.9477 - val_loss: 0.0247 - val_acc: 1.0000\n",
            "Epoch 3/30\n",
            "70/70 [==============================] - 47s 677ms/step - loss: 0.0076 - acc: 0.9962 - val_loss: 0.6479 - val_acc: 0.9500\n",
            "Epoch 4/30\n",
            "70/70 [==============================] - 47s 675ms/step - loss: 9.0006e-06 - acc: 1.0000 - val_loss: 0.7922 - val_acc: 0.9500\n",
            "Epoch 5/30\n",
            "70/70 [==============================] - 48s 679ms/step - loss: 1.0560e-07 - acc: 1.0000 - val_loss: 0.6424 - val_acc: 0.9500\n",
            "Epoch 6/30\n",
            "70/70 [==============================] - 48s 680ms/step - loss: 0.1305 - acc: 0.9839 - val_loss: 0.4411 - val_acc: 0.9500\n",
            "Epoch 7/30\n",
            "70/70 [==============================] - 48s 685ms/step - loss: 0.0059 - acc: 0.9970 - val_loss: 0.0738 - val_acc: 0.9500\n",
            "Epoch 8/30\n",
            "70/70 [==============================] - 48s 681ms/step - loss: 5.2269e-06 - acc: 1.0000 - val_loss: 0.0479 - val_acc: 0.9500\n",
            "Epoch 9/30\n",
            "70/70 [==============================] - 48s 684ms/step - loss: 0.5518 - acc: 0.9841 - val_loss: 0.3132 - val_acc: 0.9500\n",
            "Epoch 10/30\n",
            "70/70 [==============================] - 49s 696ms/step - loss: 1.7233e-05 - acc: 1.0000 - val_loss: 0.5706 - val_acc: 0.9500\n",
            "Epoch 11/30\n",
            "70/70 [==============================] - 48s 691ms/step - loss: 3.1596e-07 - acc: 1.0000 - val_loss: 0.6142 - val_acc: 0.9500\n",
            "Epoch 12/30\n",
            "70/70 [==============================] - 49s 707ms/step - loss: 1.0242e-08 - acc: 1.0000 - val_loss: 0.5203 - val_acc: 0.9500\n",
            "Epoch 13/30\n",
            "70/70 [==============================] - 48s 692ms/step - loss: 3.1028e-10 - acc: 1.0000 - val_loss: 0.5040 - val_acc: 0.9500\n",
            "Epoch 14/30\n",
            "70/70 [==============================] - 49s 702ms/step - loss: 9.1212e-11 - acc: 1.0000 - val_loss: 0.5859 - val_acc: 0.9500\n",
            "Epoch 15/30\n",
            "70/70 [==============================] - 50s 710ms/step - loss: 1.3477e-10 - acc: 1.0000 - val_loss: 0.6089 - val_acc: 0.9500\n",
            "Epoch 16/30\n",
            "70/70 [==============================] - 50s 712ms/step - loss: 1.8626e-10 - acc: 1.0000 - val_loss: 0.4643 - val_acc: 0.9500\n",
            "Epoch 17/30\n",
            "70/70 [==============================] - 50s 716ms/step - loss: 2.3876e-11 - acc: 1.0000 - val_loss: 0.4995 - val_acc: 0.9500\n",
            "Epoch 18/30\n",
            "70/70 [==============================] - 49s 704ms/step - loss: 2.4992e-11 - acc: 1.0000 - val_loss: 0.5212 - val_acc: 0.9500\n",
            "Epoch 19/30\n",
            "70/70 [==============================] - 50s 710ms/step - loss: 2.4065e-11 - acc: 1.0000 - val_loss: 0.5360 - val_acc: 0.9500\n",
            "Epoch 20/30\n",
            "70/70 [==============================] - 48s 688ms/step - loss: 4.3187e-11 - acc: 1.0000 - val_loss: 0.5518 - val_acc: 0.9500\n",
            "Epoch 21/30\n",
            "70/70 [==============================] - 48s 682ms/step - loss: 4.0229e-11 - acc: 1.0000 - val_loss: 0.5595 - val_acc: 0.9500\n",
            "Epoch 22/30\n",
            "70/70 [==============================] - 48s 687ms/step - loss: 5.1011e-11 - acc: 1.0000 - val_loss: 0.5693 - val_acc: 0.9500\n",
            "Epoch 23/30\n",
            "70/70 [==============================] - 48s 686ms/step - loss: 7.5083e-11 - acc: 1.0000 - val_loss: 0.5761 - val_acc: 0.9500\n",
            "Epoch 24/30\n",
            "70/70 [==============================] - 48s 680ms/step - loss: 7.3136e-11 - acc: 1.0000 - val_loss: 0.5818 - val_acc: 0.9500\n",
            "Epoch 25/30\n",
            "70/70 [==============================] - 48s 679ms/step - loss: 1.3400e-10 - acc: 1.0000 - val_loss: 0.5864 - val_acc: 0.9500\n",
            "Epoch 26/30\n",
            "70/70 [==============================] - 48s 682ms/step - loss: 1.2568e-10 - acc: 1.0000 - val_loss: 0.5908 - val_acc: 0.9500\n",
            "Epoch 27/30\n",
            "70/70 [==============================] - 47s 675ms/step - loss: 1.3044e-10 - acc: 1.0000 - val_loss: 0.5947 - val_acc: 0.9500\n",
            "Epoch 28/30\n",
            "70/70 [==============================] - 48s 688ms/step - loss: 1.3378e-10 - acc: 1.0000 - val_loss: 0.5990 - val_acc: 0.9500\n",
            "Epoch 29/30\n",
            "70/70 [==============================] - 48s 683ms/step - loss: 1.4475e-10 - acc: 1.0000 - val_loss: 0.6029 - val_acc: 0.9500\n",
            "Epoch 30/30\n",
            "70/70 [==============================] - 47s 678ms/step - loss: 1.6562e-10 - acc: 1.0000 - val_loss: 0.6062 - val_acc: 0.9500\n"
          ],
          "name": "stdout"
        }
      ]
    },
    {
      "cell_type": "code",
      "metadata": {
        "id": "BPZ0qNQwfSxh",
        "colab_type": "code",
        "outputId": "f3054858-24ad-4396-afd1-bfb8e4ba6455",
        "colab": {
          "base_uri": "https://localhost:8080/",
          "height": 55
        }
      },
      "source": [
        "model_file, historyfile = save_data(model, history, 1)\n",
        "print(model_file, historyfile, \"saved!\")"
      ],
      "execution_count": 0,
      "outputs": [
        {
          "output_type": "stream",
          "text": [
            "<tensorflow.python.keras.engine.sequential.Sequential object at 0x7f56fb633080> <tensorflow.python.keras.callbacks.History object at 0x7f56fb097518> saved!\n"
          ],
          "name": "stdout"
        }
      ]
    },
    {
      "cell_type": "code",
      "metadata": {
        "id": "TrcP87BOGQAo",
        "colab_type": "code",
        "colab": {}
      },
      "source": [
        "model, history = load_data(1)"
      ],
      "execution_count": 0,
      "outputs": []
    },
    {
      "cell_type": "code",
      "metadata": {
        "id": "GaxkettLGUEx",
        "colab_type": "code",
        "outputId": "d8e573ae-20b7-4ee6-ed0c-12c3800d9c38",
        "colab": {
          "base_uri": "https://localhost:8080/",
          "height": 35
        }
      },
      "source": [
        "history.keys()"
      ],
      "execution_count": 0,
      "outputs": [
        {
          "output_type": "execute_result",
          "data": {
            "text/plain": [
              "dict_keys(['loss', 'acc', 'val_loss', 'val_acc'])"
            ]
          },
          "metadata": {
            "tags": []
          },
          "execution_count": 19
        }
      ]
    },
    {
      "cell_type": "code",
      "metadata": {
        "id": "2wX_u6eIGeOR",
        "colab_type": "code",
        "colab": {}
      },
      "source": [
        "epochs = range(1, len(history['acc']) + 1 )\n",
        "loss = history['loss']\n",
        "acc = history['acc']\n",
        "val_loss = history['val_loss']\n",
        "val_acc = history['val_acc']"
      ],
      "execution_count": 0,
      "outputs": []
    },
    {
      "cell_type": "code",
      "metadata": {
        "id": "W46RAL9WGhRh",
        "colab_type": "code",
        "colab": {}
      },
      "source": [
        ""
      ],
      "execution_count": 0,
      "outputs": []
    },
    {
      "cell_type": "code",
      "metadata": {
        "id": "til7AHADHGm3",
        "colab_type": "code",
        "colab": {}
      },
      "source": [
        "import matplotlib.pyplot as plt"
      ],
      "execution_count": 0,
      "outputs": []
    },
    {
      "cell_type": "code",
      "metadata": {
        "id": "zkiT_F8NHODG",
        "colab_type": "code",
        "outputId": "6a759466-24fa-4574-b73f-ba6132e118df",
        "colab": {
          "base_uri": "https://localhost:8080/",
          "height": 529
        }
      },
      "source": [
        "plt.plot(epochs, loss, \"bo\", label = \"train loss\")\n",
        "plt.plot(epochs, val_loss, \"g\", label = \"val loss\")\n",
        "plt.title(\"Loss\")\n",
        "plt.legend()\n",
        "plt.figure()\n",
        "plt.plot(epochs, acc, \"bo\", label = \"acc\")\n",
        "plt.plot(epochs, val_acc, \"g\", label = \"val acc\")\n",
        "plt.legend()\n",
        "plt.show()"
      ],
      "execution_count": 0,
      "outputs": [
        {
          "output_type": "display_data",
          "data": {
            "image/png": "[encoded data removed]",
            "text/plain": [
              "<Figure size 432x288 with 1 Axes>"
            ]
          },
          "metadata": {
            "tags": [],
            "needs_background": "light"
          }
        },
        {
          "output_type": "display_data",
          "data": {
            "image/png": "[encoded data removed]",
            "text/plain": [
              "<Figure size 432x288 with 1 Axes>"
            ]
          },
          "metadata": {
            "tags": [],
            "needs_background": "light"
          }
        }
      ]
    },
    {
      "cell_type": "code",
      "metadata": {
        "id": "613LlIGLH6-M",
        "colab_type": "code",
        "outputId": "0cb5e6f6-c40e-4885-84c7-c858f7bc986b",
        "colab": {
          "base_uri": "https://localhost:8080/",
          "height": 35
        }
      },
      "source": [
        "test_datagen = ImageDataGenerator(rescale = 1./255)\n",
        "test_generator  = test_datagen.flow_from_directory(\n",
        "    test_dir,\n",
        "    batch_size = 20,\n",
        "    target_size = (150,150),\n",
        "    class_mode = \"binary\"\n",
        ")"
      ],
      "execution_count": 0,
      "outputs": [
        {
          "output_type": "stream",
          "text": [
            "Found 20 images belonging to 2 classes.\n"
          ],
          "name": "stdout"
        }
      ]
    },
    {
      "cell_type": "code",
      "metadata": {
        "id": "21TaIcNaJaXr",
        "colab_type": "code",
        "outputId": "5f45d065-164b-4ecf-d344-db6b44319d33",
        "colab": {
          "base_uri": "https://localhost:8080/",
          "height": 54
        }
      },
      "source": [
        "model.evaluate(test_generator, steps = 70)"
      ],
      "execution_count": 0,
      "outputs": [
        {
          "output_type": "stream",
          "text": [
            "70/70 [==============================] - 26s 371ms/step - loss: 4.5848e-11 - acc: 1.0000\n"
          ],
          "name": "stdout"
        },
        {
          "output_type": "execute_result",
          "data": {
            "text/plain": [
              "[4.584849513933342e-11, 1.0]"
            ]
          },
          "metadata": {
            "tags": []
          },
          "execution_count": 24
        }
      ]
    },
    {
      "cell_type": "code",
      "metadata": {
        "id": "Z3yvWWW3Jh0J",
        "colab_type": "code",
        "outputId": "69797b00-7885-4ea1-ddd8-3b8b242abbea",
        "colab": {
          "base_uri": "https://localhost:8080/",
          "height": 1000
        }
      },
      "source": [
        "load_data(1)"
      ],
      "execution_count": 0,
      "outputs": [
        {
          "output_type": "execute_result",
          "data": {
            "text/plain": [
              "(<tensorflow.python.keras.engine.sequential.Sequential at 0x7f56d4125748>,\n",
              " {'acc': [0.8113636374473572,\n",
              "   0.9477272629737854,\n",
              "   0.9961656332015991,\n",
              "   1.0,\n",
              "   1.0,\n",
              "   0.9838957190513611,\n",
              "   0.9969696998596191,\n",
              "   1.0,\n",
              "   0.9840909242630005,\n",
              "   1.0,\n",
              "   1.0,\n",
              "   1.0,\n",
              "   1.0,\n",
              "   1.0,\n",
              "   1.0,\n",
              "   1.0,\n",
              "   1.0,\n",
              "   1.0,\n",
              "   1.0,\n",
              "   1.0,\n",
              "   1.0,\n",
              "   1.0,\n",
              "   1.0,\n",
              "   1.0,\n",
              "   1.0,\n",
              "   1.0,\n",
              "   1.0,\n",
              "   1.0,\n",
              "   1.0,\n",
              "   1.0],\n",
              "  'loss': [0.43079206347465515,\n",
              "   0.2583144009113312,\n",
              "   0.007596895564347506,\n",
              "   9.000556929095183e-06,\n",
              "   1.0560032848161427e-07,\n",
              "   0.1304715871810913,\n",
              "   0.005854523275047541,\n",
              "   5.226884695730405e-06,\n",
              "   0.5517725944519043,\n",
              "   1.7232956452062353e-05,\n",
              "   3.1596471217198996e-07,\n",
              "   1.0241615555628414e-08,\n",
              "   3.102778034502762e-10,\n",
              "   9.121203792261667e-11,\n",
              "   1.3476769700204727e-10,\n",
              "   1.8625875841671302e-10,\n",
              "   2.3875530025252445e-11,\n",
              "   2.4992485511687867e-11,\n",
              "   2.4064684273072956e-11,\n",
              "   4.318688115456659e-11,\n",
              "   4.022917068913223e-11,\n",
              "   5.1010681789698253e-11,\n",
              "   7.508293986546732e-11,\n",
              "   7.313565031363822e-11,\n",
              "   1.339952454548765e-10,\n",
              "   1.2567787088801907e-10,\n",
              "   1.3043781332822135e-10,\n",
              "   1.337833732684146e-10,\n",
              "   1.4474735299252472e-10,\n",
              "   1.6562276550224908e-10],\n",
              "  'val_acc': [0.949999988079071,\n",
              "   1.0,\n",
              "   0.949999988079071,\n",
              "   0.949999988079071,\n",
              "   0.949999988079071,\n",
              "   0.949999988079071,\n",
              "   0.949999988079071,\n",
              "   0.949999988079071,\n",
              "   0.949999988079071,\n",
              "   0.949999988079071,\n",
              "   0.949999988079071,\n",
              "   0.949999988079071,\n",
              "   0.949999988079071,\n",
              "   0.949999988079071,\n",
              "   0.949999988079071,\n",
              "   0.949999988079071,\n",
              "   0.949999988079071,\n",
              "   0.949999988079071,\n",
              "   0.949999988079071,\n",
              "   0.949999988079071,\n",
              "   0.949999988079071,\n",
              "   0.949999988079071,\n",
              "   0.949999988079071,\n",
              "   0.949999988079071,\n",
              "   0.949999988079071,\n",
              "   0.949999988079071,\n",
              "   0.949999988079071,\n",
              "   0.949999988079071,\n",
              "   0.949999988079071,\n",
              "   0.949999988079071],\n",
              "  'val_loss': [0.2729797959327698,\n",
              "   0.02468983270227909,\n",
              "   0.6479499936103821,\n",
              "   0.7921721339225769,\n",
              "   0.6423719525337219,\n",
              "   0.4410734474658966,\n",
              "   0.07380785048007965,\n",
              "   0.04789305850863457,\n",
              "   0.31316283345222473,\n",
              "   0.5705776810646057,\n",
              "   0.6141918301582336,\n",
              "   0.5203456878662109,\n",
              "   0.5040102005004883,\n",
              "   0.5858668684959412,\n",
              "   0.6089411973953247,\n",
              "   0.46429067850112915,\n",
              "   0.49950698018074036,\n",
              "   0.5211946964263916,\n",
              "   0.5359659790992737,\n",
              "   0.5518052577972412,\n",
              "   0.5595274567604065,\n",
              "   0.5692539811134338,\n",
              "   0.5760581493377686,\n",
              "   0.5817756056785583,\n",
              "   0.5864431262016296,\n",
              "   0.5907639861106873,\n",
              "   0.5946585536003113,\n",
              "   0.5989512801170349,\n",
              "   0.6028925776481628,\n",
              "   0.6062163710594177]})"
            ]
          },
          "metadata": {
            "tags": []
          },
          "execution_count": 25
        }
      ]
    },
    {
      "cell_type": "code",
      "metadata": {
        "id": "vheYeaXo-fTW",
        "colab_type": "code",
        "colab": {}
      },
      "source": [
        "model = models.Sequential()\n",
        "model.add(layers.Conv2D(32, (3,3), activation = \"relu\", input_shape = (150,150,3)))\n",
        "model.add(layers.MaxPooling2D(2,2))\n",
        "model.add(layers.Conv2D(64, (3,3), activation = \"relu\"))\n",
        "model.add(layers.MaxPooling2D(2,2))\n",
        "model.add(layers.Conv2D(128, (3,3), activation = \"relu\"))\n",
        "model.add(layers.MaxPooling2D(2,2))\n",
        "model.add(layers.Conv2D(128, (3,3), activation = \"relu\"))\n",
        "model.add(layers.MaxPooling2D(2,2))\n",
        "model.add(layers.Flatten())\n",
        "model.add(layers.Dense(512, activation = \"relu\"))\n",
        "model.add(layers.Dense(1, activation = \"sigmoid\"))\n",
        "\n",
        "model.compile(\n",
        "    loss = \"binary_crossentropy\",\n",
        "    optimizer = optimizers.RMSprop(),\n",
        "    metrics = ['acc']\n",
        ")"
      ],
      "execution_count": 0,
      "outputs": []
    },
    {
      "cell_type": "code",
      "metadata": {
        "id": "gpp5J3Si-tnL",
        "colab_type": "code",
        "outputId": "02374980-e5ef-483b-e816-0c9a9bed00f4",
        "colab": {
          "base_uri": "https://localhost:8080/",
          "height": 54
        }
      },
      "source": [
        "train_gen = ImageDataGenerator(\n",
        "    rescale = 1./255,\n",
        "    horizontal_flip = True,\n",
        "    shear_range = 0.2,\n",
        "    rotation_range = 40,\n",
        "    zoom_range = 0.2,\n",
        "    width_shift_range = 0.2,\n",
        "    height_shift_range = 0.2,\n",
        "    fill_mode = \"nearest\"\n",
        "\n",
        "    )\n",
        "val_gen = ImageDataGenerator(rescale = 1./255)\n",
        "\n",
        "train_generator = train_gen.flow_from_directory(\n",
        "    train_dir,\n",
        "    target_size = (150,150),\n",
        "    batch_size = 10,\n",
        "    class_mode = \"binary\"\n",
        ")\n",
        "val_generator = train_gen.flow_from_directory(\n",
        "    val_dir,\n",
        "    target_size = (150,150),\n",
        "    batch_size = 10,\n",
        "    class_mode = \"binary\"\n",
        ")"
      ],
      "execution_count": 0,
      "outputs": [
        {
          "output_type": "stream",
          "text": [
            "Found 244 images belonging to 2 classes.\n",
            "Found 20 images belonging to 2 classes.\n"
          ],
          "name": "stdout"
        }
      ]
    },
    {
      "cell_type": "code",
      "metadata": {
        "id": "-v1XJEdOAkrw",
        "colab_type": "code",
        "outputId": "3ef750e0-d755-4ed4-85ec-04856bd66501",
        "colab": {
          "base_uri": "https://localhost:8080/",
          "height": 1000
        }
      },
      "source": [
        "history = model.fit(\n",
        "    train_generator,\n",
        "    steps_per_epoch = 20,\n",
        "    epochs = 100,\n",
        "    validation_data = val_generator,\n",
        "    validation_steps = 30\n",
        ")\n",
        "model_file, historyfile = save_data(model, history, 2)\n",
        "print(model_file, historyfile, \"saved!\")"
      ],
      "execution_count": 0,
      "outputs": [
        {
          "output_type": "stream",
          "text": [
            "Epoch 1/100\n",
            "20/20 [==============================] - 14s 679ms/step - loss: 0.9878 - acc: 0.5250 - val_loss: 0.6724 - val_acc: 0.9667\n",
            "Epoch 2/100\n",
            "20/20 [==============================] - 14s 686ms/step - loss: 0.6932 - acc: 0.6237 - val_loss: 0.6776 - val_acc: 0.5000\n",
            "Epoch 3/100\n",
            "20/20 [==============================] - 14s 709ms/step - loss: 0.6931 - acc: 0.6186 - val_loss: 0.5641 - val_acc: 0.7067\n",
            "Epoch 4/100\n",
            "20/20 [==============================] - 14s 681ms/step - loss: 0.6732 - acc: 0.6340 - val_loss: 0.8183 - val_acc: 0.5800\n",
            "Epoch 5/100\n",
            "20/20 [==============================] - 14s 681ms/step - loss: 0.5918 - acc: 0.7423 - val_loss: 0.7711 - val_acc: 0.6400\n",
            "Epoch 6/100\n",
            "20/20 [==============================] - 13s 673ms/step - loss: 0.5530 - acc: 0.7950 - val_loss: 3.3760 - val_acc: 0.4933\n",
            "Epoch 7/100\n",
            "20/20 [==============================] - 15s 728ms/step - loss: 0.6680 - acc: 0.7629 - val_loss: 0.5945 - val_acc: 0.6467\n",
            "Epoch 8/100\n",
            "20/20 [==============================] - 13s 673ms/step - loss: 0.4476 - acc: 0.7887 - val_loss: 0.2718 - val_acc: 0.9200\n",
            "Epoch 9/100\n",
            "20/20 [==============================] - 14s 677ms/step - loss: 0.4913 - acc: 0.8041 - val_loss: 0.6276 - val_acc: 0.7867\n",
            "Epoch 10/100\n",
            "20/20 [==============================] - 14s 688ms/step - loss: 0.4778 - acc: 0.8041 - val_loss: 0.9188 - val_acc: 0.5267\n",
            "Epoch 11/100\n",
            "20/20 [==============================] - 14s 704ms/step - loss: 0.3573 - acc: 0.8500 - val_loss: 0.2335 - val_acc: 0.9200\n",
            "Epoch 12/100\n",
            "20/20 [==============================] - 14s 691ms/step - loss: 0.4178 - acc: 0.8144 - val_loss: 0.1536 - val_acc: 0.9333\n",
            "Epoch 13/100\n",
            "20/20 [==============================] - 14s 683ms/step - loss: 0.3745 - acc: 0.8299 - val_loss: 0.2034 - val_acc: 0.9267\n",
            "Epoch 14/100\n",
            "20/20 [==============================] - 13s 674ms/step - loss: 0.5040 - acc: 0.8299 - val_loss: 0.1436 - val_acc: 0.9667\n",
            "Epoch 15/100\n",
            "20/20 [==============================] - 14s 677ms/step - loss: 0.3659 - acc: 0.8918 - val_loss: 0.1561 - val_acc: 0.9533\n",
            "Epoch 16/100\n",
            "20/20 [==============================] - 14s 699ms/step - loss: 0.2951 - acc: 0.8950 - val_loss: 0.0838 - val_acc: 0.9767\n",
            "Epoch 17/100\n",
            "20/20 [==============================] - 13s 666ms/step - loss: 0.2051 - acc: 0.9124 - val_loss: 0.2257 - val_acc: 0.9067\n",
            "Epoch 18/100\n",
            "20/20 [==============================] - 13s 669ms/step - loss: 0.3316 - acc: 0.8814 - val_loss: 0.2145 - val_acc: 0.9033\n",
            "Epoch 19/100\n",
            "20/20 [==============================] - 14s 703ms/step - loss: 0.3893 - acc: 0.8918 - val_loss: 0.1347 - val_acc: 0.9600\n",
            "Epoch 20/100\n",
            "20/20 [==============================] - 13s 673ms/step - loss: 0.2291 - acc: 0.9175 - val_loss: 2.9788 - val_acc: 0.6067\n",
            "Epoch 21/100\n",
            "20/20 [==============================] - 14s 689ms/step - loss: 0.7040 - acc: 0.8600 - val_loss: 0.1235 - val_acc: 0.9567\n",
            "Epoch 22/100\n",
            "20/20 [==============================] - 14s 693ms/step - loss: 0.1835 - acc: 0.9278 - val_loss: 0.1052 - val_acc: 0.9633\n",
            "Epoch 23/100\n",
            "20/20 [==============================] - 13s 667ms/step - loss: 0.2031 - acc: 0.9278 - val_loss: 0.0516 - val_acc: 0.9867\n",
            "Epoch 24/100\n",
            "20/20 [==============================] - 14s 681ms/step - loss: 0.2072 - acc: 0.9124 - val_loss: 0.1349 - val_acc: 0.9467\n",
            "Epoch 25/100\n",
            "20/20 [==============================] - 14s 678ms/step - loss: 0.2026 - acc: 0.9124 - val_loss: 0.0657 - val_acc: 0.9800\n",
            "Epoch 26/100\n",
            "20/20 [==============================] - 14s 702ms/step - loss: 0.5106 - acc: 0.9000 - val_loss: 0.0294 - val_acc: 0.9900\n",
            "Epoch 27/100\n",
            "20/20 [==============================] - 13s 672ms/step - loss: 0.1462 - acc: 0.9588 - val_loss: 0.0741 - val_acc: 0.9567\n",
            "Epoch 28/100\n",
            "20/20 [==============================] - 13s 661ms/step - loss: 0.2591 - acc: 0.9330 - val_loss: 0.1726 - val_acc: 0.9533\n",
            "Epoch 29/100\n",
            "20/20 [==============================] - 14s 690ms/step - loss: 0.2575 - acc: 0.9278 - val_loss: 0.0300 - val_acc: 0.9900\n",
            "Epoch 30/100\n",
            "20/20 [==============================] - 14s 689ms/step - loss: 0.3046 - acc: 0.9072 - val_loss: 0.1129 - val_acc: 0.9667\n",
            "Epoch 31/100\n",
            "20/20 [==============================] - 14s 692ms/step - loss: 0.1527 - acc: 0.9400 - val_loss: 0.1459 - val_acc: 0.9600\n",
            "Epoch 32/100\n",
            "20/20 [==============================] - 14s 694ms/step - loss: 0.2397 - acc: 0.9330 - val_loss: 0.1196 - val_acc: 0.9667\n",
            "Epoch 33/100\n",
            "20/20 [==============================] - 14s 686ms/step - loss: 0.0637 - acc: 0.9845 - val_loss: 0.1280 - val_acc: 0.9567\n",
            "Epoch 34/100\n",
            "20/20 [==============================] - 13s 659ms/step - loss: 0.4316 - acc: 0.9485 - val_loss: 0.0845 - val_acc: 0.9667\n",
            "Epoch 35/100\n",
            "20/20 [==============================] - 14s 701ms/step - loss: 0.0516 - acc: 0.9742 - val_loss: 0.0597 - val_acc: 0.9800\n",
            "Epoch 36/100\n",
            "20/20 [==============================] - 13s 661ms/step - loss: 0.1927 - acc: 0.9550 - val_loss: 0.0429 - val_acc: 0.9800\n",
            "Epoch 37/100\n",
            "20/20 [==============================] - 14s 696ms/step - loss: 0.1860 - acc: 0.9433 - val_loss: 0.0403 - val_acc: 0.9900\n",
            "Epoch 38/100\n",
            "20/20 [==============================] - 13s 674ms/step - loss: 0.1408 - acc: 0.9639 - val_loss: 0.3295 - val_acc: 0.9100\n",
            "Epoch 39/100\n",
            "20/20 [==============================] - 14s 718ms/step - loss: 0.2045 - acc: 0.9485 - val_loss: 0.0471 - val_acc: 0.9833\n",
            "Epoch 40/100\n",
            "20/20 [==============================] - 13s 674ms/step - loss: 0.1981 - acc: 0.9278 - val_loss: 0.0444 - val_acc: 0.9867\n",
            "Epoch 41/100\n",
            "20/20 [==============================] - 14s 705ms/step - loss: 0.0744 - acc: 0.9800 - val_loss: 0.0322 - val_acc: 0.9867\n",
            "Epoch 42/100\n",
            "20/20 [==============================] - 13s 657ms/step - loss: 0.3119 - acc: 0.9433 - val_loss: 0.0354 - val_acc: 0.9900\n",
            "Epoch 43/100\n",
            "20/20 [==============================] - 15s 727ms/step - loss: 0.1734 - acc: 0.9485 - val_loss: 0.0937 - val_acc: 0.9800\n",
            "Epoch 44/100\n",
            "20/20 [==============================] - 13s 652ms/step - loss: 0.2686 - acc: 0.9227 - val_loss: 0.0151 - val_acc: 0.9933\n",
            "Epoch 45/100\n",
            "20/20 [==============================] - 14s 685ms/step - loss: 0.0976 - acc: 0.9639 - val_loss: 0.0298 - val_acc: 0.9867\n",
            "Epoch 46/100\n",
            "20/20 [==============================] - 14s 700ms/step - loss: 0.1088 - acc: 0.9600 - val_loss: 0.0678 - val_acc: 0.9800\n",
            "Epoch 47/100\n",
            "20/20 [==============================] - 14s 684ms/step - loss: 0.1353 - acc: 0.9485 - val_loss: 0.0530 - val_acc: 0.9867\n",
            "Epoch 48/100\n",
            "20/20 [==============================] - 14s 675ms/step - loss: 0.0492 - acc: 0.9897 - val_loss: 0.1007 - val_acc: 0.9700\n",
            "Epoch 49/100\n",
            "20/20 [==============================] - 14s 714ms/step - loss: 0.0946 - acc: 0.9691 - val_loss: 0.0249 - val_acc: 0.9933\n",
            "Epoch 50/100\n",
            "20/20 [==============================] - 14s 680ms/step - loss: 0.1780 - acc: 0.9588 - val_loss: 0.0234 - val_acc: 1.0000\n",
            "Epoch 51/100\n",
            "20/20 [==============================] - 14s 699ms/step - loss: 0.2372 - acc: 0.9700 - val_loss: 0.0352 - val_acc: 0.9867\n",
            "Epoch 52/100\n",
            "20/20 [==============================] - 14s 689ms/step - loss: 0.0816 - acc: 0.9742 - val_loss: 0.0338 - val_acc: 0.9867\n",
            "Epoch 53/100\n",
            "20/20 [==============================] - 13s 669ms/step - loss: 0.9707 - acc: 0.9433 - val_loss: 0.0619 - val_acc: 0.9733\n",
            "Epoch 54/100\n",
            "20/20 [==============================] - 14s 716ms/step - loss: 0.0418 - acc: 0.9742 - val_loss: 0.0589 - val_acc: 0.9833\n",
            "Epoch 55/100\n",
            "20/20 [==============================] - 13s 654ms/step - loss: 0.2848 - acc: 0.9588 - val_loss: 0.0851 - val_acc: 0.9600\n",
            "Epoch 56/100\n",
            "20/20 [==============================] - 14s 704ms/step - loss: 0.0928 - acc: 0.9600 - val_loss: 0.0155 - val_acc: 0.9900\n",
            "Epoch 57/100\n",
            "20/20 [==============================] - 14s 679ms/step - loss: 0.1200 - acc: 0.9639 - val_loss: 0.1405 - val_acc: 0.9700\n",
            "Epoch 58/100\n",
            "20/20 [==============================] - 14s 693ms/step - loss: 0.1814 - acc: 0.9175 - val_loss: 0.0726 - val_acc: 0.9867\n",
            "Epoch 59/100\n",
            "20/20 [==============================] - 14s 715ms/step - loss: 0.0796 - acc: 0.9588 - val_loss: 0.0194 - val_acc: 0.9900\n",
            "Epoch 60/100\n",
            "20/20 [==============================] - 14s 675ms/step - loss: 0.2095 - acc: 0.9433 - val_loss: 0.0266 - val_acc: 0.9933\n",
            "Epoch 61/100\n",
            "20/20 [==============================] - 14s 717ms/step - loss: 0.1055 - acc: 0.9600 - val_loss: 0.0340 - val_acc: 0.9867\n",
            "Epoch 62/100\n",
            "20/20 [==============================] - 13s 665ms/step - loss: 0.1698 - acc: 0.9485 - val_loss: 0.0119 - val_acc: 0.9967\n",
            "Epoch 63/100\n",
            "20/20 [==============================] - 14s 690ms/step - loss: 0.1108 - acc: 0.9691 - val_loss: 0.0084 - val_acc: 0.9967\n",
            "Epoch 64/100\n",
            "20/20 [==============================] - 14s 701ms/step - loss: 0.3093 - acc: 0.9485 - val_loss: 0.0275 - val_acc: 0.9900\n",
            "Epoch 65/100\n",
            "20/20 [==============================] - 14s 712ms/step - loss: 0.0985 - acc: 0.9691 - val_loss: 0.0535 - val_acc: 0.9833\n",
            "Epoch 66/100\n",
            "20/20 [==============================] - 14s 695ms/step - loss: 0.0122 - acc: 0.9950 - val_loss: 0.0481 - val_acc: 0.9867\n",
            "Epoch 67/100\n",
            "20/20 [==============================] - 14s 701ms/step - loss: 0.3965 - acc: 0.9227 - val_loss: 0.0245 - val_acc: 0.9933\n",
            "Epoch 68/100\n",
            "20/20 [==============================] - 14s 692ms/step - loss: 0.1813 - acc: 0.9536 - val_loss: 0.0237 - val_acc: 0.9900\n",
            "Epoch 69/100\n",
            "20/20 [==============================] - 14s 687ms/step - loss: 0.2181 - acc: 0.9381 - val_loss: 0.0191 - val_acc: 0.9933\n",
            "Epoch 70/100\n",
            "20/20 [==============================] - 14s 715ms/step - loss: 0.0291 - acc: 0.9897 - val_loss: 0.0429 - val_acc: 0.9867\n",
            "Epoch 71/100\n",
            "20/20 [==============================] - 14s 685ms/step - loss: 0.4373 - acc: 0.9700 - val_loss: 0.0386 - val_acc: 0.9900\n",
            "Epoch 72/100\n",
            "20/20 [==============================] - 14s 705ms/step - loss: 0.0448 - acc: 0.9742 - val_loss: 0.0307 - val_acc: 0.9900\n",
            "Epoch 73/100\n",
            "20/20 [==============================] - 14s 689ms/step - loss: 0.0639 - acc: 0.9742 - val_loss: 0.0234 - val_acc: 0.9933\n",
            "Epoch 74/100\n",
            "20/20 [==============================] - 14s 723ms/step - loss: 0.4313 - acc: 0.9021 - val_loss: 0.2005 - val_acc: 0.9200\n",
            "Epoch 75/100\n",
            "20/20 [==============================] - 13s 668ms/step - loss: 0.2048 - acc: 0.9433 - val_loss: 0.0212 - val_acc: 0.9900\n",
            "Epoch 76/100\n",
            "20/20 [==============================] - 14s 696ms/step - loss: 0.0536 - acc: 0.9800 - val_loss: 0.0918 - val_acc: 0.9667\n",
            "Epoch 77/100\n",
            "20/20 [==============================] - 14s 721ms/step - loss: 0.0438 - acc: 0.9845 - val_loss: 0.0180 - val_acc: 0.9967\n",
            "Epoch 78/100\n",
            "20/20 [==============================] - 15s 729ms/step - loss: 0.1661 - acc: 0.9536 - val_loss: 0.0376 - val_acc: 0.9933\n",
            "Epoch 79/100\n",
            "20/20 [==============================] - 14s 688ms/step - loss: 0.2870 - acc: 0.9278 - val_loss: 0.0233 - val_acc: 0.9933\n",
            "Epoch 80/100\n",
            "20/20 [==============================] - 14s 715ms/step - loss: 0.0701 - acc: 0.9639 - val_loss: 0.0117 - val_acc: 0.9933\n",
            "Epoch 81/100\n",
            "20/20 [==============================] - 14s 717ms/step - loss: 0.1141 - acc: 0.9850 - val_loss: 0.0021 - val_acc: 1.0000\n",
            "Epoch 82/100\n",
            "20/20 [==============================] - 15s 730ms/step - loss: 0.2761 - acc: 0.9485 - val_loss: 0.0602 - val_acc: 0.9833\n",
            "Epoch 83/100\n",
            "20/20 [==============================] - 14s 694ms/step - loss: 0.0280 - acc: 0.9845 - val_loss: 0.0106 - val_acc: 0.9967\n",
            "Epoch 84/100\n",
            "20/20 [==============================] - 15s 753ms/step - loss: 0.2987 - acc: 0.9227 - val_loss: 0.0281 - val_acc: 0.9967\n",
            "Epoch 85/100\n",
            "20/20 [==============================] - 13s 666ms/step - loss: 0.0729 - acc: 0.9794 - val_loss: 0.0216 - val_acc: 0.9867\n",
            "Epoch 86/100\n",
            "20/20 [==============================] - 15s 737ms/step - loss: 0.0924 - acc: 0.9750 - val_loss: 0.0100 - val_acc: 1.0000\n",
            "Epoch 87/100\n",
            "20/20 [==============================] - 14s 708ms/step - loss: 0.1120 - acc: 0.9639 - val_loss: 0.0128 - val_acc: 0.9933\n",
            "Epoch 88/100\n",
            "20/20 [==============================] - 14s 724ms/step - loss: 0.2041 - acc: 0.9536 - val_loss: 0.0513 - val_acc: 0.9833\n",
            "Epoch 89/100\n",
            "20/20 [==============================] - 14s 694ms/step - loss: 0.1007 - acc: 0.9639 - val_loss: 0.0193 - val_acc: 0.9967\n",
            "Epoch 90/100\n",
            "20/20 [==============================] - 14s 696ms/step - loss: 0.0895 - acc: 0.9845 - val_loss: 0.1453 - val_acc: 0.9700\n",
            "Epoch 91/100\n",
            "20/20 [==============================] - 15s 727ms/step - loss: 0.0507 - acc: 0.9850 - val_loss: 0.0223 - val_acc: 0.9867\n",
            "Epoch 92/100\n",
            "20/20 [==============================] - 15s 749ms/step - loss: 0.1264 - acc: 0.9588 - val_loss: 0.0037 - val_acc: 1.0000\n",
            "Epoch 93/100\n",
            "20/20 [==============================] - 14s 694ms/step - loss: 0.0390 - acc: 0.9897 - val_loss: 0.0013 - val_acc: 1.0000\n",
            "Epoch 94/100\n",
            "20/20 [==============================] - 14s 721ms/step - loss: 0.3371 - acc: 0.9588 - val_loss: 0.1073 - val_acc: 0.9667\n",
            "Epoch 95/100\n",
            "20/20 [==============================] - 14s 708ms/step - loss: 0.2307 - acc: 0.9433 - val_loss: 0.0261 - val_acc: 0.9933\n",
            "Epoch 96/100\n",
            "20/20 [==============================] - 14s 724ms/step - loss: 0.1145 - acc: 0.9700 - val_loss: 0.0478 - val_acc: 0.9833\n",
            "Epoch 97/100\n",
            "20/20 [==============================] - 14s 704ms/step - loss: 0.0958 - acc: 0.9691 - val_loss: 0.1820 - val_acc: 0.9767\n",
            "Epoch 98/100\n",
            "20/20 [==============================] - 14s 687ms/step - loss: 0.1042 - acc: 0.9742 - val_loss: 0.0303 - val_acc: 0.9833\n",
            "Epoch 99/100\n",
            "20/20 [==============================] - 14s 707ms/step - loss: 0.1229 - acc: 0.9588 - val_loss: 0.0684 - val_acc: 0.9967\n",
            "Epoch 100/100\n",
            "20/20 [==============================] - 14s 703ms/step - loss: 0.1057 - acc: 0.9639 - val_loss: 0.0110 - val_acc: 0.9967\n",
            "<tensorflow.python.keras.engine.sequential.Sequential object at 0x7f56d4081588> <tensorflow.python.keras.callbacks.History object at 0x7f56d40ef1d0> saved!\n"
          ],
          "name": "stdout"
        }
      ]
    },
    {
      "cell_type": "code",
      "metadata": {
        "id": "Pj9DjhxmGiPY",
        "colab_type": "code",
        "outputId": "ee259c07-b3b4-4095-9e85-0052931be14b",
        "colab": {
          "base_uri": "https://localhost:8080/",
          "height": 573
        }
      },
      "source": [
        "history = history.history\n",
        "epochs = range(1, len(history['acc']) + 1 )\n",
        "loss = history['loss']\n",
        "acc = history['acc']\n",
        "val_loss = history['val_loss']\n",
        "val_acc = history['val_acc']\n",
        "plt.plot(epochs, loss, \"go\", label = \"train loss\")\n",
        "plt.plot(epochs, val_loss, \"r\", label = \"val loss\")\n",
        "plt.title(\"Loss\")\n",
        "plt.xlabel(\"epochs\")\n",
        "plt.ylabel(\"loss\")\n",
        "plt.legend()\n",
        "plt.figure()\n",
        "plt.plot(epochs, acc, \"go\", label = \"acc\")\n",
        "plt.plot(epochs, val_acc, \"r\", label = \"val acc\")\n",
        "plt.xlabel(\"epochs\")\n",
        "plt.ylabel(\"acc\")\n",
        "plt.title(\"accuracy\")\n",
        "plt.legend()\n",
        "plt.show()"
      ],
      "execution_count": 0,
      "outputs": [
        {
          "output_type": "display_data",
          "data": {
            "image/png": "[encoded data removed]",
            "text/plain": [
              "<Figure size 432x288 with 1 Axes>"
            ]
          },
          "metadata": {
            "tags": [],
            "needs_background": "light"
          }
        },
        {
          "output_type": "display_data",
          "data": {
            "image/png": "[encoded data removed]",
            "text/plain": [
              "<Figure size 432x288 with 1 Axes>"
            ]
          },
          "metadata": {
            "tags": [],
            "needs_background": "light"
          }
        }
      ]
    },
    {
      "cell_type": "code",
      "metadata": {
        "id": "Yhnf8pHDG4c3",
        "colab_type": "code",
        "outputId": "5e6e5648-58e0-459d-8496-1cd3ebc6b6fa",
        "colab": {
          "base_uri": "https://localhost:8080/",
          "height": 72
        }
      },
      "source": [
        "test_datagen = ImageDataGenerator(rescale = 1./255)\n",
        "test_generator  = test_datagen.flow_from_directory(\n",
        "    test_dir,\n",
        "    batch_size = 10,\n",
        "    target_size = (150,150),\n",
        "    class_mode = \"binary\"\n",
        ")\n",
        "model.evaluate(test_generator, steps = 70)"
      ],
      "execution_count": 0,
      "outputs": [
        {
          "output_type": "stream",
          "text": [
            "Found 20 images belonging to 2 classes.\n",
            "70/70 [==============================] - 14s 195ms/step - loss: 0.0036 - acc: 1.0000\n"
          ],
          "name": "stdout"
        },
        {
          "output_type": "execute_result",
          "data": {
            "text/plain": [
              "[0.003603807184845209, 1.0]"
            ]
          },
          "metadata": {
            "tags": []
          },
          "execution_count": 30
        }
      ]
    },
    {
      "cell_type": "code",
      "metadata": {
        "id": "BGNV4mBhHCKJ",
        "colab_type": "code",
        "outputId": "735d64c3-1cf7-4f39-82b7-6733b7dd6def",
        "colab": {
          "base_uri": "https://localhost:8080/",
          "height": 1000
        }
      },
      "source": [
        "model = models.Sequential()\n",
        "model.add(layers.Conv2D(32, (3,3), activation = \"relu\", input_shape = (150,150,3)))\n",
        "model.add(layers.MaxPooling2D(2,2))\n",
        "model.add(layers.Conv2D(64, (3,3), activation = \"relu\"))\n",
        "model.add(layers.MaxPooling2D(2,2))\n",
        "model.add(layers.Conv2D(128, (3,3), activation = \"relu\"))\n",
        "model.add(layers.MaxPooling2D(2,2))\n",
        "model.add(layers.Conv2D(128, (3,3), activation = \"relu\"))\n",
        "model.add(layers.MaxPooling2D(2,2))\n",
        "model.add(layers.Flatten())\n",
        "model.add(layers.Dense(512, activation = \"relu\"))\n",
        "model.add(layers.Dense(1, activation = \"sigmoid\"))\n",
        "\n",
        "model.compile(\n",
        "    loss = \"binary_crossentropy\",\n",
        "    optimizer = optimizers.RMSprop(),\n",
        "    metrics = ['acc']\n",
        ")\n",
        "history = model.fit(\n",
        "    train_generator,\n",
        "    steps_per_epoch = 20,\n",
        "    epochs = 99,\n",
        "    validation_data = val_generator,\n",
        "    validation_steps = 30\n",
        ")\n",
        "model_file, historyfile = save_data(model, history, 3)\n",
        "print(model_file, historyfile, \"saved!\")"
      ],
      "execution_count": 0,
      "outputs": [
        {
          "output_type": "stream",
          "text": [
            "Epoch 1/99\n",
            "20/20 [==============================] - 14s 685ms/step - loss: 2.0070 - acc: 0.5800 - val_loss: 0.6661 - val_acc: 0.5000\n",
            "Epoch 2/99\n",
            "20/20 [==============================] - 15s 754ms/step - loss: 0.6282 - acc: 0.6753 - val_loss: 0.5257 - val_acc: 0.7200\n",
            "Epoch 3/99\n",
            "20/20 [==============================] - 14s 693ms/step - loss: 0.6624 - acc: 0.7216 - val_loss: 0.5020 - val_acc: 0.8967\n",
            "Epoch 4/99\n",
            "20/20 [==============================] - 14s 694ms/step - loss: 0.5496 - acc: 0.7784 - val_loss: 0.4793 - val_acc: 0.9433\n",
            "Epoch 5/99\n",
            "20/20 [==============================] - 14s 712ms/step - loss: 0.6076 - acc: 0.7784 - val_loss: 0.3007 - val_acc: 0.9267\n",
            "Epoch 6/99\n",
            "20/20 [==============================] - 14s 717ms/step - loss: 0.5408 - acc: 0.7700 - val_loss: 0.4235 - val_acc: 0.9100\n",
            "Epoch 7/99\n",
            "20/20 [==============================] - 14s 700ms/step - loss: 0.5166 - acc: 0.7732 - val_loss: 0.3702 - val_acc: 0.8433\n",
            "Epoch 8/99\n",
            "20/20 [==============================] - 14s 725ms/step - loss: 0.4194 - acc: 0.8144 - val_loss: 0.2798 - val_acc: 0.8800\n",
            "Epoch 9/99\n",
            "20/20 [==============================] - 14s 692ms/step - loss: 0.4488 - acc: 0.8351 - val_loss: 0.6521 - val_acc: 0.6700\n",
            "Epoch 10/99\n",
            "20/20 [==============================] - 14s 693ms/step - loss: 0.5712 - acc: 0.7990 - val_loss: 0.2019 - val_acc: 0.9333\n",
            "Epoch 11/99\n",
            "20/20 [==============================] - 14s 719ms/step - loss: 0.4715 - acc: 0.7900 - val_loss: 0.2644 - val_acc: 0.8733\n",
            "Epoch 12/99\n",
            "20/20 [==============================] - 14s 702ms/step - loss: 0.3959 - acc: 0.8763 - val_loss: 0.1784 - val_acc: 0.9633\n",
            "Epoch 13/99\n",
            "20/20 [==============================] - 14s 708ms/step - loss: 0.3892 - acc: 0.8402 - val_loss: 0.5463 - val_acc: 0.7800\n",
            "Epoch 14/99\n",
            "20/20 [==============================] - 14s 710ms/step - loss: 0.3420 - acc: 0.8351 - val_loss: 0.0881 - val_acc: 0.9800\n",
            "Epoch 15/99\n",
            "20/20 [==============================] - 14s 675ms/step - loss: 0.4167 - acc: 0.8299 - val_loss: 0.1420 - val_acc: 0.9500\n",
            "Epoch 16/99\n",
            "20/20 [==============================] - 14s 701ms/step - loss: 0.2805 - acc: 0.8650 - val_loss: 0.1227 - val_acc: 0.9833\n",
            "Epoch 17/99\n",
            "20/20 [==============================] - 14s 697ms/step - loss: 0.3507 - acc: 0.8866 - val_loss: 0.1010 - val_acc: 0.9633\n",
            "Epoch 18/99\n",
            "20/20 [==============================] - 14s 712ms/step - loss: 0.2979 - acc: 0.8814 - val_loss: 0.0790 - val_acc: 0.9700\n",
            "Epoch 19/99\n",
            "20/20 [==============================] - 14s 685ms/step - loss: 0.3071 - acc: 0.8814 - val_loss: 0.0669 - val_acc: 0.9833\n",
            "Epoch 20/99\n",
            "20/20 [==============================] - 15s 731ms/step - loss: 0.2317 - acc: 0.9124 - val_loss: 0.1126 - val_acc: 0.9600\n",
            "Epoch 21/99\n",
            "20/20 [==============================] - 14s 704ms/step - loss: 0.2191 - acc: 0.9250 - val_loss: 0.5079 - val_acc: 0.7733\n",
            "Epoch 22/99\n",
            "20/20 [==============================] - 14s 695ms/step - loss: 0.2555 - acc: 0.9124 - val_loss: 1.9023 - val_acc: 0.6300\n",
            "Epoch 23/99\n",
            "20/20 [==============================] - 14s 714ms/step - loss: 0.2956 - acc: 0.9072 - val_loss: 0.1010 - val_acc: 0.9667\n",
            "Epoch 24/99\n",
            "20/20 [==============================] - 14s 681ms/step - loss: 0.1775 - acc: 0.9433 - val_loss: 0.0680 - val_acc: 0.9667\n",
            "Epoch 25/99\n",
            "20/20 [==============================] - 15s 743ms/step - loss: 0.1637 - acc: 0.9536 - val_loss: 0.2089 - val_acc: 0.9067\n",
            "Epoch 26/99\n",
            "20/20 [==============================] - 14s 696ms/step - loss: 0.3089 - acc: 0.9000 - val_loss: 0.0613 - val_acc: 0.9733\n",
            "Epoch 27/99\n",
            "20/20 [==============================] - 14s 723ms/step - loss: 0.2586 - acc: 0.8814 - val_loss: 0.0465 - val_acc: 0.9867\n",
            "Epoch 28/99\n",
            "20/20 [==============================] - 15s 738ms/step - loss: 0.1863 - acc: 0.9536 - val_loss: 0.1618 - val_acc: 0.9300\n",
            "Epoch 29/99\n",
            "20/20 [==============================] - 14s 690ms/step - loss: 0.2180 - acc: 0.9278 - val_loss: 0.0438 - val_acc: 0.9867\n",
            "Epoch 30/99\n",
            "20/20 [==============================] - 14s 723ms/step - loss: 0.1530 - acc: 0.9227 - val_loss: 0.0687 - val_acc: 0.9700\n",
            "Epoch 31/99\n",
            "20/20 [==============================] - 14s 723ms/step - loss: 0.2211 - acc: 0.9350 - val_loss: 0.0436 - val_acc: 0.9900\n",
            "Epoch 32/99\n",
            "20/20 [==============================] - 14s 690ms/step - loss: 0.1511 - acc: 0.9381 - val_loss: 0.0294 - val_acc: 0.9933\n",
            "Epoch 33/99\n",
            "20/20 [==============================] - 14s 706ms/step - loss: 0.1700 - acc: 0.9330 - val_loss: 0.0907 - val_acc: 0.9933\n",
            "Epoch 34/99\n",
            "20/20 [==============================] - 13s 652ms/step - loss: 0.1350 - acc: 0.9588 - val_loss: 0.0522 - val_acc: 0.9767\n",
            "Epoch 35/99\n",
            "20/20 [==============================] - 14s 692ms/step - loss: 0.0703 - acc: 0.9639 - val_loss: 0.0433 - val_acc: 0.9733\n",
            "Epoch 36/99\n",
            "20/20 [==============================] - 14s 710ms/step - loss: 0.2701 - acc: 0.9100 - val_loss: 0.0467 - val_acc: 0.9900\n",
            "Epoch 37/99\n",
            "20/20 [==============================] - 14s 688ms/step - loss: 0.2225 - acc: 0.9278 - val_loss: 0.0074 - val_acc: 0.9967\n",
            "Epoch 38/99\n",
            "20/20 [==============================] - 13s 673ms/step - loss: 0.1864 - acc: 0.9588 - val_loss: 0.0650 - val_acc: 0.9767\n",
            "Epoch 39/99\n",
            "20/20 [==============================] - 14s 690ms/step - loss: 0.1210 - acc: 0.9536 - val_loss: 0.0499 - val_acc: 0.9800\n",
            "Epoch 40/99\n",
            "20/20 [==============================] - 14s 686ms/step - loss: 0.0758 - acc: 0.9742 - val_loss: 0.3753 - val_acc: 0.8667\n",
            "Epoch 41/99\n",
            "20/20 [==============================] - 14s 714ms/step - loss: 0.2150 - acc: 0.9700 - val_loss: 0.0668 - val_acc: 0.9800\n",
            "Epoch 42/99\n",
            "20/20 [==============================] - 14s 692ms/step - loss: 0.1600 - acc: 0.9691 - val_loss: 0.0091 - val_acc: 1.0000\n",
            "Epoch 43/99\n",
            "20/20 [==============================] - 13s 673ms/step - loss: 0.0789 - acc: 0.9794 - val_loss: 0.0347 - val_acc: 0.9833\n",
            "Epoch 44/99\n",
            "20/20 [==============================] - 14s 680ms/step - loss: 0.4261 - acc: 0.9485 - val_loss: 0.0293 - val_acc: 0.9900\n",
            "Epoch 45/99\n",
            "20/20 [==============================] - 13s 672ms/step - loss: 0.1211 - acc: 0.9536 - val_loss: 0.0131 - val_acc: 0.9967\n",
            "Epoch 46/99\n",
            "20/20 [==============================] - 14s 683ms/step - loss: 0.0742 - acc: 0.9800 - val_loss: 0.0228 - val_acc: 0.9933\n",
            "Epoch 47/99\n",
            "20/20 [==============================] - 13s 666ms/step - loss: 0.1140 - acc: 0.9691 - val_loss: 0.0127 - val_acc: 1.0000\n",
            "Epoch 48/99\n",
            "20/20 [==============================] - 14s 700ms/step - loss: 0.1461 - acc: 0.9485 - val_loss: 0.0769 - val_acc: 0.9733\n",
            "Epoch 49/99\n",
            "20/20 [==============================] - 13s 667ms/step - loss: 0.0423 - acc: 0.9845 - val_loss: 0.0288 - val_acc: 0.9833\n",
            "Epoch 50/99\n",
            "20/20 [==============================] - 14s 683ms/step - loss: 0.5315 - acc: 0.9124 - val_loss: 0.0367 - val_acc: 0.9967\n",
            "Epoch 51/99\n",
            "20/20 [==============================] - 14s 685ms/step - loss: 0.0558 - acc: 0.9800 - val_loss: 0.0237 - val_acc: 0.9900\n",
            "Epoch 52/99\n",
            "20/20 [==============================] - 13s 633ms/step - loss: 0.0416 - acc: 0.9948 - val_loss: 0.1319 - val_acc: 0.9733\n",
            "Epoch 53/99\n",
            "20/20 [==============================] - 14s 720ms/step - loss: 0.2462 - acc: 0.9330 - val_loss: 0.1093 - val_acc: 0.9500\n",
            "Epoch 54/99\n",
            "20/20 [==============================] - 13s 663ms/step - loss: 0.1485 - acc: 0.9227 - val_loss: 0.0464 - val_acc: 0.9833\n",
            "Epoch 55/99\n",
            "20/20 [==============================] - 14s 693ms/step - loss: 0.3412 - acc: 0.9588 - val_loss: 0.0331 - val_acc: 0.9867\n",
            "Epoch 56/99\n",
            "20/20 [==============================] - 14s 677ms/step - loss: 0.0576 - acc: 0.9700 - val_loss: 0.0167 - val_acc: 0.9933\n",
            "Epoch 57/99\n",
            "20/20 [==============================] - 13s 674ms/step - loss: 0.5769 - acc: 0.9485 - val_loss: 0.0091 - val_acc: 0.9933\n",
            "Epoch 58/99\n",
            "20/20 [==============================] - 14s 683ms/step - loss: 0.0644 - acc: 0.9742 - val_loss: 0.0166 - val_acc: 0.9933\n",
            "Epoch 59/99\n",
            "20/20 [==============================] - 15s 727ms/step - loss: 0.1207 - acc: 0.9536 - val_loss: 0.0925 - val_acc: 0.9767\n",
            "Epoch 60/99\n",
            "20/20 [==============================] - 13s 640ms/step - loss: 0.1955 - acc: 0.9536 - val_loss: 0.0332 - val_acc: 0.9900\n",
            "Epoch 61/99\n",
            "20/20 [==============================] - 14s 691ms/step - loss: 0.0703 - acc: 0.9800 - val_loss: 0.0323 - val_acc: 0.9800\n",
            "Epoch 62/99\n",
            "20/20 [==============================] - 14s 706ms/step - loss: 0.1617 - acc: 0.9794 - val_loss: 0.0492 - val_acc: 0.9867\n",
            "Epoch 63/99\n",
            "20/20 [==============================] - 14s 682ms/step - loss: 0.1570 - acc: 0.9485 - val_loss: 0.1978 - val_acc: 0.9300\n",
            "Epoch 64/99\n",
            "20/20 [==============================] - 14s 680ms/step - loss: 0.0595 - acc: 0.9742 - val_loss: 0.2455 - val_acc: 0.9533\n",
            "Epoch 65/99\n",
            "20/20 [==============================] - 13s 667ms/step - loss: 0.1552 - acc: 0.9588 - val_loss: 0.0055 - val_acc: 1.0000\n",
            "Epoch 66/99\n",
            "20/20 [==============================] - 14s 699ms/step - loss: 0.1530 - acc: 0.9600 - val_loss: 0.0584 - val_acc: 0.9833\n",
            "Epoch 67/99\n",
            "20/20 [==============================] - 14s 679ms/step - loss: 0.4325 - acc: 0.9433 - val_loss: 0.0274 - val_acc: 0.9933\n",
            "Epoch 68/99\n",
            "20/20 [==============================] - 14s 688ms/step - loss: 0.0698 - acc: 0.9794 - val_loss: 0.0370 - val_acc: 0.9833\n",
            "Epoch 69/99\n",
            "20/20 [==============================] - 14s 679ms/step - loss: 0.0044 - acc: 1.0000 - val_loss: 0.0063 - val_acc: 0.9967\n",
            "Epoch 70/99\n",
            "20/20 [==============================] - 13s 668ms/step - loss: 0.3923 - acc: 0.9278 - val_loss: 0.0227 - val_acc: 0.9967\n",
            "Epoch 71/99\n",
            "20/20 [==============================] - 14s 692ms/step - loss: 0.1858 - acc: 0.9500 - val_loss: 0.2889 - val_acc: 0.9133\n",
            "Epoch 72/99\n",
            "20/20 [==============================] - 13s 665ms/step - loss: 0.0618 - acc: 0.9845 - val_loss: 0.0035 - val_acc: 1.0000\n",
            "Epoch 73/99\n",
            "20/20 [==============================] - 13s 670ms/step - loss: 0.1179 - acc: 0.9639 - val_loss: 0.0289 - val_acc: 0.9933\n",
            "Epoch 74/99\n",
            "20/20 [==============================] - 14s 707ms/step - loss: 0.0346 - acc: 0.9897 - val_loss: 0.0151 - val_acc: 0.9967\n",
            "Epoch 75/99\n",
            "20/20 [==============================] - 13s 662ms/step - loss: 0.3324 - acc: 0.9381 - val_loss: 0.2713 - val_acc: 0.9300\n",
            "Epoch 76/99\n",
            "20/20 [==============================] - 14s 691ms/step - loss: 0.4086 - acc: 0.9300 - val_loss: 0.0448 - val_acc: 0.9867\n",
            "Epoch 77/99\n",
            "20/20 [==============================] - 13s 656ms/step - loss: 0.3184 - acc: 0.9381 - val_loss: 0.0875 - val_acc: 0.9633\n",
            "Epoch 78/99\n",
            "20/20 [==============================] - 14s 708ms/step - loss: 0.0467 - acc: 0.9845 - val_loss: 0.0271 - val_acc: 0.9867\n",
            "Epoch 79/99\n",
            "20/20 [==============================] - 14s 678ms/step - loss: 0.1416 - acc: 0.9588 - val_loss: 0.0326 - val_acc: 0.9867\n",
            "Epoch 80/99\n",
            "20/20 [==============================] - 14s 683ms/step - loss: 0.0422 - acc: 0.9794 - val_loss: 0.0242 - val_acc: 0.9900\n",
            "Epoch 81/99\n",
            "20/20 [==============================] - 14s 687ms/step - loss: 0.0180 - acc: 0.9900 - val_loss: 0.0342 - val_acc: 0.9867\n",
            "Epoch 82/99\n",
            "20/20 [==============================] - 14s 715ms/step - loss: 1.4717 - acc: 0.9433 - val_loss: 0.0103 - val_acc: 0.9933\n",
            "Epoch 83/99\n",
            "20/20 [==============================] - 13s 659ms/step - loss: 0.1114 - acc: 0.9742 - val_loss: 0.0017 - val_acc: 1.0000\n",
            "Epoch 84/99\n",
            "20/20 [==============================] - 14s 720ms/step - loss: 0.2293 - acc: 0.9330 - val_loss: 0.0404 - val_acc: 0.9900\n",
            "Epoch 85/99\n",
            "20/20 [==============================] - 13s 641ms/step - loss: 0.1490 - acc: 0.9588 - val_loss: 0.0143 - val_acc: 0.9900\n",
            "Epoch 86/99\n",
            "20/20 [==============================] - 14s 695ms/step - loss: 0.1063 - acc: 0.9850 - val_loss: 0.0103 - val_acc: 0.9933\n",
            "Epoch 87/99\n",
            "20/20 [==============================] - 13s 670ms/step - loss: 0.0067 - acc: 1.0000 - val_loss: 0.0020 - val_acc: 1.0000\n",
            "Epoch 88/99\n",
            "20/20 [==============================] - 14s 679ms/step - loss: 0.2482 - acc: 0.9433 - val_loss: 0.0381 - val_acc: 0.9867\n",
            "Epoch 89/99\n",
            "20/20 [==============================] - 14s 720ms/step - loss: 0.2731 - acc: 0.9536 - val_loss: 5.0546e-04 - val_acc: 1.0000\n",
            "Epoch 90/99\n",
            "20/20 [==============================] - 13s 663ms/step - loss: 0.0837 - acc: 0.9742 - val_loss: 0.0498 - val_acc: 0.9800\n",
            "Epoch 91/99\n",
            "20/20 [==============================] - 14s 679ms/step - loss: 0.0066 - acc: 0.9950 - val_loss: 0.0446 - val_acc: 0.9900\n",
            "Epoch 92/99\n",
            "20/20 [==============================] - 14s 681ms/step - loss: 0.0311 - acc: 0.9948 - val_loss: 0.0013 - val_acc: 1.0000\n",
            "Epoch 93/99\n",
            "20/20 [==============================] - 14s 679ms/step - loss: 0.4662 - acc: 0.9330 - val_loss: 0.0324 - val_acc: 0.9900\n",
            "Epoch 94/99\n",
            "20/20 [==============================] - 13s 644ms/step - loss: 0.0435 - acc: 0.9794 - val_loss: 0.0092 - val_acc: 0.9933\n",
            "Epoch 95/99\n",
            "20/20 [==============================] - 14s 688ms/step - loss: 0.0045 - acc: 1.0000 - val_loss: 0.0500 - val_acc: 0.9933\n",
            "Epoch 96/99\n",
            "20/20 [==============================] - 14s 699ms/step - loss: 0.3289 - acc: 0.9000 - val_loss: 0.0244 - val_acc: 0.9900\n",
            "Epoch 97/99\n",
            "20/20 [==============================] - 13s 675ms/step - loss: 0.0475 - acc: 0.9845 - val_loss: 0.0164 - val_acc: 0.9933\n",
            "Epoch 98/99\n",
            "20/20 [==============================] - 13s 645ms/step - loss: 0.1092 - acc: 0.9639 - val_loss: 0.0259 - val_acc: 0.9867\n",
            "Epoch 99/99\n",
            "20/20 [==============================] - 14s 712ms/step - loss: 0.1622 - acc: 0.9691 - val_loss: 0.0362 - val_acc: 0.9933\n",
            "<tensorflow.python.keras.engine.sequential.Sequential object at 0x7f56ba2e7b38> <tensorflow.python.keras.callbacks.History object at 0x7f56bafd76d8> saved!\n"
          ],
          "name": "stdout"
        }
      ]
    },
    {
      "cell_type": "code",
      "metadata": {
        "id": "krdBZaa_JDP9",
        "colab_type": "code",
        "outputId": "ce97aed9-6554-4b85-e9f2-30104f6e49f6",
        "colab": {
          "base_uri": "https://localhost:8080/",
          "height": 573
        }
      },
      "source": [
        "history = history.history\n",
        "epochs = range(1, len(history['acc']) + 1 )\n",
        "loss = history['loss']\n",
        "acc = history['acc']\n",
        "val_loss = history['val_loss']\n",
        "val_acc = history['val_acc']\n",
        "plt.plot(epochs, loss, \"go\", label = \"train loss\")\n",
        "plt.plot(epochs, val_loss, \"r\", label = \"val loss\")\n",
        "plt.title(\"Loss\")\n",
        "plt.xlabel(\"epochs\")\n",
        "plt.ylabel(\"loss\")\n",
        "plt.legend()\n",
        "plt.figure()\n",
        "plt.plot(epochs, acc, \"go\", label = \"acc\")\n",
        "plt.plot(epochs, val_acc, \"r\", label = \"val acc\")\n",
        "plt.xlabel(\"epochs\")\n",
        "plt.ylabel(\"acc\")\n",
        "plt.title(\"accuracy\")\n",
        "plt.legend()\n",
        "plt.show()"
      ],
      "execution_count": 0,
      "outputs": [
        {
          "output_type": "display_data",
          "data": {
            "image/png": "[encoded data removed]",
            "text/plain": [
              "<Figure size 432x288 with 1 Axes>"
            ]
          },
          "metadata": {
            "tags": [],
            "needs_background": "light"
          }
        },
        {
          "output_type": "display_data",
          "data": {
            "image/png": "[encoded data removed]",
            "text/plain": [
              "<Figure size 432x288 with 1 Axes>"
            ]
          },
          "metadata": {
            "tags": [],
            "needs_background": "light"
          }
        }
      ]
    },
    {
      "cell_type": "code",
      "metadata": {
        "id": "OXcTR761fLVn",
        "colab_type": "code",
        "colab": {}
      },
      "source": [
        ""
      ],
      "execution_count": 0,
      "outputs": []
    },
    {
      "cell_type": "code",
      "metadata": {
        "id": "XVLbqn3nOYLM",
        "colab_type": "code",
        "outputId": "cda71719-d1da-460c-da25-1708afd2bb5c",
        "colab": {
          "base_uri": "https://localhost:8080/",
          "height": 1000
        }
      },
      "source": [
        "model = models.Sequential()\n",
        "model.add(layers.Conv2D(32, (3,3), activation = \"relu\", input_shape = (150,150,3)))\n",
        "model.add(layers.MaxPooling2D(2,2))\n",
        "model.add(layers.Conv2D(64, (3,3), activation = \"relu\"))\n",
        "model.add(layers.MaxPooling2D(2,2))\n",
        "model.add(layers.Conv2D(128, (3,3), activation = \"relu\"))\n",
        "model.add(layers.MaxPooling2D(2,2))\n",
        "model.add(layers.Conv2D(128, (3,3), activation = \"relu\"))\n",
        "model.add(layers.MaxPooling2D(2,2))\n",
        "model.add(layers.Flatten())\n",
        "model.add(layers.Dense(512, activation = \"relu\"))\n",
        "model.add(layers.Dense(1, activation = \"sigmoid\"))\n",
        "\n",
        "model.compile(\n",
        "    loss = \"binary_crossentropy\",\n",
        "    optimizer = optimizers.RMSprop(),\n",
        "    metrics = ['acc']\n",
        ")\n",
        "history = model.fit(\n",
        "    train_generator,\n",
        "    steps_per_epoch = 20,\n",
        "    epochs = 300,\n",
        "    validation_data = val_generator,\n",
        "    validation_steps = 30\n",
        ")\n",
        "model_file, historyfile = save_data(model, history, 4)\n",
        "print(model_file, historyfile, \"saved!\")"
      ],
      "execution_count": 0,
      "outputs": [
        {
          "output_type": "stream",
          "text": [
            "Epoch 1/300\n",
            "20/20 [==============================] - 22s 1s/step - loss: 0.9031 - acc: 0.5807 - val_loss: 0.5072 - val_acc: 0.9000\n",
            "Epoch 2/300\n",
            "20/20 [==============================] - 22s 1s/step - loss: 0.3517 - acc: 0.8886 - val_loss: 0.0854 - val_acc: 0.9500\n",
            "Epoch 3/300\n",
            "20/20 [==============================] - 23s 1s/step - loss: 0.5461 - acc: 0.8802 - val_loss: 0.1697 - val_acc: 0.9500\n",
            "Epoch 4/300\n",
            "20/20 [==============================] - 22s 1s/step - loss: 0.1444 - acc: 0.9538 - val_loss: 0.2003 - val_acc: 0.9500\n",
            "Epoch 5/300\n",
            "20/20 [==============================] - 22s 1s/step - loss: 0.1126 - acc: 0.9583 - val_loss: 0.1512 - val_acc: 0.9500\n",
            "Epoch 6/300\n",
            "20/20 [==============================] - 22s 1s/step - loss: 0.2742 - acc: 0.9429 - val_loss: 0.1510 - val_acc: 0.9500\n",
            "Epoch 7/300\n",
            "20/20 [==============================] - 22s 1s/step - loss: 0.0801 - acc: 0.9792 - val_loss: 0.3013 - val_acc: 0.9500\n",
            "Epoch 8/300\n",
            "20/20 [==============================] - 22s 1s/step - loss: 0.0071 - acc: 1.0000 - val_loss: 0.3471 - val_acc: 0.9500\n",
            "Epoch 9/300\n",
            "20/20 [==============================] - 22s 1s/step - loss: 0.5868 - acc: 0.9479 - val_loss: 0.5060 - val_acc: 0.9500\n",
            "Epoch 10/300\n",
            "20/20 [==============================] - 22s 1s/step - loss: 0.0032 - acc: 1.0000 - val_loss: 0.5137 - val_acc: 0.9500\n",
            "Epoch 11/300\n",
            "20/20 [==============================] - 22s 1s/step - loss: 5.4183e-04 - acc: 1.0000 - val_loss: 0.4774 - val_acc: 0.9500\n",
            "Epoch 12/300\n",
            "20/20 [==============================] - 22s 1s/step - loss: 2.7097e-04 - acc: 1.0000 - val_loss: 0.6620 - val_acc: 0.9500\n",
            "Epoch 13/300\n",
            "20/20 [==============================] - 22s 1s/step - loss: 9.9427e-05 - acc: 1.0000 - val_loss: 0.6060 - val_acc: 0.9500\n",
            "Epoch 14/300\n",
            "20/20 [==============================] - 22s 1s/step - loss: 2.3007e-05 - acc: 1.0000 - val_loss: 0.7103 - val_acc: 0.9500\n",
            "Epoch 15/300\n",
            "20/20 [==============================] - 22s 1s/step - loss: 6.7595e-06 - acc: 1.0000 - val_loss: 0.8042 - val_acc: 0.9500\n",
            "Epoch 16/300\n",
            "20/20 [==============================] - 23s 1s/step - loss: 1.7026e-06 - acc: 1.0000 - val_loss: 0.8270 - val_acc: 0.9500\n",
            "Epoch 17/300\n",
            "20/20 [==============================] - 22s 1s/step - loss: 6.7397e-07 - acc: 1.0000 - val_loss: 0.8540 - val_acc: 0.9500\n",
            "Epoch 18/300\n",
            "20/20 [==============================] - 22s 1s/step - loss: 2.5604e-07 - acc: 1.0000 - val_loss: 0.8477 - val_acc: 0.9500\n",
            "Epoch 19/300\n",
            "20/20 [==============================] - 22s 1s/step - loss: 6.4899e-08 - acc: 1.0000 - val_loss: 0.8907 - val_acc: 0.9500\n",
            "Epoch 20/300\n",
            "20/20 [==============================] - 22s 1s/step - loss: 1.8206e-08 - acc: 1.0000 - val_loss: 0.8929 - val_acc: 0.9500\n",
            "Epoch 21/300\n",
            "20/20 [==============================] - 22s 1s/step - loss: 1.2247 - acc: 0.9457 - val_loss: 0.0164 - val_acc: 1.0000\n",
            "Epoch 22/300\n",
            "20/20 [==============================] - 22s 1s/step - loss: 0.0199 - acc: 0.9974 - val_loss: 0.4030 - val_acc: 0.9500\n",
            "Epoch 23/300\n",
            "20/20 [==============================] - 23s 1s/step - loss: 5.1622e-05 - acc: 1.0000 - val_loss: 0.4271 - val_acc: 0.9500\n",
            "Epoch 24/300\n",
            "20/20 [==============================] - 22s 1s/step - loss: 3.2446e-05 - acc: 1.0000 - val_loss: 0.4628 - val_acc: 0.9500\n",
            "Epoch 25/300\n",
            "20/20 [==============================] - 23s 1s/step - loss: 1.0878e-05 - acc: 1.0000 - val_loss: 0.5051 - val_acc: 0.9500\n",
            "Epoch 26/300\n",
            "20/20 [==============================] - 23s 1s/step - loss: 5.3115e-06 - acc: 1.0000 - val_loss: 0.5567 - val_acc: 0.9500\n",
            "Epoch 27/300\n",
            "20/20 [==============================] - 23s 1s/step - loss: 2.0098e-06 - acc: 1.0000 - val_loss: 0.6185 - val_acc: 0.9500\n",
            "Epoch 28/300\n",
            "20/20 [==============================] - 23s 1s/step - loss: 7.2043e-07 - acc: 1.0000 - val_loss: 0.6772 - val_acc: 0.9500\n",
            "Epoch 29/300\n",
            "20/20 [==============================] - 23s 1s/step - loss: 3.5410e-07 - acc: 1.0000 - val_loss: 0.7614 - val_acc: 0.9500\n",
            "Epoch 30/300\n",
            "20/20 [==============================] - 23s 1s/step - loss: 1.3263e-07 - acc: 1.0000 - val_loss: 0.7952 - val_acc: 0.9500\n",
            "Epoch 31/300\n",
            "20/20 [==============================] - 23s 1s/step - loss: 6.7173e-08 - acc: 1.0000 - val_loss: 0.8014 - val_acc: 0.9500\n",
            "Epoch 32/300\n",
            "20/20 [==============================] - 23s 1s/step - loss: 2.3785e-08 - acc: 1.0000 - val_loss: 0.8522 - val_acc: 0.9500\n",
            "Epoch 33/300\n",
            "20/20 [==============================] - 23s 1s/step - loss: 1.5563e-08 - acc: 1.0000 - val_loss: 0.8578 - val_acc: 0.9500\n",
            "Epoch 34/300\n",
            "20/20 [==============================] - 22s 1s/step - loss: 6.1575e-09 - acc: 1.0000 - val_loss: 0.8362 - val_acc: 0.9500\n",
            "Epoch 35/300\n",
            "20/20 [==============================] - 22s 1s/step - loss: 1.6737e-09 - acc: 1.0000 - val_loss: 0.9165 - val_acc: 0.9500\n",
            "Epoch 36/300\n",
            "20/20 [==============================] - 22s 1s/step - loss: 1.4820e-09 - acc: 1.0000 - val_loss: 0.9166 - val_acc: 0.9500\n",
            "Epoch 37/300\n",
            "20/20 [==============================] - 22s 1s/step - loss: 5.4093e-10 - acc: 1.0000 - val_loss: 0.9083 - val_acc: 0.9500\n",
            "Epoch 38/300\n",
            "20/20 [==============================] - 22s 1s/step - loss: 3.4276e-10 - acc: 1.0000 - val_loss: 0.9432 - val_acc: 0.9500\n",
            "Epoch 39/300\n",
            "20/20 [==============================] - 23s 1s/step - loss: 5.0391e-10 - acc: 1.0000 - val_loss: 0.9595 - val_acc: 0.9500\n",
            "Epoch 40/300\n",
            "20/20 [==============================] - 22s 1s/step - loss: 5.2836e-10 - acc: 1.0000 - val_loss: 0.9746 - val_acc: 0.9500\n",
            "Epoch 41/300\n",
            "20/20 [==============================] - 22s 1s/step - loss: 2.5701e-10 - acc: 1.0000 - val_loss: 0.7836 - val_acc: 0.9500\n",
            "Epoch 42/300\n",
            "20/20 [==============================] - 22s 1s/step - loss: 7.4179e-11 - acc: 1.0000 - val_loss: 0.8056 - val_acc: 0.9500\n",
            "Epoch 43/300\n",
            "20/20 [==============================] - 22s 1s/step - loss: 2.7276e-11 - acc: 1.0000 - val_loss: 0.8131 - val_acc: 0.9500\n",
            "Epoch 44/300\n",
            "20/20 [==============================] - 23s 1s/step - loss: 3.1221e-11 - acc: 1.0000 - val_loss: 0.8217 - val_acc: 0.9500\n",
            "Epoch 45/300\n",
            "20/20 [==============================] - 22s 1s/step - loss: 2.4122e-11 - acc: 1.0000 - val_loss: 0.8278 - val_acc: 0.9500\n",
            "Epoch 46/300\n",
            "20/20 [==============================] - 23s 1s/step - loss: 1.6422e-11 - acc: 1.0000 - val_loss: 0.8311 - val_acc: 0.9500\n",
            "Epoch 47/300\n",
            "20/20 [==============================] - 23s 1s/step - loss: 1.6636e-11 - acc: 1.0000 - val_loss: 0.8344 - val_acc: 0.9500\n",
            "Epoch 48/300\n",
            "20/20 [==============================] - 22s 1s/step - loss: 1.9421e-11 - acc: 1.0000 - val_loss: 0.8381 - val_acc: 0.9500\n",
            "Epoch 49/300\n",
            "20/20 [==============================] - 22s 1s/step - loss: 1.2380e-11 - acc: 1.0000 - val_loss: 0.8405 - val_acc: 0.9500\n",
            "Epoch 50/300\n",
            "20/20 [==============================] - 22s 1s/step - loss: 1.7698e-11 - acc: 1.0000 - val_loss: 0.8437 - val_acc: 0.9500\n",
            "Epoch 51/300\n",
            "20/20 [==============================] - 22s 1s/step - loss: 1.4508e-11 - acc: 1.0000 - val_loss: 0.8456 - val_acc: 0.9500\n",
            "Epoch 52/300\n",
            "20/20 [==============================] - 22s 1s/step - loss: 1.5295e-11 - acc: 1.0000 - val_loss: 0.8480 - val_acc: 0.9500\n",
            "Epoch 53/300\n",
            "20/20 [==============================] - 22s 1s/step - loss: 1.5386e-11 - acc: 1.0000 - val_loss: 0.8502 - val_acc: 0.9500\n",
            "Epoch 54/300\n",
            "20/20 [==============================] - 22s 1s/step - loss: 1.1303e-11 - acc: 1.0000 - val_loss: 0.8517 - val_acc: 0.9500\n",
            "Epoch 55/300\n",
            "20/20 [==============================] - 22s 1s/step - loss: 1.5972e-11 - acc: 1.0000 - val_loss: 0.8537 - val_acc: 0.9500\n",
            "Epoch 56/300\n",
            "20/20 [==============================] - 22s 1s/step - loss: 1.1643e-11 - acc: 1.0000 - val_loss: 0.8553 - val_acc: 0.9500\n",
            "Epoch 57/300\n",
            "20/20 [==============================] - 23s 1s/step - loss: 1.6057e-11 - acc: 1.0000 - val_loss: 0.8571 - val_acc: 0.9500\n",
            "Epoch 58/300\n",
            "20/20 [==============================] - 22s 1s/step - loss: 1.6510e-11 - acc: 1.0000 - val_loss: 0.8586 - val_acc: 0.9500\n",
            "Epoch 59/300\n",
            "20/20 [==============================] - 22s 1s/step - loss: 1.2938e-11 - acc: 1.0000 - val_loss: 0.8601 - val_acc: 0.9500\n",
            "Epoch 60/300\n",
            "20/20 [==============================] - 22s 1s/step - loss: 2.3628e-11 - acc: 1.0000 - val_loss: 0.8615 - val_acc: 0.9500\n",
            "Epoch 61/300\n",
            "20/20 [==============================] - 22s 1s/step - loss: 1.4698e-11 - acc: 1.0000 - val_loss: 0.8628 - val_acc: 0.9500\n",
            "Epoch 62/300\n",
            "20/20 [==============================] - 23s 1s/step - loss: 1.4824e-11 - acc: 1.0000 - val_loss: 0.8641 - val_acc: 0.9500\n",
            "Epoch 63/300\n",
            "20/20 [==============================] - 23s 1s/step - loss: 1.0588e-11 - acc: 1.0000 - val_loss: 0.8650 - val_acc: 0.9500\n",
            "Epoch 64/300\n",
            "20/20 [==============================] - 23s 1s/step - loss: 1.3842e-11 - acc: 1.0000 - val_loss: 0.8659 - val_acc: 0.9500\n",
            "Epoch 65/300\n",
            "20/20 [==============================] - 22s 1s/step - loss: 1.1807e-11 - acc: 1.0000 - val_loss: 0.8671 - val_acc: 0.9500\n",
            "Epoch 66/300\n",
            "20/20 [==============================] - 22s 1s/step - loss: 1.5668e-11 - acc: 1.0000 - val_loss: 0.8683 - val_acc: 0.9500\n",
            "Epoch 67/300\n",
            "20/20 [==============================] - 22s 1s/step - loss: 1.0498e-11 - acc: 1.0000 - val_loss: 0.8691 - val_acc: 0.9500\n",
            "Epoch 68/300\n",
            "20/20 [==============================] - 22s 1s/step - loss: 1.2638e-11 - acc: 1.0000 - val_loss: 0.8699 - val_acc: 0.9500\n",
            "Epoch 69/300\n",
            "20/20 [==============================] - 22s 1s/step - loss: 1.5652e-11 - acc: 1.0000 - val_loss: 0.8710 - val_acc: 0.9500\n",
            "Epoch 70/300\n",
            "20/20 [==============================] - 23s 1s/step - loss: 1.1869e-11 - acc: 1.0000 - val_loss: 0.8718 - val_acc: 0.9500\n",
            "Epoch 71/300\n",
            "20/20 [==============================] - 22s 1s/step - loss: 1.6801e-11 - acc: 1.0000 - val_loss: 0.8734 - val_acc: 0.9500\n",
            "Epoch 72/300\n",
            "20/20 [==============================] - 22s 1s/step - loss: 2.0499e-11 - acc: 1.0000 - val_loss: 0.8743 - val_acc: 0.9500\n",
            "Epoch 73/300\n",
            "20/20 [==============================] - 22s 1s/step - loss: 2.5942e-11 - acc: 1.0000 - val_loss: 0.8753 - val_acc: 0.9500\n",
            "Epoch 74/300\n",
            "20/20 [==============================] - 22s 1s/step - loss: 1.7812e-11 - acc: 1.0000 - val_loss: 0.8760 - val_acc: 0.9500\n",
            "Epoch 75/300\n",
            "20/20 [==============================] - 22s 1s/step - loss: 1.8290e-11 - acc: 1.0000 - val_loss: 0.8766 - val_acc: 0.9500\n",
            "Epoch 76/300\n",
            "20/20 [==============================] - 22s 1s/step - loss: 1.2755e-11 - acc: 1.0000 - val_loss: 0.8776 - val_acc: 0.9500\n",
            "Epoch 77/300\n",
            "20/20 [==============================] - 22s 1s/step - loss: 1.4893e-11 - acc: 1.0000 - val_loss: 0.8783 - val_acc: 0.9500\n",
            "Epoch 78/300\n",
            "20/20 [==============================] - 22s 1s/step - loss: 1.3298e-11 - acc: 1.0000 - val_loss: 0.8793 - val_acc: 0.9500\n",
            "Epoch 79/300\n",
            "20/20 [==============================] - 23s 1s/step - loss: 1.6346e-11 - acc: 1.0000 - val_loss: 0.8800 - val_acc: 0.9500\n",
            "Epoch 80/300\n",
            "20/20 [==============================] - 22s 1s/step - loss: 1.2028e-11 - acc: 1.0000 - val_loss: 0.8807 - val_acc: 0.9500\n",
            "Epoch 81/300\n",
            "20/20 [==============================] - 23s 1s/step - loss: 1.2654e-11 - acc: 1.0000 - val_loss: 0.8815 - val_acc: 0.9500\n",
            "Epoch 82/300\n",
            "20/20 [==============================] - 23s 1s/step - loss: 1.7565e-11 - acc: 1.0000 - val_loss: 0.8824 - val_acc: 0.9500\n",
            "Epoch 83/300\n",
            "20/20 [==============================] - 22s 1s/step - loss: 1.7315e-11 - acc: 1.0000 - val_loss: 0.8830 - val_acc: 0.9500\n",
            "Epoch 84/300\n",
            "20/20 [==============================] - 22s 1s/step - loss: 1.1282e-11 - acc: 1.0000 - val_loss: 0.8834 - val_acc: 0.9500\n",
            "Epoch 85/300\n",
            "20/20 [==============================] - 23s 1s/step - loss: 1.7963e-11 - acc: 1.0000 - val_loss: 0.8842 - val_acc: 0.9500\n",
            "Epoch 86/300\n",
            "20/20 [==============================] - 22s 1s/step - loss: 1.6447e-11 - acc: 1.0000 - val_loss: 0.8847 - val_acc: 0.9500\n",
            "Epoch 87/300\n",
            "20/20 [==============================] - 22s 1s/step - loss: 1.4649e-11 - acc: 1.0000 - val_loss: 0.8855 - val_acc: 0.9500\n",
            "Epoch 88/300\n",
            "20/20 [==============================] - 22s 1s/step - loss: 1.5489e-11 - acc: 1.0000 - val_loss: 0.8862 - val_acc: 0.9500\n",
            "Epoch 89/300\n",
            "20/20 [==============================] - 22s 1s/step - loss: 1.5223e-11 - acc: 1.0000 - val_loss: 0.8868 - val_acc: 0.9500\n",
            "Epoch 90/300\n",
            "20/20 [==============================] - 23s 1s/step - loss: 1.4193e-11 - acc: 1.0000 - val_loss: 0.8875 - val_acc: 0.9500\n",
            "Epoch 91/300\n",
            "20/20 [==============================] - 21s 1s/step - loss: 1.7190e-11 - acc: 1.0000 - val_loss: 0.8880 - val_acc: 0.9500\n",
            "Epoch 92/300\n",
            "20/20 [==============================] - 23s 1s/step - loss: 1.3851e-11 - acc: 1.0000 - val_loss: 0.8886 - val_acc: 0.9500\n",
            "Epoch 93/300\n",
            "20/20 [==============================] - 22s 1s/step - loss: 1.7981e-11 - acc: 1.0000 - val_loss: 0.8891 - val_acc: 0.9500\n",
            "Epoch 94/300\n",
            "20/20 [==============================] - 22s 1s/step - loss: 2.0192e-11 - acc: 1.0000 - val_loss: 0.8896 - val_acc: 0.9500\n",
            "Epoch 95/300\n",
            "20/20 [==============================] - 22s 1s/step - loss: 1.1771e-11 - acc: 1.0000 - val_loss: 0.8903 - val_acc: 0.9500\n",
            "Epoch 96/300\n",
            "20/20 [==============================] - 23s 1s/step - loss: 1.5648e-11 - acc: 1.0000 - val_loss: 0.8910 - val_acc: 0.9500\n",
            "Epoch 97/300\n",
            "20/20 [==============================] - 22s 1s/step - loss: 1.8967e-11 - acc: 1.0000 - val_loss: 0.8914 - val_acc: 0.9500\n",
            "Epoch 98/300\n",
            "20/20 [==============================] - 23s 1s/step - loss: 1.9288e-11 - acc: 1.0000 - val_loss: 0.8920 - val_acc: 0.9500\n",
            "Epoch 99/300\n",
            "20/20 [==============================] - 22s 1s/step - loss: 1.3314e-11 - acc: 1.0000 - val_loss: 0.8925 - val_acc: 0.9500\n",
            "Epoch 100/300\n",
            "20/20 [==============================] - 23s 1s/step - loss: 2.2045e-11 - acc: 1.0000 - val_loss: 0.8932 - val_acc: 0.9500\n",
            "Epoch 101/300\n",
            "20/20 [==============================] - 21s 1s/step - loss: 2.1889e-11 - acc: 1.0000 - val_loss: 0.8936 - val_acc: 0.9500\n",
            "Epoch 102/300\n",
            "20/20 [==============================] - 22s 1s/step - loss: 1.8308e-11 - acc: 1.0000 - val_loss: 0.8949 - val_acc: 0.9500\n",
            "Epoch 103/300\n",
            "20/20 [==============================] - 22s 1s/step - loss: 1.8271e-11 - acc: 1.0000 - val_loss: 0.8954 - val_acc: 0.9500\n",
            "Epoch 104/300\n",
            "20/20 [==============================] - 22s 1s/step - loss: 1.6719e-11 - acc: 1.0000 - val_loss: 0.8959 - val_acc: 0.9500\n",
            "Epoch 105/300\n",
            "20/20 [==============================] - 23s 1s/step - loss: 2.1402e-11 - acc: 1.0000 - val_loss: 0.8964 - val_acc: 0.9500\n",
            "Epoch 106/300\n",
            "20/20 [==============================] - 22s 1s/step - loss: 1.4307e-11 - acc: 1.0000 - val_loss: 0.8969 - val_acc: 0.9500\n",
            "Epoch 107/300\n",
            "20/20 [==============================] - 23s 1s/step - loss: 2.1874e-11 - acc: 1.0000 - val_loss: 0.8974 - val_acc: 0.9500\n",
            "Epoch 108/300\n",
            "20/20 [==============================] - 21s 1s/step - loss: 2.8376e-11 - acc: 1.0000 - val_loss: 0.8979 - val_acc: 0.9500\n",
            "Epoch 109/300\n",
            "20/20 [==============================] - 22s 1s/step - loss: 1.5187e-11 - acc: 1.0000 - val_loss: 0.8984 - val_acc: 0.9500\n",
            "Epoch 110/300\n",
            "20/20 [==============================] - 22s 1s/step - loss: 2.8797e-11 - acc: 1.0000 - val_loss: 0.8989 - val_acc: 0.9500\n",
            "Epoch 111/300\n",
            "20/20 [==============================] - 22s 1s/step - loss: 1.8098e-11 - acc: 1.0000 - val_loss: 0.8994 - val_acc: 0.9500\n",
            "Epoch 112/300\n",
            "20/20 [==============================] - 22s 1s/step - loss: 1.4324e-11 - acc: 1.0000 - val_loss: 0.8998 - val_acc: 0.9500\n",
            "Epoch 113/300\n",
            "20/20 [==============================] - 22s 1s/step - loss: 2.2320e-11 - acc: 1.0000 - val_loss: 0.9003 - val_acc: 0.9500\n",
            "Epoch 114/300\n",
            "20/20 [==============================] - 22s 1s/step - loss: 2.0140e-11 - acc: 1.0000 - val_loss: 0.9008 - val_acc: 0.9500\n",
            "Epoch 115/300\n",
            "20/20 [==============================] - 22s 1s/step - loss: 2.3354e-11 - acc: 1.0000 - val_loss: 0.9012 - val_acc: 0.9500\n",
            "Epoch 116/300\n",
            "20/20 [==============================] - 23s 1s/step - loss: 2.2131e-11 - acc: 1.0000 - val_loss: 0.9015 - val_acc: 0.9500\n",
            "Epoch 117/300\n",
            "20/20 [==============================] - 22s 1s/step - loss: 1.6770e-11 - acc: 1.0000 - val_loss: 0.9020 - val_acc: 0.9500\n",
            "Epoch 118/300\n",
            "20/20 [==============================] - 23s 1s/step - loss: 2.5092e-11 - acc: 1.0000 - val_loss: 0.9024 - val_acc: 0.9500\n",
            "Epoch 119/300\n",
            "20/20 [==============================] - 21s 1s/step - loss: 1.5501e-11 - acc: 1.0000 - val_loss: 0.9029 - val_acc: 0.9500\n",
            "Epoch 120/300\n",
            "20/20 [==============================] - 23s 1s/step - loss: 2.1278e-11 - acc: 1.0000 - val_loss: 0.9034 - val_acc: 0.9500\n",
            "Epoch 121/300\n",
            "20/20 [==============================] - 22s 1s/step - loss: 2.2260e-11 - acc: 1.0000 - val_loss: 0.9040 - val_acc: 0.9500\n",
            "Epoch 122/300\n",
            "20/20 [==============================] - 22s 1s/step - loss: 2.0385e-11 - acc: 1.0000 - val_loss: 0.9044 - val_acc: 0.9500\n",
            "Epoch 123/300\n",
            "20/20 [==============================] - 23s 1s/step - loss: 2.8299e-11 - acc: 1.0000 - val_loss: 0.9047 - val_acc: 0.9500\n",
            "Epoch 124/300\n",
            "20/20 [==============================] - 23s 1s/step - loss: 1.6404e-11 - acc: 1.0000 - val_loss: 0.9052 - val_acc: 0.9500\n",
            "Epoch 125/300\n",
            "20/20 [==============================] - 23s 1s/step - loss: 2.1186e-11 - acc: 1.0000 - val_loss: 0.9057 - val_acc: 0.9500\n",
            "Epoch 126/300\n",
            "20/20 [==============================] - 23s 1s/step - loss: 2.2485e-11 - acc: 1.0000 - val_loss: 0.9060 - val_acc: 0.9500\n",
            "Epoch 127/300\n",
            "20/20 [==============================] - 22s 1s/step - loss: 2.1036e-11 - acc: 1.0000 - val_loss: 0.9064 - val_acc: 0.9500\n",
            "Epoch 128/300\n",
            "20/20 [==============================] - 23s 1s/step - loss: 2.2906e-11 - acc: 1.0000 - val_loss: 0.9068 - val_acc: 0.9500\n",
            "Epoch 129/300\n",
            "20/20 [==============================] - 23s 1s/step - loss: 2.4217e-11 - acc: 1.0000 - val_loss: 0.9072 - val_acc: 0.9500\n",
            "Epoch 130/300\n",
            "20/20 [==============================] - 22s 1s/step - loss: 1.9283e-11 - acc: 1.0000 - val_loss: 0.9076 - val_acc: 0.9500\n",
            "Epoch 131/300\n",
            "20/20 [==============================] - 23s 1s/step - loss: 1.8013e-11 - acc: 1.0000 - val_loss: 0.9080 - val_acc: 0.9500\n",
            "Epoch 132/300\n",
            "20/20 [==============================] - 22s 1s/step - loss: 2.5704e-11 - acc: 1.0000 - val_loss: 0.9083 - val_acc: 0.9500\n",
            "Epoch 133/300\n",
            "20/20 [==============================] - 23s 1s/step - loss: 2.4827e-11 - acc: 1.0000 - val_loss: 0.9087 - val_acc: 0.9500\n",
            "Epoch 134/300\n",
            "20/20 [==============================] - 22s 1s/step - loss: 2.0870e-11 - acc: 1.0000 - val_loss: 0.9091 - val_acc: 0.9500\n",
            "Epoch 135/300\n",
            "20/20 [==============================] - 23s 1s/step - loss: 2.2991e-11 - acc: 1.0000 - val_loss: 0.9095 - val_acc: 0.9500\n",
            "Epoch 136/300\n",
            "20/20 [==============================] - 23s 1s/step - loss: 2.2553e-11 - acc: 1.0000 - val_loss: 0.9098 - val_acc: 0.9500\n",
            "Epoch 137/300\n",
            "20/20 [==============================] - 22s 1s/step - loss: 2.3702e-11 - acc: 1.0000 - val_loss: 0.9102 - val_acc: 0.9500\n",
            "Epoch 138/300\n",
            "20/20 [==============================] - 22s 1s/step - loss: 3.3209e-11 - acc: 1.0000 - val_loss: 0.9106 - val_acc: 0.9500\n",
            "Epoch 139/300\n",
            "20/20 [==============================] - 22s 1s/step - loss: 1.8462e-11 - acc: 1.0000 - val_loss: 0.9110 - val_acc: 0.9500\n",
            "Epoch 140/300\n",
            "20/20 [==============================] - 22s 1s/step - loss: 1.8124e-11 - acc: 1.0000 - val_loss: 0.9113 - val_acc: 0.9500\n",
            "Epoch 141/300\n",
            "20/20 [==============================] - 22s 1s/step - loss: 2.8618e-11 - acc: 1.0000 - val_loss: 0.9116 - val_acc: 0.9500\n",
            "Epoch 142/300\n",
            "20/20 [==============================] - 22s 1s/step - loss: 1.9761e-11 - acc: 1.0000 - val_loss: 0.9120 - val_acc: 0.9500\n",
            "Epoch 143/300\n",
            "20/20 [==============================] - 23s 1s/step - loss: 2.7668e-11 - acc: 1.0000 - val_loss: 0.9123 - val_acc: 0.9500\n",
            "Epoch 144/300\n",
            "20/20 [==============================] - 22s 1s/step - loss: 3.0097e-11 - acc: 1.0000 - val_loss: 0.9127 - val_acc: 0.9500\n",
            "Epoch 145/300\n",
            "20/20 [==============================] - 22s 1s/step - loss: 1.7952e-11 - acc: 1.0000 - val_loss: 0.9130 - val_acc: 0.9500\n",
            "Epoch 146/300\n",
            "20/20 [==============================] - 22s 1s/step - loss: 2.4695e-11 - acc: 1.0000 - val_loss: 0.9133 - val_acc: 0.9500\n",
            "Epoch 147/300\n",
            "20/20 [==============================] - 22s 1s/step - loss: 2.5597e-11 - acc: 1.0000 - val_loss: 0.9137 - val_acc: 0.9500\n",
            "Epoch 148/300\n",
            "20/20 [==============================] - 23s 1s/step - loss: 2.9888e-11 - acc: 1.0000 - val_loss: 0.9139 - val_acc: 0.9500\n",
            "Epoch 149/300\n",
            "20/20 [==============================] - 22s 1s/step - loss: 2.2917e-11 - acc: 1.0000 - val_loss: 0.9147 - val_acc: 0.9500\n",
            "Epoch 150/300\n",
            "20/20 [==============================] - 22s 1s/step - loss: 2.8180e-11 - acc: 1.0000 - val_loss: 0.9150 - val_acc: 0.9500\n",
            "Epoch 151/300\n",
            "20/20 [==============================] - 22s 1s/step - loss: 2.3690e-11 - acc: 1.0000 - val_loss: 0.9152 - val_acc: 0.9500\n",
            "Epoch 152/300\n",
            "20/20 [==============================] - 22s 1s/step - loss: 2.7236e-11 - acc: 1.0000 - val_loss: 0.9156 - val_acc: 0.9500\n",
            "Epoch 153/300\n",
            "20/20 [==============================] - 21s 1s/step - loss: 2.7120e-11 - acc: 1.0000 - val_loss: 0.9158 - val_acc: 0.9500\n",
            "Epoch 154/300\n",
            "20/20 [==============================] - 22s 1s/step - loss: 2.5777e-11 - acc: 1.0000 - val_loss: 0.9162 - val_acc: 0.9500\n",
            "Epoch 155/300\n",
            "20/20 [==============================] - 22s 1s/step - loss: 2.1963e-11 - acc: 1.0000 - val_loss: 0.9165 - val_acc: 0.9500\n",
            "Epoch 156/300\n",
            "20/20 [==============================] - 21s 1s/step - loss: 3.0159e-11 - acc: 1.0000 - val_loss: 0.9168 - val_acc: 0.9500\n",
            "Epoch 157/300\n",
            "20/20 [==============================] - 23s 1s/step - loss: 3.3410e-11 - acc: 1.0000 - val_loss: 0.9170 - val_acc: 0.9500\n",
            "Epoch 158/300\n",
            "20/20 [==============================] - 22s 1s/step - loss: 4.1233e-11 - acc: 1.0000 - val_loss: 0.9174 - val_acc: 0.9500\n",
            "Epoch 159/300\n",
            "20/20 [==============================] - 22s 1s/step - loss: 5.0031e-11 - acc: 1.0000 - val_loss: 0.9177 - val_acc: 0.9500\n",
            "Epoch 160/300\n",
            "20/20 [==============================] - 22s 1s/step - loss: 2.9662e-11 - acc: 1.0000 - val_loss: 0.9179 - val_acc: 0.9500\n",
            "Epoch 161/300\n",
            "20/20 [==============================] - 22s 1s/step - loss: 2.2863e-11 - acc: 1.0000 - val_loss: 0.9182 - val_acc: 0.9500\n",
            "Epoch 162/300\n",
            "20/20 [==============================] - 22s 1s/step - loss: 3.4875e-11 - acc: 1.0000 - val_loss: 0.9186 - val_acc: 0.9500\n",
            "Epoch 163/300\n",
            "20/20 [==============================] - 22s 1s/step - loss: 3.3241e-11 - acc: 1.0000 - val_loss: 0.9188 - val_acc: 0.9500\n",
            "Epoch 164/300\n",
            "20/20 [==============================] - 22s 1s/step - loss: 2.2722e-11 - acc: 1.0000 - val_loss: 0.9191 - val_acc: 0.9500\n",
            "Epoch 165/300\n",
            "20/20 [==============================] - 22s 1s/step - loss: 5.7719e-11 - acc: 1.0000 - val_loss: 0.9194 - val_acc: 0.9500\n",
            "Epoch 166/300\n",
            "20/20 [==============================] - 22s 1s/step - loss: 2.0100e-11 - acc: 1.0000 - val_loss: 0.9197 - val_acc: 0.9500\n",
            "Epoch 167/300\n",
            "20/20 [==============================] - 22s 1s/step - loss: 3.5973e-11 - acc: 1.0000 - val_loss: 0.9199 - val_acc: 0.9500\n",
            "Epoch 168/300\n",
            "20/20 [==============================] - 23s 1s/step - loss: 3.4250e-11 - acc: 1.0000 - val_loss: 0.9203 - val_acc: 0.9500\n",
            "Epoch 169/300\n",
            "20/20 [==============================] - 22s 1s/step - loss: 2.8159e-11 - acc: 1.0000 - val_loss: 0.9209 - val_acc: 0.9500\n",
            "Epoch 170/300\n",
            "20/20 [==============================] - 23s 1s/step - loss: 3.0179e-11 - acc: 1.0000 - val_loss: 0.9212 - val_acc: 0.9500\n",
            "Epoch 171/300\n",
            "20/20 [==============================] - 21s 1s/step - loss: 2.9359e-11 - acc: 1.0000 - val_loss: 0.9214 - val_acc: 0.9500\n",
            "Epoch 172/300\n",
            "20/20 [==============================] - 23s 1s/step - loss: 6.2236e-11 - acc: 1.0000 - val_loss: 0.9217 - val_acc: 0.9500\n",
            "Epoch 173/300\n",
            "20/20 [==============================] - 22s 1s/step - loss: 2.2768e-11 - acc: 1.0000 - val_loss: 0.9219 - val_acc: 0.9500\n",
            "Epoch 174/300\n",
            "20/20 [==============================] - 22s 1s/step - loss: 3.7062e-11 - acc: 1.0000 - val_loss: 0.9222 - val_acc: 0.9500\n",
            "Epoch 175/300\n",
            "20/20 [==============================] - 22s 1s/step - loss: 2.9320e-11 - acc: 1.0000 - val_loss: 0.9225 - val_acc: 0.9500\n",
            "Epoch 176/300\n",
            "20/20 [==============================] - 22s 1s/step - loss: 3.0067e-11 - acc: 1.0000 - val_loss: 0.9228 - val_acc: 0.9500\n",
            "Epoch 177/300\n",
            "20/20 [==============================] - 22s 1s/step - loss: 2.5008e-11 - acc: 1.0000 - val_loss: 0.9231 - val_acc: 0.9500\n",
            "Epoch 178/300\n",
            "20/20 [==============================] - 23s 1s/step - loss: 4.1798e-11 - acc: 1.0000 - val_loss: 0.9233 - val_acc: 0.9500\n",
            "Epoch 179/300\n",
            "20/20 [==============================] - 22s 1s/step - loss: 3.4964e-11 - acc: 1.0000 - val_loss: 0.9236 - val_acc: 0.9500\n",
            "Epoch 180/300\n",
            "20/20 [==============================] - 22s 1s/step - loss: 3.2586e-11 - acc: 1.0000 - val_loss: 0.9238 - val_acc: 0.9500\n",
            "Epoch 181/300\n",
            "20/20 [==============================] - 23s 1s/step - loss: 3.3518e-11 - acc: 1.0000 - val_loss: 0.9241 - val_acc: 0.9500\n",
            "Epoch 182/300\n",
            "20/20 [==============================] - 22s 1s/step - loss: 2.8647e-11 - acc: 1.0000 - val_loss: 0.9243 - val_acc: 0.9500\n",
            "Epoch 183/300\n",
            "20/20 [==============================] - 23s 1s/step - loss: 3.8372e-11 - acc: 1.0000 - val_loss: 0.9246 - val_acc: 0.9500\n",
            "Epoch 184/300\n",
            "20/20 [==============================] - 22s 1s/step - loss: 3.2888e-11 - acc: 1.0000 - val_loss: 0.9248 - val_acc: 0.9500\n",
            "Epoch 185/300\n",
            "20/20 [==============================] - 22s 1s/step - loss: 3.1541e-11 - acc: 1.0000 - val_loss: 0.9252 - val_acc: 0.9500\n",
            "Epoch 186/300\n",
            "20/20 [==============================] - 22s 1s/step - loss: 3.0256e-11 - acc: 1.0000 - val_loss: 0.9253 - val_acc: 0.9500\n",
            "Epoch 187/300\n",
            "20/20 [==============================] - 23s 1s/step - loss: 3.4818e-11 - acc: 1.0000 - val_loss: 0.9256 - val_acc: 0.9500\n",
            "Epoch 188/300\n",
            "20/20 [==============================] - 21s 1s/step - loss: 2.5327e-11 - acc: 1.0000 - val_loss: 0.9259 - val_acc: 0.9500\n",
            "Epoch 189/300\n",
            "20/20 [==============================] - 23s 1s/step - loss: 3.4244e-11 - acc: 1.0000 - val_loss: 0.9261 - val_acc: 0.9500\n",
            "Epoch 190/300\n",
            "20/20 [==============================] - 22s 1s/step - loss: 3.8100e-11 - acc: 1.0000 - val_loss: 0.9263 - val_acc: 0.9500\n",
            "Epoch 191/300\n",
            "20/20 [==============================] - 23s 1s/step - loss: 3.3589e-11 - acc: 1.0000 - val_loss: 0.9266 - val_acc: 0.9500\n",
            "Epoch 192/300\n",
            "20/20 [==============================] - 22s 1s/step - loss: 2.8549e-11 - acc: 1.0000 - val_loss: 0.9268 - val_acc: 0.9500\n",
            "Epoch 193/300\n",
            "20/20 [==============================] - 22s 1s/step - loss: 3.9688e-11 - acc: 1.0000 - val_loss: 0.9270 - val_acc: 0.9500\n",
            "Epoch 194/300\n",
            "20/20 [==============================] - 22s 1s/step - loss: 3.2634e-11 - acc: 1.0000 - val_loss: 0.9272 - val_acc: 0.9500\n",
            "Epoch 195/300\n",
            "20/20 [==============================] - 22s 1s/step - loss: 3.9330e-11 - acc: 1.0000 - val_loss: 0.9275 - val_acc: 0.9500\n",
            "Epoch 196/300\n",
            "20/20 [==============================] - 22s 1s/step - loss: 3.5765e-11 - acc: 1.0000 - val_loss: 0.9278 - val_acc: 0.9500\n",
            "Epoch 197/300\n",
            "20/20 [==============================] - 22s 1s/step - loss: 3.4550e-11 - acc: 1.0000 - val_loss: 0.9280 - val_acc: 0.9500\n",
            "Epoch 198/300\n",
            "20/20 [==============================] - 22s 1s/step - loss: 4.4001e-11 - acc: 1.0000 - val_loss: 0.9282 - val_acc: 0.9500\n",
            "Epoch 199/300\n",
            "20/20 [==============================] - 22s 1s/step - loss: 3.1772e-11 - acc: 1.0000 - val_loss: 0.9284 - val_acc: 0.9500\n",
            "Epoch 200/300\n",
            "20/20 [==============================] - 22s 1s/step - loss: 4.2742e-11 - acc: 1.0000 - val_loss: 0.9286 - val_acc: 0.9500\n",
            "Epoch 201/300\n",
            "20/20 [==============================] - 22s 1s/step - loss: 2.7214e-11 - acc: 1.0000 - val_loss: 0.9289 - val_acc: 0.9500\n",
            "Epoch 202/300\n",
            "20/20 [==============================] - 22s 1s/step - loss: 4.3387e-11 - acc: 1.0000 - val_loss: 0.9291 - val_acc: 0.9500\n",
            "Epoch 203/300\n",
            "20/20 [==============================] - 22s 1s/step - loss: 3.5824e-11 - acc: 1.0000 - val_loss: 0.9296 - val_acc: 0.9500\n",
            "Epoch 204/300\n",
            "20/20 [==============================] - 22s 1s/step - loss: 4.4999e-11 - acc: 1.0000 - val_loss: 0.9298 - val_acc: 0.9500\n",
            "Epoch 205/300\n",
            "20/20 [==============================] - 22s 1s/step - loss: 2.8272e-11 - acc: 1.0000 - val_loss: 0.9301 - val_acc: 0.9500\n",
            "Epoch 206/300\n",
            "20/20 [==============================] - 22s 1s/step - loss: 4.4626e-11 - acc: 1.0000 - val_loss: 0.9304 - val_acc: 0.9500\n",
            "Epoch 207/300\n",
            "20/20 [==============================] - 22s 1s/step - loss: 3.6505e-11 - acc: 1.0000 - val_loss: 0.9306 - val_acc: 0.9500\n",
            "Epoch 208/300\n",
            "20/20 [==============================] - 22s 1s/step - loss: 3.8733e-11 - acc: 1.0000 - val_loss: 0.9308 - val_acc: 0.9500\n",
            "Epoch 209/300\n",
            "14/20 [====================>.........] - ETA: 2s - loss: 3.5269e-11 - acc: 1.0000"
          ],
          "name": "stdout"
        }
      ]
    },
    {
      "cell_type": "code",
      "metadata": {
        "id": "NPQbdg55fMe-",
        "colab_type": "code",
        "colab": {}
      },
      "source": [
        "history = history.history\n",
        "epochs = range(1, len(history['acc']) + 1 )\n",
        "loss = history['loss']\n",
        "acc = history['acc']\n",
        "val_loss = history['val_loss']\n",
        "val_acc = history['val_acc']\n",
        "plt.plot(epochs, loss, \"go\", label = \"train loss\")\n",
        "plt.plot(epochs, val_loss, \"r\", label = \"val loss\")\n",
        "plt.title(\"Loss\")\n",
        "plt.xlabel(\"epochs\")\n",
        "plt.ylabel(\"loss\")\n",
        "plt.legend()\n",
        "plt.figure()\n",
        "plt.plot(epochs, acc, \"go\", label = \"acc\")\n",
        "plt.plot(epochs, val_acc, \"r\", label = \"val acc\")\n",
        "plt.xlabel(\"epochs\")\n",
        "plt.ylabel(\"acc\")\n",
        "plt.title(\"accuracy\")\n",
        "plt.legend()\n",
        "plt.show()"
      ],
      "execution_count": 0,
      "outputs": []
    },
    {
      "cell_type": "code",
      "metadata": {
        "id": "uuYkVz_Lfv3M",
        "colab_type": "code",
        "colab": {}
      },
      "source": [
        "model, history = load_data(3)"
      ],
      "execution_count": 0,
      "outputs": []
    },
    {
      "cell_type": "code",
      "metadata": {
        "id": "u34nc9yZgOmU",
        "colab_type": "code",
        "colab": {}
      },
      "source": [
        "test_datagen = ImageDataGenerator(rescale = 1./255)\n",
        "test_generator  = test_datagen.flow_from_directory(\n",
        "    test_dir,\n",
        "    batch_size = 10,\n",
        "    target_size = (150,150),\n",
        "    class_mode = \"binary\"\n",
        ")\n",
        "model.evaluate(test_generator, steps = 15)"
      ],
      "execution_count": 0,
      "outputs": []
    },
    {
      "cell_type": "code",
      "metadata": {
        "id": "NaycbMy1gePk",
        "colab_type": "code",
        "colab": {}
      },
      "source": [
        "!unzip \"drive/My Drive/deeplearning/pred.zip\""
      ],
      "execution_count": 0,
      "outputs": []
    },
    {
      "cell_type": "code",
      "metadata": {
        "id": "eIxEruTsoN2E",
        "colab_type": "code",
        "colab": {}
      },
      "source": [
        "!mv pred data\n",
        "!ls data"
      ],
      "execution_count": 0,
      "outputs": []
    },
    {
      "cell_type": "code",
      "metadata": {
        "id": "Yg4ax2rosnsr",
        "colab_type": "code",
        "colab": {}
      },
      "source": [
        "pred_dir = \"data/pred\""
      ],
      "execution_count": 0,
      "outputs": []
    },
    {
      "cell_type": "code",
      "metadata": {
        "id": "EQAqCESssKdJ",
        "colab_type": "code",
        "colab": {}
      },
      "source": [
        "labels = {0 : \"corona\", 1 : \"normal\"}"
      ],
      "execution_count": 0,
      "outputs": []
    },
    {
      "cell_type": "code",
      "metadata": {
        "id": "FJl-3T1XoT7T",
        "colab_type": "code",
        "colab": {}
      },
      "source": [
        "pred_datagen = ImageDataGenerator(rescale = 1./255)\n",
        "\n",
        "pred_generator = pred_datagen.flow_from_directory(\n",
        "    pred_dir,\n",
        "    target_size = (150,150),\n",
        "    batch_size = 1,\n",
        "    class_mode = \"binary\"\n",
        ")"
      ],
      "execution_count": 0,
      "outputs": []
    },
    {
      "cell_type": "code",
      "metadata": {
        "id": "Ji_JU7x8v3VU",
        "colab_type": "code",
        "colab": {}
      },
      "source": [
        "prediction = model.predict(pred_generator, verbose = 1, steps = 10)"
      ],
      "execution_count": 0,
      "outputs": []
    },
    {
      "cell_type": "code",
      "metadata": {
        "id": "cd8HBPn0wZwL",
        "colab_type": "code",
        "colab": {}
      },
      "source": [
        "import numpy as np\n",
        "pred = []\n",
        "for i in range(len(prediction)):\n",
        "  pred.append((np.argmax(prediction[i])))"
      ],
      "execution_count": 0,
      "outputs": []
    },
    {
      "cell_type": "code",
      "metadata": {
        "id": "PkH9ZfR3zzm0",
        "colab_type": "code",
        "colab": {}
      },
      "source": [
        "for j in pred:\n",
        "  print(f\"predicted :{labels[j]}\")"
      ],
      "execution_count": 0,
      "outputs": []
    },
    {
      "cell_type": "code",
      "metadata": {
        "id": "3Uh5-y_s9gH6",
        "colab_type": "code",
        "colab": {}
      },
      "source": [
        ""
      ],
      "execution_count": 0,
      "outputs": []
    }
  ]
}