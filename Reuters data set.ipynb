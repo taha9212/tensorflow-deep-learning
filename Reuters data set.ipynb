{
 "cells": [
  {
   "cell_type": "code",
   "execution_count": 5,
   "metadata": {},
   "outputs": [],
   "source": [
    "import tensorflow as tf\n",
    "import numpy as np"
   ]
  },
  {
   "cell_type": "code",
   "execution_count": 7,
   "metadata": {},
   "outputs": [],
   "source": [
    "from tensorflow.keras.datasets import reuters"
   ]
  },
  {
   "cell_type": "code",
   "execution_count": 8,
   "metadata": {},
   "outputs": [],
   "source": [
    "(train_data, train_label),(test_data, test_label) = reuters.load_data(num_words = 10000)"
   ]
  },
  {
   "cell_type": "code",
   "execution_count": 9,
   "metadata": {},
   "outputs": [
    {
     "name": "stdout",
     "output_type": "stream",
     "text": [
      "train data 8982\n",
      "test data 2246\n"
     ]
    }
   ],
   "source": [
    "print(\"train data\", len(train_data))\n",
    "print(\"test data\", len(test_data))"
   ]
  },
  {
   "cell_type": "code",
   "execution_count": 5,
   "metadata": {},
   "outputs": [],
   "source": [
    "word_index = reuters.get_word_index()\n",
    "reverse_word_index = dict([(value, key) for (key, value) in word_index.items()])\n",
    "decoded_newswire=''.join([reverse_word_index.get(i - 3, '?') for i in train_data[0]])"
   ]
  },
  {
   "cell_type": "code",
   "execution_count": 6,
   "metadata": {},
   "outputs": [
    {
     "data": {
      "text/plain": [
       "array([3, 4, 3, 4, 4], dtype=int64)"
      ]
     },
     "execution_count": 6,
     "metadata": {},
     "output_type": "execute_result"
    }
   ],
   "source": [
    "train_label[0:5]"
   ]
  },
  {
   "cell_type": "code",
   "execution_count": 7,
   "metadata": {},
   "outputs": [
    {
     "name": "stdout",
     "output_type": "stream",
     "text": [
      "45\n",
      "0\n"
     ]
    }
   ],
   "source": [
    "print(max(train_label))\n",
    "print(min(train_label))"
   ]
  },
  {
   "cell_type": "code",
   "execution_count": 10,
   "metadata": {},
   "outputs": [],
   "source": [
    "def vectorized_data(seq, dimension = 10000):\n",
    "    result = np.zeros((len(seq), dimension))\n",
    "    for i, sequence in enumerate(seq):\n",
    "        result[i, sequence] = 1\n",
    "    return result"
   ]
  },
  {
   "cell_type": "code",
   "execution_count": 11,
   "metadata": {},
   "outputs": [],
   "source": [
    "vec_train = vectorized_data(train_data)\n",
    "vec_test = vectorized_data(test_data)"
   ]
  },
  {
   "cell_type": "code",
   "execution_count": 12,
   "metadata": {},
   "outputs": [],
   "source": [
    "def one_hot_encoding(seq, dim = 46):\n",
    "    result = np.zeros((len(seq), dim))\n",
    "    for i, seqs in enumerate(seq):\n",
    "        result[i, seqs] = 1\n",
    "    return result"
   ]
  },
  {
   "cell_type": "code",
   "execution_count": 13,
   "metadata": {},
   "outputs": [],
   "source": [
    "ohe_train_label = one_hot_encoding(train_label)\n",
    "ohe_test_label = one_hot_encoding(test_label)"
   ]
  },
  {
   "cell_type": "code",
   "execution_count": 6,
   "metadata": {},
   "outputs": [],
   "source": [
    "from tensorflow.keras import models, layers, optimizers"
   ]
  },
  {
   "cell_type": "code",
   "execution_count": 13,
   "metadata": {},
   "outputs": [],
   "source": [
    "model = models.Sequential()\n",
    "model.add(layers.Dense(64, input_shape = (10000,), activation = \"relu\"))\n",
    "model.add(layers.Dense(64, activation = \"relu\"))\n",
    "model.add(layers.Dense(46, activation = \"softmax\"))"
   ]
  },
  {
   "cell_type": "code",
   "execution_count": 14,
   "metadata": {},
   "outputs": [],
   "source": [
    "model.compile(\n",
    "    loss = \"categorical_crossentropy\",\n",
    "    optimizer = \"rmsprop\",\n",
    "    metrics = ['acc']\n",
    ")"
   ]
  },
  {
   "cell_type": "code",
   "execution_count": 15,
   "metadata": {},
   "outputs": [],
   "source": [
    "val_data = vec_train[:1000]\n",
    "val_label = ohe_train_label[:1000]\n",
    "paritial_train = vec_train[1000:]\n",
    "partial_label = ohe_train_label[1000:]"
   ]
  },
  {
   "cell_type": "code",
   "execution_count": 16,
   "metadata": {},
   "outputs": [
    {
     "name": "stdout",
     "output_type": "stream",
     "text": [
      "Train on 7982 samples, validate on 1000 samples\n",
      "Epoch 1/20\n",
      "7982/7982 [==============================] - 1s 145us/sample - loss: 2.6547 - acc: 0.5323 - val_loss: 1.7794 - val_acc: 0.6470\n",
      "Epoch 2/20\n",
      "7982/7982 [==============================] - 1s 96us/sample - loss: 1.4456 - acc: 0.7032 - val_loss: 1.3079 - val_acc: 0.7190\n",
      "Epoch 3/20\n",
      "7982/7982 [==============================] - 1s 114us/sample - loss: 1.0677 - acc: 0.7710 - val_loss: 1.1320 - val_acc: 0.7440\n",
      "Epoch 4/20\n",
      "7982/7982 [==============================] - 1s 114us/sample - loss: 0.8495 - acc: 0.8145 - val_loss: 1.0376 - val_acc: 0.7700\n",
      "Epoch 5/20\n",
      "7982/7982 [==============================] - 1s 96us/sample - loss: 0.6858 - acc: 0.8528 - val_loss: 0.9670 - val_acc: 0.7970\n",
      "Epoch 6/20\n",
      "7982/7982 [==============================] - 1s 92us/sample - loss: 0.5585 - acc: 0.8819 - val_loss: 0.9137 - val_acc: 0.8040\n",
      "Epoch 7/20\n",
      "7982/7982 [==============================] - 1s 92us/sample - loss: 0.4502 - acc: 0.9048 - val_loss: 0.8936 - val_acc: 0.8140\n",
      "Epoch 8/20\n",
      "7982/7982 [==============================] - 1s 90us/sample - loss: 0.3697 - acc: 0.9225 - val_loss: 0.8772 - val_acc: 0.8160\n",
      "Epoch 9/20\n",
      "7982/7982 [==============================] - 1s 94us/sample - loss: 0.3041 - acc: 0.9339 - val_loss: 0.8888 - val_acc: 0.8200\n",
      "Epoch 10/20\n",
      "7982/7982 [==============================] - 1s 92us/sample - loss: 0.2557 - acc: 0.9426 - val_loss: 0.9014 - val_acc: 0.8150\n",
      "Epoch 11/20\n",
      "7982/7982 [==============================] - 1s 94us/sample - loss: 0.2214 - acc: 0.9479 - val_loss: 0.8984 - val_acc: 0.8180\n",
      "Epoch 12/20\n",
      "7982/7982 [==============================] - 1s 96us/sample - loss: 0.1912 - acc: 0.9503 - val_loss: 0.9401 - val_acc: 0.8230\n",
      "Epoch 13/20\n",
      "7982/7982 [==============================] - 1s 94us/sample - loss: 0.1741 - acc: 0.9515 - val_loss: 0.9213 - val_acc: 0.8190\n",
      "Epoch 14/20\n",
      "7982/7982 [==============================] - 1s 98us/sample - loss: 0.1567 - acc: 0.9559 - val_loss: 0.9584 - val_acc: 0.8150\n",
      "Epoch 15/20\n",
      "7982/7982 [==============================] - 1s 94us/sample - loss: 0.1448 - acc: 0.9543 - val_loss: 0.9453 - val_acc: 0.8170\n",
      "Epoch 16/20\n",
      "7982/7982 [==============================] - 1s 92us/sample - loss: 0.1335 - acc: 0.9553 - val_loss: 0.9968 - val_acc: 0.8160\n",
      "Epoch 17/20\n",
      "7982/7982 [==============================] - 1s 98us/sample - loss: 0.1292 - acc: 0.9563 - val_loss: 1.0624 - val_acc: 0.8080\n",
      "Epoch 18/20\n",
      "7982/7982 [==============================] - 1s 98us/sample - loss: 0.1224 - acc: 0.9572 - val_loss: 1.0039 - val_acc: 0.8200\n",
      "Epoch 19/20\n",
      "7982/7982 [==============================] - 1s 94us/sample - loss: 0.1141 - acc: 0.9587 - val_loss: 1.0418 - val_acc: 0.8210\n",
      "Epoch 20/20\n",
      "7982/7982 [==============================] - 1s 96us/sample - loss: 0.1145 - acc: 0.9593 - val_loss: 1.0497 - val_acc: 0.8140\n"
     ]
    }
   ],
   "source": [
    "history = model.fit(\n",
    "    paritial_train, partial_label, epochs = 20,  batch_size = 512, validation_data = (val_data, val_label)\n",
    ")"
   ]
  },
  {
   "cell_type": "code",
   "execution_count": 15,
   "metadata": {},
   "outputs": [],
   "source": [
    "import matplotlib.pyplot as plt\n",
    "import pickle "
   ]
  },
  {
   "cell_type": "code",
   "execution_count": 3,
   "metadata": {},
   "outputs": [],
   "source": [
    "storagepath = \"E:\\\\Taha\\\\tensorflow\\\\deep learning\\\\save\\\\\""
   ]
  },
  {
   "cell_type": "code",
   "execution_count": 19,
   "metadata": {},
   "outputs": [],
   "source": [
    "def save_data(model, history, iteration):\n",
    "    model_file = storagepath + \"reuters_model\" + str(iteration).strip() + \".h5\"\n",
    "    history_file = storagepath + \"reuters_history\" + str(iteration).strip() + \".pkle\"\n",
    "    model.save(model_file)\n",
    "    with open(history_file, \"wb\") as fp:\n",
    "        pickle.dump(history_file, fp)\n",
    "    return model, history"
   ]
  },
  {
   "cell_type": "code",
   "execution_count": 1,
   "metadata": {},
   "outputs": [],
   "source": [
    "def load_data(iteration):\n",
    "    model_file = storagepath + \"reuters_model\" + str(iteration).strip() + \".h5\"\n",
    "    history_file = storagepath + \"reuters_history\" + str(iteration).strip() + \".pkle\"\n",
    "    model = models.load_model(model_file)\n",
    "    with open(history_file, 'rb') as  fp:\n",
    "        history = pickle.load(fp)\n",
    "    return model, pickle"
   ]
  },
  {
   "cell_type": "code",
   "execution_count": 21,
   "metadata": {},
   "outputs": [
    {
     "name": "stdout",
     "output_type": "stream",
     "text": [
      "<tensorflow.python.keras.engine.sequential.Sequential object at 0x00000264C5B93E48> <tensorflow.python.keras.callbacks.History object at 0x00000264C5286B70> saved\n"
     ]
    }
   ],
   "source": [
    "save_data(model, history, 1)\n",
    "print(model, history,\"saved\")"
   ]
  },
  {
   "cell_type": "code",
   "execution_count": 22,
   "metadata": {},
   "outputs": [
    {
     "data": {
      "image/png": "[encoded data removed]",
      "text/plain": [
       "<Figure size 432x288 with 1 Axes>"
      ]
     },
     "metadata": {
      "needs_background": "light"
     },
     "output_type": "display_data"
    },
    {
     "data": {
      "image/png": "[encoded data removed]",
      "text/plain": [
       "<Figure size 432x288 with 1 Axes>"
      ]
     },
     "metadata": {
      "needs_background": "light"
     },
     "output_type": "display_data"
    }
   ],
   "source": [
    "history = history.history\n",
    "acc = history['acc']\n",
    "val_acc = history['val_acc']\n",
    "loss = history['loss']\n",
    "val_loss = history['val_loss']\n",
    "epochs = range(1, len(acc) + 1)\n",
    "plt.plot(epochs, acc, 'bo', label='Training acc')\n",
    "plt.plot(epochs, val_acc, 'b', label='Validation acc')\n",
    "plt.title('Training and validation accuracy')\n",
    "plt.legend()\n",
    "plt.figure()\n",
    "plt.plot(epochs, loss, 'bo', label='Training loss')\n",
    "plt.plot(epochs, val_loss, 'b', label='Validation loss')\n",
    "plt.title('Training and validation loss')\n",
    "plt.legend()\n",
    "plt.show()"
   ]
  },
  {
   "cell_type": "code",
   "execution_count": 29,
   "metadata": {},
   "outputs": [
    {
     "name": "stdout",
     "output_type": "stream",
     "text": [
      "Train on 7982 samples, validate on 1000 samples\n",
      "Epoch 1/9\n",
      "7982/7982 [==============================] - 1s 143us/sample - loss: 2.5341 - acc: 0.4987 - val_loss: 1.6843 - val_acc: 0.6200\n",
      "Epoch 2/9\n",
      "7982/7982 [==============================] - 1s 100us/sample - loss: 1.4113 - acc: 0.6885 - val_loss: 1.3071 - val_acc: 0.6950\n",
      "Epoch 3/9\n",
      "7982/7982 [==============================] - 1s 102us/sample - loss: 1.0631 - acc: 0.7699 - val_loss: 1.1337 - val_acc: 0.7400\n",
      "Epoch 4/9\n",
      "7982/7982 [==============================] - 1s 96us/sample - loss: 0.8354 - acc: 0.8201 - val_loss: 1.0138 - val_acc: 0.7890\n",
      "Epoch 5/9\n",
      "7982/7982 [==============================] - 1s 100us/sample - loss: 0.6603 - acc: 0.8617 - val_loss: 0.9752 - val_acc: 0.7980\n",
      "Epoch 6/9\n",
      "7982/7982 [==============================] - 1s 96us/sample - loss: 0.5270 - acc: 0.8921 - val_loss: 0.9034 - val_acc: 0.8100\n",
      "Epoch 7/9\n",
      "7982/7982 [==============================] - 1s 100us/sample - loss: 0.4269 - acc: 0.9123 - val_loss: 0.8892 - val_acc: 0.8150\n",
      "Epoch 8/9\n",
      "7982/7982 [==============================] - 1s 96us/sample - loss: 0.3481 - acc: 0.9266 - val_loss: 0.9319 - val_acc: 0.7900\n",
      "Epoch 9/9\n",
      "7982/7982 [==============================] - 1s 94us/sample - loss: 0.2875 - acc: 0.9399 - val_loss: 0.8635 - val_acc: 0.8190\n"
     ]
    }
   ],
   "source": [
    "model = models.Sequential()\n",
    "model.add(layers.Dense(64, input_shape = (10000,), activation = \"relu\"))\n",
    "model.add(layers.Dense(64, activation = \"relu\"))\n",
    "model.add(layers.Dense(46, activation = \"softmax\"))\n",
    "model.compile(\n",
    "    loss = \"categorical_crossentropy\",\n",
    "    optimizer = \"rmsprop\",\n",
    "    metrics = ['acc']\n",
    ")\n",
    "history = model.fit(\n",
    "    paritial_train, partial_label, epochs = 9,  batch_size = 512, validation_data = (val_data, val_label)\n",
    ")"
   ]
  },
  {
   "cell_type": "code",
   "execution_count": 30,
   "metadata": {},
   "outputs": [
    {
     "name": "stdout",
     "output_type": "stream",
     "text": [
      "<tensorflow.python.keras.engine.sequential.Sequential object at 0x0000026480A7DC18> <tensorflow.python.keras.callbacks.History object at 0x0000026481118A90> saved\n"
     ]
    },
    {
     "data": {
      "image/png": "[encoded data removed]",
      "text/plain": [
       "<Figure size 432x288 with 1 Axes>"
      ]
     },
     "metadata": {
      "needs_background": "light"
     },
     "output_type": "display_data"
    },
    {
     "data": {
      "image/png": "[encoded data removed]",
      "text/plain": [
       "<Figure size 432x288 with 1 Axes>"
      ]
     },
     "metadata": {
      "needs_background": "light"
     },
     "output_type": "display_data"
    }
   ],
   "source": [
    "save_data(model, history, 2)\n",
    "print(model, history,\"saved\")\n",
    "history = history.history\n",
    "acc = history['acc']\n",
    "val_acc = history['val_acc']\n",
    "loss = history['loss']\n",
    "val_loss = history['val_loss']\n",
    "epochs = range(1, len(acc) + 1)\n",
    "plt.plot(epochs, acc, 'bo', label='Training acc')\n",
    "plt.plot(epochs, val_acc, 'b', label='Validation acc')\n",
    "plt.title('Training and validation accuracy')\n",
    "plt.legend()\n",
    "plt.figure()\n",
    "plt.plot(epochs, loss, 'bo', label='Training loss')\n",
    "plt.plot(epochs, val_loss, 'b', label='Validation loss')\n",
    "plt.title('Training and validation loss')\n",
    "plt.legend()\n",
    "plt.show()"
   ]
  },
  {
   "cell_type": "code",
   "execution_count": 27,
   "metadata": {},
   "outputs": [
    {
     "name": "stdout",
     "output_type": "stream",
     "text": [
      "Train on 7982 samples, validate on 1000 samples\n",
      "Epoch 1/30\n",
      "7982/7982 [==============================] - 1s 139us/sample - loss: 2.5292 - acc: 0.5288 - val_loss: 1.7197 - val_acc: 0.6350\n",
      "Epoch 2/30\n",
      "7982/7982 [==============================] - 1s 96us/sample - loss: 1.4189 - acc: 0.6922 - val_loss: 1.3355 - val_acc: 0.7090\n",
      "Epoch 3/30\n",
      "7982/7982 [==============================] - 1s 100us/sample - loss: 1.0685 - acc: 0.7676 - val_loss: 1.1696 - val_acc: 0.7390\n",
      "Epoch 4/30\n",
      "7982/7982 [==============================] - 1s 94us/sample - loss: 0.8403 - acc: 0.8208 - val_loss: 1.0334 - val_acc: 0.7810\n",
      "Epoch 5/30\n",
      "7982/7982 [==============================] - 1s 102us/sample - loss: 0.6637 - acc: 0.8593 - val_loss: 1.0027 - val_acc: 0.7860\n",
      "Epoch 6/30\n",
      "7982/7982 [==============================] - ETA: 0s - loss: 0.5266 - acc: 0.891 - 1s 94us/sample - loss: 0.5273 - acc: 0.8915 - val_loss: 0.9232 - val_acc: 0.8040\n",
      "Epoch 7/30\n",
      "7982/7982 [==============================] - 1s 94us/sample - loss: 0.4190 - acc: 0.9117 - val_loss: 0.8987 - val_acc: 0.8060\n",
      "Epoch 8/30\n",
      "7982/7982 [==============================] - 1s 94us/sample - loss: 0.3463 - acc: 0.9261 - val_loss: 0.8774 - val_acc: 0.8200\n",
      "Epoch 9/30\n",
      "7982/7982 [==============================] - 1s 104us/sample - loss: 0.2812 - acc: 0.9391 - val_loss: 0.8906 - val_acc: 0.8150\n",
      "Epoch 10/30\n",
      "7982/7982 [==============================] - 1s 104us/sample - loss: 0.2404 - acc: 0.9439 - val_loss: 0.9872 - val_acc: 0.7880\n",
      "Epoch 11/30\n",
      "7982/7982 [==============================] - 1s 96us/sample - loss: 0.2060 - acc: 0.9484 - val_loss: 0.9423 - val_acc: 0.8000\n",
      "Epoch 12/30\n",
      "7982/7982 [==============================] - 1s 94us/sample - loss: 0.1807 - acc: 0.9525 - val_loss: 0.9269 - val_acc: 0.8140\n",
      "Epoch 13/30\n",
      "7982/7982 [==============================] - 1s 96us/sample - loss: 0.1624 - acc: 0.9528 - val_loss: 0.9651 - val_acc: 0.8140\n",
      "Epoch 14/30\n",
      "7982/7982 [==============================] - 1s 98us/sample - loss: 0.1507 - acc: 0.9539 - val_loss: 1.0360 - val_acc: 0.8020\n",
      "Epoch 15/30\n",
      "7982/7982 [==============================] - 1s 100us/sample - loss: 0.1363 - acc: 0.9569 - val_loss: 0.9734 - val_acc: 0.8120\n",
      "Epoch 16/30\n",
      "7982/7982 [==============================] - 1s 96us/sample - loss: 0.1288 - acc: 0.9579 - val_loss: 1.0158 - val_acc: 0.8140\n",
      "Epoch 17/30\n",
      "7982/7982 [==============================] - 1s 96us/sample - loss: 0.1220 - acc: 0.9575 - val_loss: 1.0289 - val_acc: 0.8110\n",
      "Epoch 18/30\n",
      "7982/7982 [==============================] - 1s 98us/sample - loss: 0.1206 - acc: 0.9577 - val_loss: 1.0570 - val_acc: 0.8040\n",
      "Epoch 19/30\n",
      "7982/7982 [==============================] - 1s 96us/sample - loss: 0.1150 - acc: 0.9582 - val_loss: 1.1019 - val_acc: 0.7940\n",
      "Epoch 20/30\n",
      "7982/7982 [==============================] - 1s 106us/sample - loss: 0.1100 - acc: 0.9592 - val_loss: 1.0596 - val_acc: 0.8120\n",
      "Epoch 21/30\n",
      "7982/7982 [==============================] - 1s 98us/sample - loss: 0.1085 - acc: 0.9567 - val_loss: 1.1360 - val_acc: 0.8080\n",
      "Epoch 22/30\n",
      "7982/7982 [==============================] - 1s 96us/sample - loss: 0.1067 - acc: 0.9569 - val_loss: 1.1127 - val_acc: 0.8090\n",
      "Epoch 23/30\n",
      "7982/7982 [==============================] - 1s 94us/sample - loss: 0.1030 - acc: 0.9588 - val_loss: 1.1301 - val_acc: 0.7990\n",
      "Epoch 24/30\n",
      "7982/7982 [==============================] - 1s 96us/sample - loss: 0.0997 - acc: 0.9589 - val_loss: 1.1717 - val_acc: 0.7960\n",
      "Epoch 25/30\n",
      "7982/7982 [==============================] - 1s 96us/sample - loss: 0.1000 - acc: 0.9574 - val_loss: 1.2214 - val_acc: 0.7990\n",
      "Epoch 26/30\n",
      "7982/7982 [==============================] - 1s 104us/sample - loss: 0.0970 - acc: 0.9592 - val_loss: 1.2096 - val_acc: 0.7980\n",
      "Epoch 27/30\n",
      "7982/7982 [==============================] - 1s 104us/sample - loss: 0.0976 - acc: 0.9573 - val_loss: 1.1778 - val_acc: 0.8040\n",
      "Epoch 28/30\n",
      "7982/7982 [==============================] - 1s 98us/sample - loss: 0.0983 - acc: 0.9584 - val_loss: 1.2254 - val_acc: 0.7980\n",
      "Epoch 29/30\n",
      "7982/7982 [==============================] - 1s 94us/sample - loss: 0.0960 - acc: 0.9579 - val_loss: 1.2321 - val_acc: 0.8020\n",
      "Epoch 30/30\n",
      "7982/7982 [==============================] - 1s 92us/sample - loss: 0.0957 - acc: 0.9588 - val_loss: 1.2259 - val_acc: 0.8020\n"
     ]
    }
   ],
   "source": [
    "model = models.Sequential()\n",
    "model.add(layers.Dense(64, input_shape = (10000,), activation = \"relu\"))\n",
    "model.add(layers.Dense(64, activation = \"relu\"))\n",
    "model.add(layers.Dense(46, activation = \"softmax\"))\n",
    "model.compile(\n",
    "    loss = \"categorical_crossentropy\",\n",
    "    optimizer = \"rmsprop\",\n",
    "    metrics = ['acc']\n",
    ")\n",
    "history = model.fit(\n",
    "    paritial_train, partial_label, epochs = 30,  batch_size = 512, validation_data = (val_data, val_label)\n",
    ")"
   ]
  },
  {
   "cell_type": "code",
   "execution_count": 28,
   "metadata": {},
   "outputs": [
    {
     "name": "stdout",
     "output_type": "stream",
     "text": [
      "<tensorflow.python.keras.engine.sequential.Sequential object at 0x00000264C64A18D0> <tensorflow.python.keras.callbacks.History object at 0x0000026480970CC0> saved\n"
     ]
    },
    {
     "data": {
      "image/png": "[encoded data removed]",
      "text/plain": [
       "<Figure size 432x288 with 1 Axes>"
      ]
     },
     "metadata": {
      "needs_background": "light"
     },
     "output_type": "display_data"
    },
    {
     "data": {
      "image/png": "[encoded data removed]",
      "text/plain": [
       "<Figure size 432x288 with 1 Axes>"
      ]
     },
     "metadata": {
      "needs_background": "light"
     },
     "output_type": "display_data"
    }
   ],
   "source": [
    "save_data(model, history, 3)\n",
    "print(model, history,\"saved\")\n",
    "history = history.history\n",
    "acc = history['acc']\n",
    "val_acc = history['val_acc']\n",
    "loss = history['loss']\n",
    "val_loss = history['val_loss']\n",
    "epochs = range(1, len(acc) + 1)\n",
    "plt.plot(epochs, acc, 'bo', label='Training acc')\n",
    "plt.plot(epochs, val_acc, 'b', label='Validation acc')\n",
    "plt.title('Training and validation accuracy')\n",
    "plt.legend()\n",
    "plt.figure()\n",
    "plt.plot(epochs, loss, 'bo', label='Training loss')\n",
    "plt.plot(epochs, val_loss, 'b', label='Validation loss')\n",
    "plt.title('Training and validation loss')\n",
    "plt.legend()\n",
    "plt.show()"
   ]
  },
  {
   "cell_type": "code",
   "execution_count": 31,
   "metadata": {},
   "outputs": [
    {
     "name": "stdout",
     "output_type": "stream",
     "text": [
      "2246/2246 [==============================] - 0s 174us/sample - loss: 0.9658 - acc: 0.7903\n"
     ]
    },
    {
     "data": {
      "text/plain": [
       "[0.9658000348193881, 0.7902939]"
      ]
     },
     "execution_count": 31,
     "metadata": {},
     "output_type": "execute_result"
    }
   ],
   "source": [
    "model.evaluate(vec_test, ohe_test_label)"
   ]
  },
  {
   "cell_type": "code",
   "execution_count": 16,
   "metadata": {},
   "outputs": [],
   "source": [
    "model, history = load_data(2)"
   ]
  },
  {
   "cell_type": "code",
   "execution_count": 17,
   "metadata": {},
   "outputs": [],
   "source": [
    "prediction = model.predict(vec_test)"
   ]
  },
  {
   "cell_type": "code",
   "execution_count": 18,
   "metadata": {},
   "outputs": [
    {
     "data": {
      "text/plain": [
       "(2246, 46)"
      ]
     },
     "execution_count": 18,
     "metadata": {},
     "output_type": "execute_result"
    }
   ],
   "source": [
    "prediction.shape"
   ]
  },
  {
   "cell_type": "code",
   "execution_count": 19,
   "metadata": {},
   "outputs": [
    {
     "data": {
      "text/plain": [
       "1.0000001"
      ]
     },
     "execution_count": 19,
     "metadata": {},
     "output_type": "execute_result"
    }
   ],
   "source": [
    "np.sum(prediction[0])"
   ]
  },
  {
   "cell_type": "code",
   "execution_count": 20,
   "metadata": {},
   "outputs": [
    {
     "data": {
      "text/plain": [
       "3"
      ]
     },
     "execution_count": 20,
     "metadata": {},
     "output_type": "execute_result"
    }
   ],
   "source": [
    "np.argmax(prediction[0])"
   ]
  },
  {
   "cell_type": "code",
   "execution_count": null,
   "metadata": {},
   "outputs": [],
   "source": []
  }
 ],
 "metadata": {
  "kernelspec": {
   "display_name": "Python 3",
   "language": "python",
   "name": "python3"
  },
  "language_info": {
   "codemirror_mode": {
    "name": "ipython",
    "version": 3
   },
   "file_extension": ".py",
   "mimetype": "text/x-python",
   "name": "python",
   "nbconvert_exporter": "python",
   "pygments_lexer": "ipython3",
   "version": "3.7.3"
  }
 },
 "nbformat": 4,
 "nbformat_minor": 2
}
