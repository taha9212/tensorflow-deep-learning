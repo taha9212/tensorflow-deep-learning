{
  "nbformat": 4,
  "nbformat_minor": 0,
  "metadata": {
    "colab": {
      "name": "flight_delay",
      "provenance": [],
      "collapsed_sections": []
    },
    "kernelspec": {
      "name": "python3",
      "display_name": "Python 3"
    },
    "accelerator": "GPU"
  },
  "cells": [
    {
      "cell_type": "code",
      "metadata": {
        "id": "eGUGVpeUzhUP",
        "colab_type": "code",
        "outputId": "3a5c8da7-3928-40f2-b85d-ff3d0d9bfdcb",
        "colab": {
          "base_uri": "https://localhost:8080/",
          "height": 35
        }
      },
      "source": [
        "from google.colab import drive\n",
        "drive.mount(\"/content/drive\")"
      ],
      "execution_count": 0,
      "outputs": [
        {
          "output_type": "stream",
          "text": [
            "Drive already mounted at /content/drive; to attempt to forcibly remount, call drive.mount(\"/content/drive\", force_remount=True).\n"
          ],
          "name": "stdout"
        }
      ]
    },
    {
      "cell_type": "code",
      "metadata": {
        "id": "XCKNPOQn1sze",
        "colab_type": "code",
        "colab": {}
      },
      "source": [
        "import tensorflow as tf\n",
        "import matplotlib.pyplot as plt\n",
        "import pandas as pd\n",
        "import numpy as np\n",
        "from tensorflow.keras import models, layers, optimizers, regularizers\n",
        "from sklearn.utils import shuffle\n",
        "import pickle"
      ],
      "execution_count": 0,
      "outputs": []
    },
    {
      "cell_type": "code",
      "metadata": {
        "id": "LVsrAPvf0kDe",
        "colab_type": "code",
        "outputId": "a00c770c-16ad-4066-c6bb-3fe93def2798",
        "colab": {
          "base_uri": "https://localhost:8080/",
          "height": 72
        }
      },
      "source": [
        "!unzip \"drive/My Drive/deeplearning/flight-delay-prediction.zip\""
      ],
      "execution_count": 0,
      "outputs": [
        {
          "output_type": "stream",
          "text": [
            "Archive:  drive/My Drive/deeplearning/flight-delay-prediction.zip\n",
            "  inflating: Jan_2019_ontime.csv     \n",
            "  inflating: Jan_2020_ontime.csv     \n"
          ],
          "name": "stdout"
        }
      ]
    },
    {
      "cell_type": "code",
      "metadata": {
        "id": "nJA7a5Oa1NHr",
        "colab_type": "code",
        "colab": {}
      },
      "source": [
        "data_set_2019 = pd.read_csv(\"Jan_2019_ontime.csv\", na_values = [0])"
      ],
      "execution_count": 0,
      "outputs": []
    },
    {
      "cell_type": "code",
      "metadata": {
        "id": "243V50xi2dz3",
        "colab_type": "code",
        "outputId": "66207fda-e39a-4780-ba45-e2afbe139f70",
        "colab": {
          "base_uri": "https://localhost:8080/",
          "height": 262
        }
      },
      "source": [
        "display(len(data_set_2019))\n",
        "display(data_set_2019.head())"
      ],
      "execution_count": 0,
      "outputs": [
        {
          "output_type": "display_data",
          "data": {
            "text/plain": [
              "583985"
            ]
          },
          "metadata": {
            "tags": []
          }
        },
        {
          "output_type": "display_data",
          "data": {
            "text/html": [
              "<div>\n",
              "<style scoped>\n",
              "    .dataframe tbody tr th:only-of-type {\n",
              "        vertical-align: middle;\n",
              "    }\n",
              "\n",
              "    .dataframe tbody tr th {\n",
              "        vertical-align: top;\n",
              "    }\n",
              "\n",
              "    .dataframe thead th {\n",
              "        text-align: right;\n",
              "    }\n",
              "</style>\n",
              "<table border=\"1\" class=\"dataframe\">\n",
              "  <thead>\n",
              "    <tr style=\"text-align: right;\">\n",
              "      <th></th>\n",
              "      <th>DAY_OF_MONTH</th>\n",
              "      <th>DAY_OF_WEEK</th>\n",
              "      <th>OP_UNIQUE_CARRIER</th>\n",
              "      <th>OP_CARRIER_AIRLINE_ID</th>\n",
              "      <th>OP_CARRIER</th>\n",
              "      <th>TAIL_NUM</th>\n",
              "      <th>OP_CARRIER_FL_NUM</th>\n",
              "      <th>ORIGIN_AIRPORT_ID</th>\n",
              "      <th>ORIGIN_AIRPORT_SEQ_ID</th>\n",
              "      <th>ORIGIN</th>\n",
              "      <th>DEST_AIRPORT_ID</th>\n",
              "      <th>DEST_AIRPORT_SEQ_ID</th>\n",
              "      <th>DEST</th>\n",
              "      <th>DEP_TIME</th>\n",
              "      <th>DEP_DEL15</th>\n",
              "      <th>DEP_TIME_BLK</th>\n",
              "      <th>ARR_TIME</th>\n",
              "      <th>ARR_DEL15</th>\n",
              "      <th>CANCELLED</th>\n",
              "      <th>DIVERTED</th>\n",
              "      <th>DISTANCE</th>\n",
              "      <th>Unnamed: 21</th>\n",
              "    </tr>\n",
              "  </thead>\n",
              "  <tbody>\n",
              "    <tr>\n",
              "      <th>0</th>\n",
              "      <td>1</td>\n",
              "      <td>2</td>\n",
              "      <td>9E</td>\n",
              "      <td>20363</td>\n",
              "      <td>9E</td>\n",
              "      <td>N8688C</td>\n",
              "      <td>3280</td>\n",
              "      <td>11953</td>\n",
              "      <td>1195302</td>\n",
              "      <td>GNV</td>\n",
              "      <td>10397</td>\n",
              "      <td>1039707</td>\n",
              "      <td>ATL</td>\n",
              "      <td>601.0</td>\n",
              "      <td>NaN</td>\n",
              "      <td>0600-0659</td>\n",
              "      <td>722.0</td>\n",
              "      <td>NaN</td>\n",
              "      <td>NaN</td>\n",
              "      <td>NaN</td>\n",
              "      <td>300.0</td>\n",
              "      <td>NaN</td>\n",
              "    </tr>\n",
              "    <tr>\n",
              "      <th>1</th>\n",
              "      <td>1</td>\n",
              "      <td>2</td>\n",
              "      <td>9E</td>\n",
              "      <td>20363</td>\n",
              "      <td>9E</td>\n",
              "      <td>N348PQ</td>\n",
              "      <td>3281</td>\n",
              "      <td>13487</td>\n",
              "      <td>1348702</td>\n",
              "      <td>MSP</td>\n",
              "      <td>11193</td>\n",
              "      <td>1119302</td>\n",
              "      <td>CVG</td>\n",
              "      <td>1359.0</td>\n",
              "      <td>NaN</td>\n",
              "      <td>1400-1459</td>\n",
              "      <td>1633.0</td>\n",
              "      <td>NaN</td>\n",
              "      <td>NaN</td>\n",
              "      <td>NaN</td>\n",
              "      <td>596.0</td>\n",
              "      <td>NaN</td>\n",
              "    </tr>\n",
              "    <tr>\n",
              "      <th>2</th>\n",
              "      <td>1</td>\n",
              "      <td>2</td>\n",
              "      <td>9E</td>\n",
              "      <td>20363</td>\n",
              "      <td>9E</td>\n",
              "      <td>N8896A</td>\n",
              "      <td>3282</td>\n",
              "      <td>11433</td>\n",
              "      <td>1143302</td>\n",
              "      <td>DTW</td>\n",
              "      <td>11193</td>\n",
              "      <td>1119302</td>\n",
              "      <td>CVG</td>\n",
              "      <td>1215.0</td>\n",
              "      <td>NaN</td>\n",
              "      <td>1200-1259</td>\n",
              "      <td>1329.0</td>\n",
              "      <td>NaN</td>\n",
              "      <td>NaN</td>\n",
              "      <td>NaN</td>\n",
              "      <td>229.0</td>\n",
              "      <td>NaN</td>\n",
              "    </tr>\n",
              "    <tr>\n",
              "      <th>3</th>\n",
              "      <td>1</td>\n",
              "      <td>2</td>\n",
              "      <td>9E</td>\n",
              "      <td>20363</td>\n",
              "      <td>9E</td>\n",
              "      <td>N8886A</td>\n",
              "      <td>3283</td>\n",
              "      <td>15249</td>\n",
              "      <td>1524906</td>\n",
              "      <td>TLH</td>\n",
              "      <td>10397</td>\n",
              "      <td>1039707</td>\n",
              "      <td>ATL</td>\n",
              "      <td>1521.0</td>\n",
              "      <td>NaN</td>\n",
              "      <td>1500-1559</td>\n",
              "      <td>1625.0</td>\n",
              "      <td>NaN</td>\n",
              "      <td>NaN</td>\n",
              "      <td>NaN</td>\n",
              "      <td>223.0</td>\n",
              "      <td>NaN</td>\n",
              "    </tr>\n",
              "    <tr>\n",
              "      <th>4</th>\n",
              "      <td>1</td>\n",
              "      <td>2</td>\n",
              "      <td>9E</td>\n",
              "      <td>20363</td>\n",
              "      <td>9E</td>\n",
              "      <td>N8974C</td>\n",
              "      <td>3284</td>\n",
              "      <td>10397</td>\n",
              "      <td>1039707</td>\n",
              "      <td>ATL</td>\n",
              "      <td>11778</td>\n",
              "      <td>1177801</td>\n",
              "      <td>FSM</td>\n",
              "      <td>1847.0</td>\n",
              "      <td>NaN</td>\n",
              "      <td>1900-1959</td>\n",
              "      <td>1940.0</td>\n",
              "      <td>NaN</td>\n",
              "      <td>NaN</td>\n",
              "      <td>NaN</td>\n",
              "      <td>579.0</td>\n",
              "      <td>NaN</td>\n",
              "    </tr>\n",
              "  </tbody>\n",
              "</table>\n",
              "</div>"
            ],
            "text/plain": [
              "   DAY_OF_MONTH  DAY_OF_WEEK OP_UNIQUE_CARRIER  ...  DIVERTED DISTANCE Unnamed: 21\n",
              "0             1            2                9E  ...       NaN    300.0         NaN\n",
              "1             1            2                9E  ...       NaN    596.0         NaN\n",
              "2             1            2                9E  ...       NaN    229.0         NaN\n",
              "3             1            2                9E  ...       NaN    223.0         NaN\n",
              "4             1            2                9E  ...       NaN    579.0         NaN\n",
              "\n",
              "[5 rows x 22 columns]"
            ]
          },
          "metadata": {
            "tags": []
          }
        }
      ]
    },
    {
      "cell_type": "code",
      "metadata": {
        "id": "bNDa9efeJJXt",
        "colab_type": "code",
        "colab": {}
      },
      "source": [
        "data_set_2019 = data_set_2019.replace(np.nan, 0)"
      ],
      "execution_count": 0,
      "outputs": []
    },
    {
      "cell_type": "code",
      "metadata": {
        "id": "W880fe6SJZdg",
        "colab_type": "code",
        "outputId": "7706e1f5-fbc0-452d-b442-ad8fd1ffff9c",
        "colab": {
          "base_uri": "https://localhost:8080/",
          "height": 262
        }
      },
      "source": [
        "display(len(data_set_2019))\n",
        "display(data_set_2019.head())"
      ],
      "execution_count": 0,
      "outputs": [
        {
          "output_type": "display_data",
          "data": {
            "text/plain": [
              "583985"
            ]
          },
          "metadata": {
            "tags": []
          }
        },
        {
          "output_type": "display_data",
          "data": {
            "text/html": [
              "<div>\n",
              "<style scoped>\n",
              "    .dataframe tbody tr th:only-of-type {\n",
              "        vertical-align: middle;\n",
              "    }\n",
              "\n",
              "    .dataframe tbody tr th {\n",
              "        vertical-align: top;\n",
              "    }\n",
              "\n",
              "    .dataframe thead th {\n",
              "        text-align: right;\n",
              "    }\n",
              "</style>\n",
              "<table border=\"1\" class=\"dataframe\">\n",
              "  <thead>\n",
              "    <tr style=\"text-align: right;\">\n",
              "      <th></th>\n",
              "      <th>DAY_OF_MONTH</th>\n",
              "      <th>DAY_OF_WEEK</th>\n",
              "      <th>OP_UNIQUE_CARRIER</th>\n",
              "      <th>OP_CARRIER_AIRLINE_ID</th>\n",
              "      <th>OP_CARRIER</th>\n",
              "      <th>TAIL_NUM</th>\n",
              "      <th>OP_CARRIER_FL_NUM</th>\n",
              "      <th>ORIGIN_AIRPORT_ID</th>\n",
              "      <th>ORIGIN_AIRPORT_SEQ_ID</th>\n",
              "      <th>ORIGIN</th>\n",
              "      <th>DEST_AIRPORT_ID</th>\n",
              "      <th>DEST_AIRPORT_SEQ_ID</th>\n",
              "      <th>DEST</th>\n",
              "      <th>DEP_TIME</th>\n",
              "      <th>DEP_DEL15</th>\n",
              "      <th>DEP_TIME_BLK</th>\n",
              "      <th>ARR_TIME</th>\n",
              "      <th>ARR_DEL15</th>\n",
              "      <th>CANCELLED</th>\n",
              "      <th>DIVERTED</th>\n",
              "      <th>DISTANCE</th>\n",
              "      <th>Unnamed: 21</th>\n",
              "    </tr>\n",
              "  </thead>\n",
              "  <tbody>\n",
              "    <tr>\n",
              "      <th>0</th>\n",
              "      <td>1</td>\n",
              "      <td>2</td>\n",
              "      <td>9E</td>\n",
              "      <td>20363</td>\n",
              "      <td>9E</td>\n",
              "      <td>N8688C</td>\n",
              "      <td>3280</td>\n",
              "      <td>11953</td>\n",
              "      <td>1195302</td>\n",
              "      <td>GNV</td>\n",
              "      <td>10397</td>\n",
              "      <td>1039707</td>\n",
              "      <td>ATL</td>\n",
              "      <td>601.0</td>\n",
              "      <td>0.0</td>\n",
              "      <td>0600-0659</td>\n",
              "      <td>722.0</td>\n",
              "      <td>0.0</td>\n",
              "      <td>0.0</td>\n",
              "      <td>0.0</td>\n",
              "      <td>300.0</td>\n",
              "      <td>0.0</td>\n",
              "    </tr>\n",
              "    <tr>\n",
              "      <th>1</th>\n",
              "      <td>1</td>\n",
              "      <td>2</td>\n",
              "      <td>9E</td>\n",
              "      <td>20363</td>\n",
              "      <td>9E</td>\n",
              "      <td>N348PQ</td>\n",
              "      <td>3281</td>\n",
              "      <td>13487</td>\n",
              "      <td>1348702</td>\n",
              "      <td>MSP</td>\n",
              "      <td>11193</td>\n",
              "      <td>1119302</td>\n",
              "      <td>CVG</td>\n",
              "      <td>1359.0</td>\n",
              "      <td>0.0</td>\n",
              "      <td>1400-1459</td>\n",
              "      <td>1633.0</td>\n",
              "      <td>0.0</td>\n",
              "      <td>0.0</td>\n",
              "      <td>0.0</td>\n",
              "      <td>596.0</td>\n",
              "      <td>0.0</td>\n",
              "    </tr>\n",
              "    <tr>\n",
              "      <th>2</th>\n",
              "      <td>1</td>\n",
              "      <td>2</td>\n",
              "      <td>9E</td>\n",
              "      <td>20363</td>\n",
              "      <td>9E</td>\n",
              "      <td>N8896A</td>\n",
              "      <td>3282</td>\n",
              "      <td>11433</td>\n",
              "      <td>1143302</td>\n",
              "      <td>DTW</td>\n",
              "      <td>11193</td>\n",
              "      <td>1119302</td>\n",
              "      <td>CVG</td>\n",
              "      <td>1215.0</td>\n",
              "      <td>0.0</td>\n",
              "      <td>1200-1259</td>\n",
              "      <td>1329.0</td>\n",
              "      <td>0.0</td>\n",
              "      <td>0.0</td>\n",
              "      <td>0.0</td>\n",
              "      <td>229.0</td>\n",
              "      <td>0.0</td>\n",
              "    </tr>\n",
              "    <tr>\n",
              "      <th>3</th>\n",
              "      <td>1</td>\n",
              "      <td>2</td>\n",
              "      <td>9E</td>\n",
              "      <td>20363</td>\n",
              "      <td>9E</td>\n",
              "      <td>N8886A</td>\n",
              "      <td>3283</td>\n",
              "      <td>15249</td>\n",
              "      <td>1524906</td>\n",
              "      <td>TLH</td>\n",
              "      <td>10397</td>\n",
              "      <td>1039707</td>\n",
              "      <td>ATL</td>\n",
              "      <td>1521.0</td>\n",
              "      <td>0.0</td>\n",
              "      <td>1500-1559</td>\n",
              "      <td>1625.0</td>\n",
              "      <td>0.0</td>\n",
              "      <td>0.0</td>\n",
              "      <td>0.0</td>\n",
              "      <td>223.0</td>\n",
              "      <td>0.0</td>\n",
              "    </tr>\n",
              "    <tr>\n",
              "      <th>4</th>\n",
              "      <td>1</td>\n",
              "      <td>2</td>\n",
              "      <td>9E</td>\n",
              "      <td>20363</td>\n",
              "      <td>9E</td>\n",
              "      <td>N8974C</td>\n",
              "      <td>3284</td>\n",
              "      <td>10397</td>\n",
              "      <td>1039707</td>\n",
              "      <td>ATL</td>\n",
              "      <td>11778</td>\n",
              "      <td>1177801</td>\n",
              "      <td>FSM</td>\n",
              "      <td>1847.0</td>\n",
              "      <td>0.0</td>\n",
              "      <td>1900-1959</td>\n",
              "      <td>1940.0</td>\n",
              "      <td>0.0</td>\n",
              "      <td>0.0</td>\n",
              "      <td>0.0</td>\n",
              "      <td>579.0</td>\n",
              "      <td>0.0</td>\n",
              "    </tr>\n",
              "  </tbody>\n",
              "</table>\n",
              "</div>"
            ],
            "text/plain": [
              "   DAY_OF_MONTH  DAY_OF_WEEK OP_UNIQUE_CARRIER  ...  DIVERTED DISTANCE Unnamed: 21\n",
              "0             1            2                9E  ...       0.0    300.0         0.0\n",
              "1             1            2                9E  ...       0.0    596.0         0.0\n",
              "2             1            2                9E  ...       0.0    229.0         0.0\n",
              "3             1            2                9E  ...       0.0    223.0         0.0\n",
              "4             1            2                9E  ...       0.0    579.0         0.0\n",
              "\n",
              "[5 rows x 22 columns]"
            ]
          },
          "metadata": {
            "tags": []
          }
        }
      ]
    },
    {
      "cell_type": "code",
      "metadata": {
        "id": "yX_iugCkjMUY",
        "colab_type": "code",
        "colab": {}
      },
      "source": [
        "target_2019 = data_set_2019['ARR_TIME']\n",
        "data_set_2019 = data_set_2019.drop(['ARR_TIME'], axis = 1)"
      ],
      "execution_count": 0,
      "outputs": []
    },
    {
      "cell_type": "code",
      "metadata": {
        "id": "GJNBbH5lJbfL",
        "colab_type": "code",
        "colab": {}
      },
      "source": [
        "dummeis_2019 = pd.get_dummies(data_set_2019[[\"OP_UNIQUE_CARRIER\", \"OP_CARRIER\", \"ORIGIN\", \"DEST\", \"DEP_TIME_BLK\"]])"
      ],
      "execution_count": 0,
      "outputs": []
    },
    {
      "cell_type": "code",
      "metadata": {
        "id": "XPDT6RJKKrcd",
        "colab_type": "code",
        "colab": {}
      },
      "source": [
        "data_set_2019 = pd.concat([data_set_2019,dummeis_2019], axis = 1 )"
      ],
      "execution_count": 0,
      "outputs": []
    },
    {
      "cell_type": "code",
      "metadata": {
        "id": "Ba_yrA29f7N_",
        "colab_type": "code",
        "outputId": "87594a5f-7f7a-4393-92a0-241fc8c645c2",
        "colab": {
          "base_uri": "https://localhost:8080/",
          "height": 164
        }
      },
      "source": [
        "print(data_set_2019.head())"
      ],
      "execution_count": 0,
      "outputs": [
        {
          "output_type": "stream",
          "text": [
            "   DAY_OF_MONTH  DAY_OF_WEEK  ... DEP_TIME_BLK_2200-2259  DEP_TIME_BLK_2300-2359\n",
            "0             1            2  ...                      0                       0\n",
            "1             1            2  ...                      0                       0\n",
            "2             1            2  ...                      0                       0\n",
            "3             1            2  ...                      0                       0\n",
            "4             1            2  ...                      0                       0\n",
            "\n",
            "[5 rows x 766 columns]\n"
          ],
          "name": "stdout"
        }
      ]
    },
    {
      "cell_type": "code",
      "metadata": {
        "id": "ky-H-0K0LjMM",
        "colab_type": "code",
        "colab": {}
      },
      "source": [
        "data_set_2019 = data_set_2019.drop([\"OP_UNIQUE_CARRIER\", \"OP_CARRIER\", \"ORIGIN\", \"DEST\", \"TAIL_NUM\", \"Unnamed: 21\", \"DEP_TIME_BLK\"], axis = 1)"
      ],
      "execution_count": 0,
      "outputs": []
    },
    {
      "cell_type": "code",
      "metadata": {
        "id": "Q2xQ2_9BLt3l",
        "colab_type": "code",
        "outputId": "958b30e8-ce02-4eba-f35b-d3a9d19fecb9",
        "colab": {
          "base_uri": "https://localhost:8080/",
          "height": 256
        }
      },
      "source": [
        "display(data_set_2019.head())"
      ],
      "execution_count": 0,
      "outputs": [
        {
          "output_type": "display_data",
          "data": {
            "text/html": [
              "<div>\n",
              "<style scoped>\n",
              "    .dataframe tbody tr th:only-of-type {\n",
              "        vertical-align: middle;\n",
              "    }\n",
              "\n",
              "    .dataframe tbody tr th {\n",
              "        vertical-align: top;\n",
              "    }\n",
              "\n",
              "    .dataframe thead th {\n",
              "        text-align: right;\n",
              "    }\n",
              "</style>\n",
              "<table border=\"1\" class=\"dataframe\">\n",
              "  <thead>\n",
              "    <tr style=\"text-align: right;\">\n",
              "      <th></th>\n",
              "      <th>DAY_OF_MONTH</th>\n",
              "      <th>DAY_OF_WEEK</th>\n",
              "      <th>OP_CARRIER_AIRLINE_ID</th>\n",
              "      <th>OP_CARRIER_FL_NUM</th>\n",
              "      <th>ORIGIN_AIRPORT_ID</th>\n",
              "      <th>ORIGIN_AIRPORT_SEQ_ID</th>\n",
              "      <th>DEST_AIRPORT_ID</th>\n",
              "      <th>DEST_AIRPORT_SEQ_ID</th>\n",
              "      <th>DEP_TIME</th>\n",
              "      <th>DEP_DEL15</th>\n",
              "      <th>ARR_DEL15</th>\n",
              "      <th>CANCELLED</th>\n",
              "      <th>DIVERTED</th>\n",
              "      <th>DISTANCE</th>\n",
              "      <th>OP_UNIQUE_CARRIER_9E</th>\n",
              "      <th>OP_UNIQUE_CARRIER_AA</th>\n",
              "      <th>OP_UNIQUE_CARRIER_AS</th>\n",
              "      <th>OP_UNIQUE_CARRIER_B6</th>\n",
              "      <th>OP_UNIQUE_CARRIER_DL</th>\n",
              "      <th>OP_UNIQUE_CARRIER_EV</th>\n",
              "      <th>OP_UNIQUE_CARRIER_F9</th>\n",
              "      <th>OP_UNIQUE_CARRIER_G4</th>\n",
              "      <th>OP_UNIQUE_CARRIER_HA</th>\n",
              "      <th>OP_UNIQUE_CARRIER_MQ</th>\n",
              "      <th>OP_UNIQUE_CARRIER_NK</th>\n",
              "      <th>OP_UNIQUE_CARRIER_OH</th>\n",
              "      <th>OP_UNIQUE_CARRIER_OO</th>\n",
              "      <th>OP_UNIQUE_CARRIER_UA</th>\n",
              "      <th>OP_UNIQUE_CARRIER_WN</th>\n",
              "      <th>OP_UNIQUE_CARRIER_YV</th>\n",
              "      <th>OP_UNIQUE_CARRIER_YX</th>\n",
              "      <th>OP_CARRIER_9E</th>\n",
              "      <th>OP_CARRIER_AA</th>\n",
              "      <th>OP_CARRIER_AS</th>\n",
              "      <th>OP_CARRIER_B6</th>\n",
              "      <th>OP_CARRIER_DL</th>\n",
              "      <th>OP_CARRIER_EV</th>\n",
              "      <th>OP_CARRIER_F9</th>\n",
              "      <th>OP_CARRIER_G4</th>\n",
              "      <th>OP_CARRIER_HA</th>\n",
              "      <th>...</th>\n",
              "      <th>DEST_TLH</th>\n",
              "      <th>DEST_TOL</th>\n",
              "      <th>DEST_TPA</th>\n",
              "      <th>DEST_TRI</th>\n",
              "      <th>DEST_TTN</th>\n",
              "      <th>DEST_TUL</th>\n",
              "      <th>DEST_TUS</th>\n",
              "      <th>DEST_TVC</th>\n",
              "      <th>DEST_TWF</th>\n",
              "      <th>DEST_TXK</th>\n",
              "      <th>DEST_TYR</th>\n",
              "      <th>DEST_TYS</th>\n",
              "      <th>DEST_UIN</th>\n",
              "      <th>DEST_USA</th>\n",
              "      <th>DEST_VEL</th>\n",
              "      <th>DEST_VLD</th>\n",
              "      <th>DEST_VPS</th>\n",
              "      <th>DEST_WRG</th>\n",
              "      <th>DEST_XNA</th>\n",
              "      <th>DEST_YAK</th>\n",
              "      <th>DEST_YUM</th>\n",
              "      <th>DEP_TIME_BLK_0001-0559</th>\n",
              "      <th>DEP_TIME_BLK_0600-0659</th>\n",
              "      <th>DEP_TIME_BLK_0700-0759</th>\n",
              "      <th>DEP_TIME_BLK_0800-0859</th>\n",
              "      <th>DEP_TIME_BLK_0900-0959</th>\n",
              "      <th>DEP_TIME_BLK_1000-1059</th>\n",
              "      <th>DEP_TIME_BLK_1100-1159</th>\n",
              "      <th>DEP_TIME_BLK_1200-1259</th>\n",
              "      <th>DEP_TIME_BLK_1300-1359</th>\n",
              "      <th>DEP_TIME_BLK_1400-1459</th>\n",
              "      <th>DEP_TIME_BLK_1500-1559</th>\n",
              "      <th>DEP_TIME_BLK_1600-1659</th>\n",
              "      <th>DEP_TIME_BLK_1700-1759</th>\n",
              "      <th>DEP_TIME_BLK_1800-1859</th>\n",
              "      <th>DEP_TIME_BLK_1900-1959</th>\n",
              "      <th>DEP_TIME_BLK_2000-2059</th>\n",
              "      <th>DEP_TIME_BLK_2100-2159</th>\n",
              "      <th>DEP_TIME_BLK_2200-2259</th>\n",
              "      <th>DEP_TIME_BLK_2300-2359</th>\n",
              "    </tr>\n",
              "  </thead>\n",
              "  <tbody>\n",
              "    <tr>\n",
              "      <th>0</th>\n",
              "      <td>1</td>\n",
              "      <td>2</td>\n",
              "      <td>20363</td>\n",
              "      <td>3280</td>\n",
              "      <td>11953</td>\n",
              "      <td>1195302</td>\n",
              "      <td>10397</td>\n",
              "      <td>1039707</td>\n",
              "      <td>601.0</td>\n",
              "      <td>0.0</td>\n",
              "      <td>0.0</td>\n",
              "      <td>0.0</td>\n",
              "      <td>0.0</td>\n",
              "      <td>300.0</td>\n",
              "      <td>1</td>\n",
              "      <td>0</td>\n",
              "      <td>0</td>\n",
              "      <td>0</td>\n",
              "      <td>0</td>\n",
              "      <td>0</td>\n",
              "      <td>0</td>\n",
              "      <td>0</td>\n",
              "      <td>0</td>\n",
              "      <td>0</td>\n",
              "      <td>0</td>\n",
              "      <td>0</td>\n",
              "      <td>0</td>\n",
              "      <td>0</td>\n",
              "      <td>0</td>\n",
              "      <td>0</td>\n",
              "      <td>0</td>\n",
              "      <td>1</td>\n",
              "      <td>0</td>\n",
              "      <td>0</td>\n",
              "      <td>0</td>\n",
              "      <td>0</td>\n",
              "      <td>0</td>\n",
              "      <td>0</td>\n",
              "      <td>0</td>\n",
              "      <td>0</td>\n",
              "      <td>...</td>\n",
              "      <td>0</td>\n",
              "      <td>0</td>\n",
              "      <td>0</td>\n",
              "      <td>0</td>\n",
              "      <td>0</td>\n",
              "      <td>0</td>\n",
              "      <td>0</td>\n",
              "      <td>0</td>\n",
              "      <td>0</td>\n",
              "      <td>0</td>\n",
              "      <td>0</td>\n",
              "      <td>0</td>\n",
              "      <td>0</td>\n",
              "      <td>0</td>\n",
              "      <td>0</td>\n",
              "      <td>0</td>\n",
              "      <td>0</td>\n",
              "      <td>0</td>\n",
              "      <td>0</td>\n",
              "      <td>0</td>\n",
              "      <td>0</td>\n",
              "      <td>0</td>\n",
              "      <td>1</td>\n",
              "      <td>0</td>\n",
              "      <td>0</td>\n",
              "      <td>0</td>\n",
              "      <td>0</td>\n",
              "      <td>0</td>\n",
              "      <td>0</td>\n",
              "      <td>0</td>\n",
              "      <td>0</td>\n",
              "      <td>0</td>\n",
              "      <td>0</td>\n",
              "      <td>0</td>\n",
              "      <td>0</td>\n",
              "      <td>0</td>\n",
              "      <td>0</td>\n",
              "      <td>0</td>\n",
              "      <td>0</td>\n",
              "      <td>0</td>\n",
              "    </tr>\n",
              "    <tr>\n",
              "      <th>1</th>\n",
              "      <td>1</td>\n",
              "      <td>2</td>\n",
              "      <td>20363</td>\n",
              "      <td>3281</td>\n",
              "      <td>13487</td>\n",
              "      <td>1348702</td>\n",
              "      <td>11193</td>\n",
              "      <td>1119302</td>\n",
              "      <td>1359.0</td>\n",
              "      <td>0.0</td>\n",
              "      <td>0.0</td>\n",
              "      <td>0.0</td>\n",
              "      <td>0.0</td>\n",
              "      <td>596.0</td>\n",
              "      <td>1</td>\n",
              "      <td>0</td>\n",
              "      <td>0</td>\n",
              "      <td>0</td>\n",
              "      <td>0</td>\n",
              "      <td>0</td>\n",
              "      <td>0</td>\n",
              "      <td>0</td>\n",
              "      <td>0</td>\n",
              "      <td>0</td>\n",
              "      <td>0</td>\n",
              "      <td>0</td>\n",
              "      <td>0</td>\n",
              "      <td>0</td>\n",
              "      <td>0</td>\n",
              "      <td>0</td>\n",
              "      <td>0</td>\n",
              "      <td>1</td>\n",
              "      <td>0</td>\n",
              "      <td>0</td>\n",
              "      <td>0</td>\n",
              "      <td>0</td>\n",
              "      <td>0</td>\n",
              "      <td>0</td>\n",
              "      <td>0</td>\n",
              "      <td>0</td>\n",
              "      <td>...</td>\n",
              "      <td>0</td>\n",
              "      <td>0</td>\n",
              "      <td>0</td>\n",
              "      <td>0</td>\n",
              "      <td>0</td>\n",
              "      <td>0</td>\n",
              "      <td>0</td>\n",
              "      <td>0</td>\n",
              "      <td>0</td>\n",
              "      <td>0</td>\n",
              "      <td>0</td>\n",
              "      <td>0</td>\n",
              "      <td>0</td>\n",
              "      <td>0</td>\n",
              "      <td>0</td>\n",
              "      <td>0</td>\n",
              "      <td>0</td>\n",
              "      <td>0</td>\n",
              "      <td>0</td>\n",
              "      <td>0</td>\n",
              "      <td>0</td>\n",
              "      <td>0</td>\n",
              "      <td>0</td>\n",
              "      <td>0</td>\n",
              "      <td>0</td>\n",
              "      <td>0</td>\n",
              "      <td>0</td>\n",
              "      <td>0</td>\n",
              "      <td>0</td>\n",
              "      <td>0</td>\n",
              "      <td>1</td>\n",
              "      <td>0</td>\n",
              "      <td>0</td>\n",
              "      <td>0</td>\n",
              "      <td>0</td>\n",
              "      <td>0</td>\n",
              "      <td>0</td>\n",
              "      <td>0</td>\n",
              "      <td>0</td>\n",
              "      <td>0</td>\n",
              "    </tr>\n",
              "    <tr>\n",
              "      <th>2</th>\n",
              "      <td>1</td>\n",
              "      <td>2</td>\n",
              "      <td>20363</td>\n",
              "      <td>3282</td>\n",
              "      <td>11433</td>\n",
              "      <td>1143302</td>\n",
              "      <td>11193</td>\n",
              "      <td>1119302</td>\n",
              "      <td>1215.0</td>\n",
              "      <td>0.0</td>\n",
              "      <td>0.0</td>\n",
              "      <td>0.0</td>\n",
              "      <td>0.0</td>\n",
              "      <td>229.0</td>\n",
              "      <td>1</td>\n",
              "      <td>0</td>\n",
              "      <td>0</td>\n",
              "      <td>0</td>\n",
              "      <td>0</td>\n",
              "      <td>0</td>\n",
              "      <td>0</td>\n",
              "      <td>0</td>\n",
              "      <td>0</td>\n",
              "      <td>0</td>\n",
              "      <td>0</td>\n",
              "      <td>0</td>\n",
              "      <td>0</td>\n",
              "      <td>0</td>\n",
              "      <td>0</td>\n",
              "      <td>0</td>\n",
              "      <td>0</td>\n",
              "      <td>1</td>\n",
              "      <td>0</td>\n",
              "      <td>0</td>\n",
              "      <td>0</td>\n",
              "      <td>0</td>\n",
              "      <td>0</td>\n",
              "      <td>0</td>\n",
              "      <td>0</td>\n",
              "      <td>0</td>\n",
              "      <td>...</td>\n",
              "      <td>0</td>\n",
              "      <td>0</td>\n",
              "      <td>0</td>\n",
              "      <td>0</td>\n",
              "      <td>0</td>\n",
              "      <td>0</td>\n",
              "      <td>0</td>\n",
              "      <td>0</td>\n",
              "      <td>0</td>\n",
              "      <td>0</td>\n",
              "      <td>0</td>\n",
              "      <td>0</td>\n",
              "      <td>0</td>\n",
              "      <td>0</td>\n",
              "      <td>0</td>\n",
              "      <td>0</td>\n",
              "      <td>0</td>\n",
              "      <td>0</td>\n",
              "      <td>0</td>\n",
              "      <td>0</td>\n",
              "      <td>0</td>\n",
              "      <td>0</td>\n",
              "      <td>0</td>\n",
              "      <td>0</td>\n",
              "      <td>0</td>\n",
              "      <td>0</td>\n",
              "      <td>0</td>\n",
              "      <td>0</td>\n",
              "      <td>1</td>\n",
              "      <td>0</td>\n",
              "      <td>0</td>\n",
              "      <td>0</td>\n",
              "      <td>0</td>\n",
              "      <td>0</td>\n",
              "      <td>0</td>\n",
              "      <td>0</td>\n",
              "      <td>0</td>\n",
              "      <td>0</td>\n",
              "      <td>0</td>\n",
              "      <td>0</td>\n",
              "    </tr>\n",
              "    <tr>\n",
              "      <th>3</th>\n",
              "      <td>1</td>\n",
              "      <td>2</td>\n",
              "      <td>20363</td>\n",
              "      <td>3283</td>\n",
              "      <td>15249</td>\n",
              "      <td>1524906</td>\n",
              "      <td>10397</td>\n",
              "      <td>1039707</td>\n",
              "      <td>1521.0</td>\n",
              "      <td>0.0</td>\n",
              "      <td>0.0</td>\n",
              "      <td>0.0</td>\n",
              "      <td>0.0</td>\n",
              "      <td>223.0</td>\n",
              "      <td>1</td>\n",
              "      <td>0</td>\n",
              "      <td>0</td>\n",
              "      <td>0</td>\n",
              "      <td>0</td>\n",
              "      <td>0</td>\n",
              "      <td>0</td>\n",
              "      <td>0</td>\n",
              "      <td>0</td>\n",
              "      <td>0</td>\n",
              "      <td>0</td>\n",
              "      <td>0</td>\n",
              "      <td>0</td>\n",
              "      <td>0</td>\n",
              "      <td>0</td>\n",
              "      <td>0</td>\n",
              "      <td>0</td>\n",
              "      <td>1</td>\n",
              "      <td>0</td>\n",
              "      <td>0</td>\n",
              "      <td>0</td>\n",
              "      <td>0</td>\n",
              "      <td>0</td>\n",
              "      <td>0</td>\n",
              "      <td>0</td>\n",
              "      <td>0</td>\n",
              "      <td>...</td>\n",
              "      <td>0</td>\n",
              "      <td>0</td>\n",
              "      <td>0</td>\n",
              "      <td>0</td>\n",
              "      <td>0</td>\n",
              "      <td>0</td>\n",
              "      <td>0</td>\n",
              "      <td>0</td>\n",
              "      <td>0</td>\n",
              "      <td>0</td>\n",
              "      <td>0</td>\n",
              "      <td>0</td>\n",
              "      <td>0</td>\n",
              "      <td>0</td>\n",
              "      <td>0</td>\n",
              "      <td>0</td>\n",
              "      <td>0</td>\n",
              "      <td>0</td>\n",
              "      <td>0</td>\n",
              "      <td>0</td>\n",
              "      <td>0</td>\n",
              "      <td>0</td>\n",
              "      <td>0</td>\n",
              "      <td>0</td>\n",
              "      <td>0</td>\n",
              "      <td>0</td>\n",
              "      <td>0</td>\n",
              "      <td>0</td>\n",
              "      <td>0</td>\n",
              "      <td>0</td>\n",
              "      <td>0</td>\n",
              "      <td>1</td>\n",
              "      <td>0</td>\n",
              "      <td>0</td>\n",
              "      <td>0</td>\n",
              "      <td>0</td>\n",
              "      <td>0</td>\n",
              "      <td>0</td>\n",
              "      <td>0</td>\n",
              "      <td>0</td>\n",
              "    </tr>\n",
              "    <tr>\n",
              "      <th>4</th>\n",
              "      <td>1</td>\n",
              "      <td>2</td>\n",
              "      <td>20363</td>\n",
              "      <td>3284</td>\n",
              "      <td>10397</td>\n",
              "      <td>1039707</td>\n",
              "      <td>11778</td>\n",
              "      <td>1177801</td>\n",
              "      <td>1847.0</td>\n",
              "      <td>0.0</td>\n",
              "      <td>0.0</td>\n",
              "      <td>0.0</td>\n",
              "      <td>0.0</td>\n",
              "      <td>579.0</td>\n",
              "      <td>1</td>\n",
              "      <td>0</td>\n",
              "      <td>0</td>\n",
              "      <td>0</td>\n",
              "      <td>0</td>\n",
              "      <td>0</td>\n",
              "      <td>0</td>\n",
              "      <td>0</td>\n",
              "      <td>0</td>\n",
              "      <td>0</td>\n",
              "      <td>0</td>\n",
              "      <td>0</td>\n",
              "      <td>0</td>\n",
              "      <td>0</td>\n",
              "      <td>0</td>\n",
              "      <td>0</td>\n",
              "      <td>0</td>\n",
              "      <td>1</td>\n",
              "      <td>0</td>\n",
              "      <td>0</td>\n",
              "      <td>0</td>\n",
              "      <td>0</td>\n",
              "      <td>0</td>\n",
              "      <td>0</td>\n",
              "      <td>0</td>\n",
              "      <td>0</td>\n",
              "      <td>...</td>\n",
              "      <td>0</td>\n",
              "      <td>0</td>\n",
              "      <td>0</td>\n",
              "      <td>0</td>\n",
              "      <td>0</td>\n",
              "      <td>0</td>\n",
              "      <td>0</td>\n",
              "      <td>0</td>\n",
              "      <td>0</td>\n",
              "      <td>0</td>\n",
              "      <td>0</td>\n",
              "      <td>0</td>\n",
              "      <td>0</td>\n",
              "      <td>0</td>\n",
              "      <td>0</td>\n",
              "      <td>0</td>\n",
              "      <td>0</td>\n",
              "      <td>0</td>\n",
              "      <td>0</td>\n",
              "      <td>0</td>\n",
              "      <td>0</td>\n",
              "      <td>0</td>\n",
              "      <td>0</td>\n",
              "      <td>0</td>\n",
              "      <td>0</td>\n",
              "      <td>0</td>\n",
              "      <td>0</td>\n",
              "      <td>0</td>\n",
              "      <td>0</td>\n",
              "      <td>0</td>\n",
              "      <td>0</td>\n",
              "      <td>0</td>\n",
              "      <td>0</td>\n",
              "      <td>0</td>\n",
              "      <td>0</td>\n",
              "      <td>1</td>\n",
              "      <td>0</td>\n",
              "      <td>0</td>\n",
              "      <td>0</td>\n",
              "      <td>0</td>\n",
              "    </tr>\n",
              "  </tbody>\n",
              "</table>\n",
              "<p>5 rows × 759 columns</p>\n",
              "</div>"
            ],
            "text/plain": [
              "   DAY_OF_MONTH  DAY_OF_WEEK  ...  DEP_TIME_BLK_2200-2259  DEP_TIME_BLK_2300-2359\n",
              "0             1            2  ...                       0                       0\n",
              "1             1            2  ...                       0                       0\n",
              "2             1            2  ...                       0                       0\n",
              "3             1            2  ...                       0                       0\n",
              "4             1            2  ...                       0                       0\n",
              "\n",
              "[5 rows x 759 columns]"
            ]
          },
          "metadata": {
            "tags": []
          }
        }
      ]
    },
    {
      "cell_type": "code",
      "metadata": {
        "id": "5scZE880czUp",
        "colab_type": "code",
        "outputId": "d8dd49b6-4d91-408e-d4a2-f20fedb640af",
        "colab": {
          "base_uri": "https://localhost:8080/",
          "height": 35
        }
      },
      "source": [
        "print(len(target_2019))"
      ],
      "execution_count": 0,
      "outputs": [
        {
          "output_type": "stream",
          "text": [
            "583985\n"
          ],
          "name": "stdout"
        }
      ]
    },
    {
      "cell_type": "code",
      "metadata": {
        "id": "99apLmoRdd4B",
        "colab_type": "code",
        "colab": {}
      },
      "source": [
        "target_2019 = target_2019.to_numpy()"
      ],
      "execution_count": 0,
      "outputs": []
    },
    {
      "cell_type": "code",
      "metadata": {
        "id": "ubOEJ7k3lCS3",
        "colab_type": "code",
        "outputId": "5b9ffe75-3980-4969-dd63-37c95715f859",
        "colab": {
          "base_uri": "https://localhost:8080/",
          "height": 35
        }
      },
      "source": [
        "target_2019.shape"
      ],
      "execution_count": 0,
      "outputs": [
        {
          "output_type": "execute_result",
          "data": {
            "text/plain": [
              "(583985,)"
            ]
          },
          "metadata": {
            "tags": []
          },
          "execution_count": 16
        }
      ]
    },
    {
      "cell_type": "code",
      "metadata": {
        "id": "JOnq4xDWeB-e",
        "colab_type": "code",
        "colab": {}
      },
      "source": [
        "data_set_2019 = data_set_2019.to_numpy()"
      ],
      "execution_count": 0,
      "outputs": []
    },
    {
      "cell_type": "code",
      "metadata": {
        "id": "Y6TNYJfij4JX",
        "colab_type": "code",
        "outputId": "bec68b60-dce0-44de-addb-2dd3c4efa159",
        "colab": {
          "base_uri": "https://localhost:8080/",
          "height": 35
        }
      },
      "source": [
        "print(data_set_2019.shape)"
      ],
      "execution_count": 0,
      "outputs": [
        {
          "output_type": "stream",
          "text": [
            "(583985, 759)\n"
          ],
          "name": "stdout"
        }
      ]
    },
    {
      "cell_type": "code",
      "metadata": {
        "id": "akSuPjJZkOnm",
        "colab_type": "code",
        "colab": {}
      },
      "source": [
        "target_2019 = shuffle(target_2019)"
      ],
      "execution_count": 0,
      "outputs": []
    },
    {
      "cell_type": "code",
      "metadata": {
        "id": "DDnch0RnkvJd",
        "colab_type": "code",
        "outputId": "ac2170ff-969a-47a7-f7a3-973301d65c5c",
        "colab": {
          "base_uri": "https://localhost:8080/",
          "height": 35
        }
      },
      "source": [
        "print(target_2019.shape)"
      ],
      "execution_count": 0,
      "outputs": [
        {
          "output_type": "stream",
          "text": [
            "(583985,)\n"
          ],
          "name": "stdout"
        }
      ]
    },
    {
      "cell_type": "code",
      "metadata": {
        "id": "-aaAEwJkrT21",
        "colab_type": "code",
        "colab": {}
      },
      "source": [
        "data_set_2019 = data_set_2019.astype(\"float32\")\n",
        "target_2019 = target_2019.astype(\"float32\")"
      ],
      "execution_count": 0,
      "outputs": []
    },
    {
      "cell_type": "code",
      "metadata": {
        "id": "jhrRPCaNoKdV",
        "colab_type": "code",
        "colab": {}
      },
      "source": [
        "mean = np.mean(data_set_2019, axis = 0)\n",
        "std = np.std(data_set_2019, axis = 0)\n",
        "\n",
        "data_set_2019 -= mean\n",
        "data_set_2019 /= std"
      ],
      "execution_count": 0,
      "outputs": []
    },
    {
      "cell_type": "code",
      "metadata": {
        "id": "i31WRC5Vo42_",
        "colab_type": "code",
        "colab": {}
      },
      "source": [
        "mean = np.mean(target_2019, axis = 0)\n",
        "std = np.std(target_2019, axis = 0)\n",
        "\n",
        "target_2019 -= mean\n",
        "target_2019 /= std"
      ],
      "execution_count": 0,
      "outputs": []
    },
    {
      "cell_type": "code",
      "metadata": {
        "id": "aaZpy56ElzRT",
        "colab_type": "code",
        "colab": {}
      },
      "source": [
        "data_set_2019 = shuffle(data_set_2019)"
      ],
      "execution_count": 0,
      "outputs": []
    },
    {
      "cell_type": "code",
      "metadata": {
        "id": "zjq2mgXGN7ZO",
        "colab_type": "code",
        "colab": {}
      },
      "source": [
        "train_data = data_set_2019[194661:]\n",
        "test_data = data_set_2019[:194661]"
      ],
      "execution_count": 0,
      "outputs": []
    },
    {
      "cell_type": "code",
      "metadata": {
        "id": "yhCUKbqzOn7l",
        "colab_type": "code",
        "outputId": "312d1d41-7374-4b0e-c03c-65a31a5272f8",
        "colab": {
          "base_uri": "https://localhost:8080/",
          "height": 54
        }
      },
      "source": [
        "print(train_data.shape)\n",
        "print(test_data.shape)"
      ],
      "execution_count": 0,
      "outputs": [
        {
          "output_type": "stream",
          "text": [
            "(389324, 759)\n",
            "(194661, 759)\n"
          ],
          "name": "stdout"
        }
      ]
    },
    {
      "cell_type": "code",
      "metadata": {
        "id": "MFQyCQw2OwCS",
        "colab_type": "code",
        "colab": {}
      },
      "source": [
        "train_target = target_2019[194661:]\n",
        "test_target = target_2019[:194661]"
      ],
      "execution_count": 0,
      "outputs": []
    },
    {
      "cell_type": "code",
      "metadata": {
        "id": "kuFBNEqDT2bq",
        "colab_type": "code",
        "outputId": "c86c6ad5-dd73-458f-e934-1c762a3a16a3",
        "colab": {
          "base_uri": "https://localhost:8080/",
          "height": 54
        }
      },
      "source": [
        "print(train_target.shape)\n",
        "print(test_target.shape)"
      ],
      "execution_count": 0,
      "outputs": [
        {
          "output_type": "stream",
          "text": [
            "(389324,)\n",
            "(194661,)\n"
          ],
          "name": "stdout"
        }
      ]
    },
    {
      "cell_type": "code",
      "metadata": {
        "id": "GQQyKG9hn-Eg",
        "colab_type": "code",
        "colab": {}
      },
      "source": [
        ""
      ],
      "execution_count": 0,
      "outputs": []
    },
    {
      "cell_type": "code",
      "metadata": {
        "id": "SrJzz1hZVtww",
        "colab_type": "code",
        "colab": {}
      },
      "source": [
        "model = models.Sequential()\n",
        "model.add(layers.Dense(128, input_shape = (759,), activation = \"relu\"))\n",
        "model.add(layers.Dense(128, activation = \"relu\"))\n",
        "model.add(layers.Dense(512, activation = \"relu\"))\n",
        "model.add(layers.Dense(512, activation = \"relu\"))\n",
        "model.add(layers.Dense(1))\n",
        "\n",
        "model.compile(\n",
        "    loss = \"mse\",\n",
        "    optimizer = optimizers.RMSprop(),\n",
        "    metrics = [\"mae\"]\n",
        ")"
      ],
      "execution_count": 0,
      "outputs": []
    },
    {
      "cell_type": "code",
      "metadata": {
        "id": "aaaSOHj6YrrR",
        "colab_type": "code",
        "colab": {}
      },
      "source": [
        "val_data = train_data[:129774]            # total : 389324\n",
        "partial_train_data = train_data[129774:]\n",
        "\n",
        "val_target = train_target[:129774]\n",
        "partial_train_target = train_target[129774:]"
      ],
      "execution_count": 0,
      "outputs": []
    },
    {
      "cell_type": "code",
      "metadata": {
        "id": "QlxHcmHcZoDe",
        "colab_type": "code",
        "colab": {}
      },
      "source": [
        "history = model.fit(\n",
        "    partial_train_data, partial_train_target, epochs = 100, batch_size = 512, validation_data = (val_data, val_target), validation_batch_size = 128\n",
        ")"
      ],
      "execution_count": 0,
      "outputs": []
    },
    {
      "cell_type": "code",
      "metadata": {
        "id": "Q7q6LbZtbIZc",
        "colab_type": "code",
        "colab": {}
      },
      "source": [
        "storagepath = \"drive/My Drive/deeplearning/\"\n",
        "def save_data(model, history, iteration):\n",
        "  model_file = storagepath + \"flight_dely_model\" + str(iteration).strip() + \".h5\"\n",
        "  historyfile = storagepath + \"flight_dely_history\" + str(iteration).strip() + \".pkle\"\n",
        "  model.save(model_file)\n",
        "  with open(historyfile, \"wb\") as fp:\n",
        "    pickle.dump(history, fp)\n",
        "  return model, history\n",
        "def load_data(iteration):\n",
        "  model_file = storagepath + \"flight_dely_model\" + str(iteration).strip() + \".h5\"\n",
        "  historyfile = storagepath + \"flight_dely_history\" + str(iteration).strip() + \".pkle\"\n",
        "  model = models.load_model(model_file)\n",
        "  with open(historyfile, \"rb\") as fp:\n",
        "    history = pickle.load(fp)\n",
        "  return model,  history"
      ],
      "execution_count": 0,
      "outputs": []
    },
    {
      "cell_type": "code",
      "metadata": {
        "id": "1pDUB-G6wDC3",
        "colab_type": "code",
        "colab": {}
      },
      "source": [
        "# save_data(model, history, 1)"
      ],
      "execution_count": 0,
      "outputs": []
    },
    {
      "cell_type": "code",
      "metadata": {
        "id": "Roaz6uaMwHjF",
        "colab_type": "code",
        "colab": {}
      },
      "source": [
        "model, history = load_data(1)"
      ],
      "execution_count": 0,
      "outputs": []
    },
    {
      "cell_type": "code",
      "metadata": {
        "id": "HtbnhLsdPmjD",
        "colab_type": "code",
        "outputId": "f12380d7-b897-44ed-d746-2bb0cfc7d4f1",
        "colab": {
          "base_uri": "https://localhost:8080/",
          "height": 35
        }
      },
      "source": [
        "history = history.history\n",
        "history.keys()"
      ],
      "execution_count": 0,
      "outputs": [
        {
          "output_type": "execute_result",
          "data": {
            "text/plain": [
              "dict_keys(['loss', 'mae', 'val_loss', 'val_mae'])"
            ]
          },
          "metadata": {
            "tags": []
          },
          "execution_count": 38
        }
      ]
    },
    {
      "cell_type": "code",
      "metadata": {
        "id": "Muoi41puP7f6",
        "colab_type": "code",
        "outputId": "4f2a7014-cd24-4ae4-ceee-c500a52b4fe7",
        "colab": {
          "base_uri": "https://localhost:8080/",
          "height": 295
        }
      },
      "source": [
        "epochs = range(1, len(history[\"val_mae\"])+ 1)\n",
        "plt.plot(epochs, history[\"val_mae\"], \"b\", label = \"val_mae\")\n",
        "plt.plot(epochs, history[\"mae\"], \"go\", label = \"mae\")\n",
        "plt.xlabel(\"Epochs\")\n",
        "plt.ylabel(\"Mae\")\n",
        "plt.title(\"Mae Plot\")\n",
        "plt.legend()\n",
        "plt.show()"
      ],
      "execution_count": 0,
      "outputs": [
        {
          "output_type": "display_data",
          "data": {
            "image/png": "[encoded data removed]",
            "text/plain": [
              "<Figure size 432x288 with 1 Axes>"
            ]
          },
          "metadata": {
            "tags": [],
            "needs_background": "light"
          }
        }
      ]
    },
    {
      "cell_type": "code",
      "metadata": {
        "id": "UBhzkbuYQLSK",
        "colab_type": "code",
        "colab": {}
      },
      "source": [
        "model = models.Sequential()\n",
        "model.add(layers.Dense(128, input_shape = (759,), activation = \"relu\"))\n",
        "model.add(layers.Dense(128, activation = \"relu\"))\n",
        "model.add(layers.Dense(512, activation = \"relu\"))\n",
        "model.add(layers.Dense(512, activation = \"relu\"))\n",
        "model.add(layers.Dense(1))\n",
        "\n",
        "model.compile(\n",
        "    loss = \"mse\",\n",
        "    optimizer = optimizers.RMSprop(),\n",
        "    metrics = [\"mae\"]\n",
        ")\n",
        "history = model.fit(\n",
        "    partial_train_data, partial_train_target, epochs = 100, batch_size = 512, validation_data = (val_data, val_target)\n",
        ")"
      ],
      "execution_count": 0,
      "outputs": []
    },
    {
      "cell_type": "code",
      "metadata": {
        "id": "be6uLDTOR5vn",
        "colab_type": "code",
        "outputId": "a3a9e8a4-81fb-4ce5-cf16-f9ca2017264f",
        "colab": {
          "base_uri": "https://localhost:8080/",
          "height": 295
        }
      },
      "source": [
        "history = history.history\n",
        "epochs = range(1, len(history[\"val_mae\"])+ 1)\n",
        "plt.plot(epochs, history[\"val_mae\"], \"b\", label = \"val_mae\")\n",
        "plt.plot(epochs, history[\"mae\"], \"go\", label = \"mae\")\n",
        "plt.xlabel(\"Epochs\")\n",
        "plt.ylabel(\"Mae\")\n",
        "plt.title(\"Mae Plot\")\n",
        "plt.legend()\n",
        "plt.show()"
      ],
      "execution_count": 0,
      "outputs": [
        {
          "output_type": "display_data",
          "data": {
            "image/png": "[encoded data removed]",
            "text/plain": [
              "<Figure size 432x288 with 1 Axes>"
            ]
          },
          "metadata": {
            "tags": [],
            "needs_background": "light"
          }
        }
      ]
    },
    {
      "cell_type": "code",
      "metadata": {
        "id": "vG1A86Y6Sz9v",
        "colab_type": "code",
        "colab": {}
      },
      "source": [
        "model = models.Sequential()\n",
        "model.add(layers.Dense(64, input_shape = (759,), activation = \"relu\"))\n",
        "model.add(layers.Dense(64, activation = \"relu\"))\n",
        "model.add(layers.Dense(128, activation = \"relu\"))\n",
        "model.add(layers.Dense(128, activation = \"relu\"))\n",
        "model.add(layers.Dense(1))\n",
        "\n",
        "model.compile(\n",
        "    loss = \"mse\",\n",
        "    optimizer = optimizers.RMSprop(),\n",
        "    metrics = [\"mae\"]\n",
        ")\n",
        "history = model.fit(\n",
        "    partial_train_data, partial_train_target, epochs = 100, batch_size = 512, validation_data = (val_data, val_target), validation_batch_size = 128\n",
        ")"
      ],
      "execution_count": 0,
      "outputs": []
    },
    {
      "cell_type": "code",
      "metadata": {
        "id": "QuJeZdfITFBN",
        "colab_type": "code",
        "outputId": "68bd5658-2df0-4ffa-d47a-a5439ecd9f70",
        "colab": {
          "base_uri": "https://localhost:8080/",
          "height": 295
        }
      },
      "source": [
        "history = history.history\n",
        "epochs = range(1, len(history[\"val_mae\"])+ 1)\n",
        "plt.plot(epochs, history[\"val_mae\"], \"b\", label = \"val_mae\")\n",
        "plt.plot(epochs, history[\"mae\"], \"go\", label = \"mae\")\n",
        "plt.xlabel(\"Epochs\")\n",
        "plt.ylabel(\"Mae\")\n",
        "plt.title(\"Mae Plot\")\n",
        "plt.legend()\n",
        "plt.show()"
      ],
      "execution_count": 0,
      "outputs": [
        {
          "output_type": "display_data",
          "data": {
            "image/png": "[encoded data removed]",
            "text/plain": [
              "<Figure size 432x288 with 1 Axes>"
            ]
          },
          "metadata": {
            "tags": [],
            "needs_background": "light"
          }
        }
      ]
    },
    {
      "cell_type": "code",
      "metadata": {
        "id": "su50wY_zUlEY",
        "colab_type": "code",
        "colab": {}
      },
      "source": [
        "model = models.Sequential()\n",
        "model.add(layers.Dense(32, input_shape = (759,), activation = \"relu\"))\n",
        "model.add(layers.Dense(64, activation = \"relu\"))\n",
        "model.add(layers.Dense(64, activation = \"relu\"))\n",
        "model.add(layers.Dense(1))\n",
        "\n",
        "model.compile(\n",
        "    loss = \"mse\",\n",
        "    optimizer = optimizers.RMSprop(),\n",
        "    metrics = [\"mae\"]\n",
        ")\n",
        "history = model.fit(\n",
        "    partial_train_data, partial_train_target, epochs = 100, batch_size = 512, validation_data = (val_data, val_target), validation_batch_size = 128\n",
        ")"
      ],
      "execution_count": 0,
      "outputs": []
    },
    {
      "cell_type": "code",
      "metadata": {
        "id": "WR8BocxGUuWy",
        "colab_type": "code",
        "outputId": "1fe32241-1ee6-4306-e4e9-8a27e50b7b3b",
        "colab": {
          "base_uri": "https://localhost:8080/",
          "height": 295
        }
      },
      "source": [
        "history = history.history\n",
        "epochs = range(1, len(history[\"val_mae\"])+ 1)\n",
        "plt.plot(epochs, history[\"val_mae\"], \"b\", label = \"val mae\")\n",
        "plt.plot(epochs, history[\"mae\"], \"go\", label = \"mae\")\n",
        "plt.xlabel(\"Epochs\")\n",
        "plt.ylabel(\"Mae\")\n",
        "plt.title(\"Mae Plot\")\n",
        "plt.legend()\n",
        "plt.show()"
      ],
      "execution_count": 0,
      "outputs": [
        {
          "output_type": "display_data",
          "data": {
            "image/png": "[encoded data removed]",
            "text/plain": [
              "<Figure size 432x288 with 1 Axes>"
            ]
          },
          "metadata": {
            "tags": [],
            "needs_background": "light"
          }
        }
      ]
    },
    {
      "cell_type": "code",
      "metadata": {
        "id": "lLF7Rm1lWvVu",
        "colab_type": "code",
        "colab": {}
      },
      "source": [
        "model = models.Sequential()\n",
        "model.add(layers.Dense(32, input_shape = (759,), activation = \"relu\"))\n",
        "model.add(layers.Dense(64, activation = \"relu\"))\n",
        "model.add(layers.Dense(1))\n",
        "\n",
        "model.compile(\n",
        "    loss = \"mse\",\n",
        "    optimizer = optimizers.RMSprop(),\n",
        "    metrics = [\"mae\"]\n",
        ")\n",
        "history = model.fit(\n",
        "    partial_train_data, partial_train_target, epochs = 100, batch_size = 512, validation_data = (val_data, val_target), validation_batch_size = 128\n",
        ")"
      ],
      "execution_count": 0,
      "outputs": []
    },
    {
      "cell_type": "code",
      "metadata": {
        "id": "nYmmwjSKXCrN",
        "colab_type": "code",
        "outputId": "f2d4847c-ef9f-4e7b-ceb5-81689903599b",
        "colab": {
          "base_uri": "https://localhost:8080/",
          "height": 295
        }
      },
      "source": [
        "history = history.history\n",
        "epochs = range(1, len(history[\"val_mae\"])+ 1)\n",
        "plt.plot(epochs, history[\"val_mae\"], \"b\", label = \"val mae\")\n",
        "plt.plot(epochs, history[\"mae\"], \"go\", label = \"mae\")\n",
        "plt.xlabel(\"Epochs\")\n",
        "plt.ylabel(\"Mae\")\n",
        "plt.title(\"Mae Plot\")\n",
        "plt.legend()\n",
        "plt.show()"
      ],
      "execution_count": 0,
      "outputs": [
        {
          "output_type": "display_data",
          "data": {
            "image/png": "[encoded data removed]",
            "text/plain": [
              "<Figure size 432x288 with 1 Axes>"
            ]
          },
          "metadata": {
            "tags": [],
            "needs_background": "light"
          }
        }
      ]
    },
    {
      "cell_type": "code",
      "metadata": {
        "id": "rI5abym4Y_gj",
        "colab_type": "code",
        "outputId": "ae7aa67a-2821-4ab5-93f4-0cb9dff375ae",
        "colab": {
          "base_uri": "https://localhost:8080/",
          "height": 35
        }
      },
      "source": [
        "print(0.8410  - 0.7789)"
      ],
      "execution_count": 0,
      "outputs": [
        {
          "output_type": "stream",
          "text": [
            "0.06209999999999993\n"
          ],
          "name": "stdout"
        }
      ]
    },
    {
      "cell_type": "code",
      "metadata": {
        "id": "qpZK0OsXZJUK",
        "colab_type": "code",
        "colab": {}
      },
      "source": [
        "model = models.Sequential()\n",
        "model.add(layers.Dense(32, input_shape = (759,), activation = \"relu\"))\n",
        "model.add(layers.Dense(32, activation = \"relu\"))\n",
        "model.add(layers.Dense(64, activation = \"relu\"))\n",
        "model.add(layers.Dense(64, activation = \"relu\"))\n",
        "model.add(layers.Dense(1))\n",
        "\n",
        "model.compile(\n",
        "    loss = \"mse\",\n",
        "    optimizer = optimizers.RMSprop(),\n",
        "    metrics = [\"mae\"]\n",
        ")\n",
        "history = model.fit(\n",
        "    partial_train_data, partial_train_target, epochs = 30, batch_size = 512, validation_data = (val_data, val_target), validation_batch_size = 128\n",
        ")"
      ],
      "execution_count": 0,
      "outputs": []
    },
    {
      "cell_type": "code",
      "metadata": {
        "id": "XHQe5dBmZS9U",
        "colab_type": "code",
        "outputId": "3c285a57-5a0e-4eef-e55d-2459994f471b",
        "colab": {
          "base_uri": "https://localhost:8080/",
          "height": 295
        }
      },
      "source": [
        "history = history.history\n",
        "epochs = range(1, len(history[\"val_mae\"])+ 1)\n",
        "plt.plot(epochs, history[\"val_mae\"], \"b\", label = \"val mae\")\n",
        "plt.plot(epochs, history[\"mae\"], \"go\", label = \"mae\")\n",
        "plt.xlabel(\"Epochs\")\n",
        "plt.ylabel(\"Mae\")\n",
        "plt.title(\"Mae Plot\")\n",
        "plt.legend()\n",
        "plt.show()"
      ],
      "execution_count": 0,
      "outputs": [
        {
          "output_type": "display_data",
          "data": {
            "image/png": "[encoded data removed]",
            "text/plain": [
              "<Figure size 432x288 with 1 Axes>"
            ]
          },
          "metadata": {
            "tags": [],
            "needs_background": "light"
          }
        }
      ]
    },
    {
      "cell_type": "code",
      "metadata": {
        "id": "Sue8oie1cWmZ",
        "colab_type": "code",
        "colab": {}
      },
      "source": [
        "model = models.Sequential()\n",
        "model.add(layers.Dense(32, input_shape = (759,), activation = \"relu\", kernel_regularizer = regularizers.l2(0.001)))\n",
        "model.add(layers.Dense(32, activation = \"relu\", kernel_regularizer = regularizers.l2(0.001)))\n",
        "model.add(layers.Dense(64, activation = \"relu\", kernel_regularizer = regularizers.l2(0.001)))\n",
        "model.add(layers.Dense(64, activation = \"relu\", kernel_regularizer = regularizers.l2(0.001)))\n",
        "model.add(layers.Dense(1))\n",
        "\n",
        "model.compile(\n",
        "    loss = \"mse\",\n",
        "    optimizer = optimizers.RMSprop(),\n",
        "    metrics = [\"mae\"]\n",
        ")\n",
        "history = model.fit(\n",
        "    partial_train_data, partial_train_target, epochs = 30, batch_size = 512, validation_data = (val_data, val_target), validation_batch_size = 128\n",
        ")"
      ],
      "execution_count": 0,
      "outputs": []
    },
    {
      "cell_type": "code",
      "metadata": {
        "id": "2lYc4R76coUU",
        "colab_type": "code",
        "outputId": "a9b820cc-9cf2-4397-a65f-79d367e50fcd",
        "colab": {
          "base_uri": "https://localhost:8080/",
          "height": 295
        }
      },
      "source": [
        "history = history.history\n",
        "epochs = range(1, len(history[\"val_mae\"])+ 1)\n",
        "plt.plot(epochs, history[\"val_mae\"], \"b\", label = \"val mae\")\n",
        "plt.plot(epochs, history[\"mae\"], \"go\", label = \"mae\")\n",
        "plt.xlabel(\"Epochs\")\n",
        "plt.ylabel(\"Mae\")\n",
        "plt.title(\"Mae Plot\")\n",
        "plt.legend()\n",
        "plt.show()"
      ],
      "execution_count": 0,
      "outputs": [
        {
          "output_type": "display_data",
          "data": {
            "image/png": "[encoded data removed]",
            "text/plain": [
              "<Figure size 432x288 with 1 Axes>"
            ]
          },
          "metadata": {
            "tags": [],
            "needs_background": "light"
          }
        }
      ]
    },
    {
      "cell_type": "code",
      "metadata": {
        "id": "otU4qr1qdWDM",
        "colab_type": "code",
        "outputId": "af8aedc5-b63d-4dbb-bca2-f65e5845d00e",
        "colab": {
          "base_uri": "https://localhost:8080/",
          "height": 54
        }
      },
      "source": [
        "model.evaluate(test_data, test_target)"
      ],
      "execution_count": 0,
      "outputs": [
        {
          "output_type": "stream",
          "text": [
            "6084/6084 [==============================] - 11s 2ms/step - loss: 0.9998 - mae: 0.8174\n"
          ],
          "name": "stdout"
        },
        {
          "output_type": "execute_result",
          "data": {
            "text/plain": [
              "[0.9998437166213989, 0.8173831701278687]"
            ]
          },
          "metadata": {
            "tags": []
          },
          "execution_count": 24
        }
      ]
    },
    {
      "cell_type": "code",
      "metadata": {
        "id": "WkCD1BAwdif6",
        "colab_type": "code",
        "outputId": "a34e3f5e-5790-492f-f766-e863fe8228fd",
        "colab": {
          "base_uri": "https://localhost:8080/",
          "height": 35
        }
      },
      "source": [
        "prediction = model.predict(test_data)\n",
        "prediction[0]"
      ],
      "execution_count": 0,
      "outputs": [
        {
          "output_type": "execute_result",
          "data": {
            "text/plain": [
              "array([-0.00070958], dtype=float32)"
            ]
          },
          "metadata": {
            "tags": []
          },
          "execution_count": 31
        }
      ]
    },
    {
      "cell_type": "code",
      "metadata": {
        "id": "hPUfU85Zdt1x",
        "colab_type": "code",
        "colab": {}
      },
      "source": [
        "save_data(model, history, 2)"
      ],
      "execution_count": 0,
      "outputs": []
    }
  ]
}